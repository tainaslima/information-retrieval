{
  "nbformat": 4,
  "nbformat_minor": 0,
  "metadata": {
    "colab": {
      "name": "Exercicio6e7RI_TainaRafael.ipynb",
      "provenance": [],
      "collapsed_sections": []
    },
    "kernelspec": {
      "name": "python3",
      "display_name": "Python 3"
    }
  },
  "cells": [
    {
      "cell_type": "markdown",
      "metadata": {
        "id": "tg_LJgAMLSi6"
      },
      "source": [
        "###Unidade 5  - Recuperação da Informação\n",
        "Aluno(a): Tainá da Silva Lima\n",
        "<br>\n",
        "DRE: 116165607\n",
        "<br><br>\n",
        "Aluno(a): Rafael Pais Cardoso\n",
        "<br>\n",
        "DRE: 116140788\n",
        "<br><br>\n",
        "Professor(a): Giseli Lopes\n",
        "<br>\n",
        "Período: 2020.4 PLE"
      ]
    },
    {
      "cell_type": "markdown",
      "metadata": {
        "id": "Vfo1W590Dt1Z"
      },
      "source": [
        "# Importando as bibliotecas necessárias aos exercícios realizados nesse trabalho"
      ]
    },
    {
      "cell_type": "code",
      "metadata": {
        "id": "ESwW5Yc1QoGG"
      },
      "source": [
        "import numpy as np\n",
        "import math\n",
        "from prettytable import PrettyTable"
      ],
      "execution_count": null,
      "outputs": []
    },
    {
      "cell_type": "markdown",
      "metadata": {
        "id": "4ncD2fsBD0Mi"
      },
      "source": [
        "# Funções"
      ]
    },
    {
      "cell_type": "markdown",
      "metadata": {
        "id": "OgE0snOLHIgP"
      },
      "source": [
        "Pré-processamento da coleção"
      ]
    },
    {
      "cell_type": "code",
      "metadata": {
        "id": "XOpxraUyMZb3"
      },
      "source": [
        "# M             --> Vetor coluna onde cada linha representa o texto de um documento (matriz Nx1).\n",
        "# separadores   --> Vetor linha de caracteres (matriz 1xNc), onde o elemento em cada coluna representa um separador a ser usado na tokenização dos documentos.\n",
        "# stopwords     --> Vetor linha de strings (matriz 1xNs), onde o elemento em cada coluna armazena uma stopword.\n",
        "# Essa função aplica as etapas de pré-processamento nos documentos.\n",
        "def normalizacaoTokenizacao(M, separadores, stopwords):\n",
        "\n",
        "  matriz = []\n",
        "\n",
        "  for index in range(0, len(M)):\n",
        "\n",
        "    # Recebe o texto de um novo documento a cada iteração.\n",
        "    documentoTemporario = M[index][0]\n",
        "\n",
        "    # Remoção dos delimitadores e normalização.\n",
        "    for delimitador in separadores:\n",
        "      documentoTemporario = documentoTemporario.lower().replace(delimitador, \" \")\n",
        "\n",
        "    # Obtenção dos possíveis tokens\n",
        "    tokens = documentoTemporario.split()\n",
        "\n",
        "    # Remoção das stopwords e armazenamento dos tokens em uma matriz Nx1 (cada linha representa um documento e a coluna apresenta a lista de tokens extraídos do documento).\n",
        "    matriz.append(list(filter(lambda a: a not in stopwords, tokens)))\n",
        "    \n",
        "  return matriz"
      ],
      "execution_count": null,
      "outputs": []
    },
    {
      "cell_type": "markdown",
      "metadata": {
        "id": "AUdEtLbgHP5a"
      },
      "source": [
        "Pré-processamento da consulta"
      ]
    },
    {
      "cell_type": "code",
      "metadata": {
        "id": "Q0cSHVItNF-Y"
      },
      "source": [
        "# consulta      --> String contendo os termos da consulta.\n",
        "# separadores   --> Vetor linha de caracteres (matriz 1xNc), onde o elemento em cada coluna representa um separador a ser usado na tokenização dos documentos.\n",
        "# stopwords     --> Vetor linha de strings (matriz 1xNs), onde o elemento em cada coluna armazena uma stopword.\n",
        "# Essa função aplica as etapas de pré-processamento na consulta.\n",
        "def tratamentoConsulta(consulta, separadores, stopwords):\n",
        "\n",
        "  consultaTratada = consulta\n",
        "  for delimitador in separadores:\n",
        "      consultaTratada = consultaTratada.lower().replace(delimitador, \" \")\n",
        "  \n",
        "  consultaTratada = consultaTratada.split()\n",
        "  \n",
        "  consultaTratada = list(filter(lambda a: a not in stopwords, consultaTratada))\n",
        "  \n",
        "  return consultaTratada"
      ],
      "execution_count": null,
      "outputs": []
    },
    {
      "cell_type": "markdown",
      "metadata": {
        "id": "V9kkvbivHpnK"
      },
      "source": [
        "Determinação da frequência do termo no documento"
      ]
    },
    {
      "cell_type": "code",
      "metadata": {
        "id": "O8ynT88lHo7i"
      },
      "source": [
        "# termo     --> String contendo um único elemento.\n",
        "# documento --> Vetor de string (matriz 1x1), que representa o texto de um único documento da coleção.\n",
        "# Calcula a frequência de um determinado termo em um documento específico.\n",
        "def freqDoc(termo, documento):\n",
        "  return documento.count(termo)"
      ],
      "execution_count": null,
      "outputs": []
    },
    {
      "cell_type": "markdown",
      "metadata": {
        "id": "W5xtR6dzJpRt"
      },
      "source": [
        "Determinação da frequência do termo na coleção"
      ]
    },
    {
      "cell_type": "code",
      "metadata": {
        "id": "YETukYYBJrc0"
      },
      "source": [
        "# termo   --> String contendo um único elemento.\n",
        "# colecao --> Vetor de string (matriz 1x1), que representa o texto de um único documento da coleção.\n",
        "# Calcula a frequência de um determinado termo em um documento específico.\n",
        "def freqCol(termo, colecao):\n",
        "  contaTermo = 0\n",
        "  for documento in colecao:\n",
        "    if(termo in documento):\n",
        "      contaTermo+= 1\n",
        "  return contaTermo"
      ],
      "execution_count": null,
      "outputs": []
    },
    {
      "cell_type": "markdown",
      "metadata": {
        "id": "t9YPCPVlHeBs"
      },
      "source": [
        "Cálculo TF-IDF\n",
        "\n",
        "Aplicamos a fórmula abaixo para calcular o peso para os termos dos documentos e para a consulta \n",
        "\n",
        "$\\left ( 1+\\log f_{i,j}\\right ) * \\left ( \\log\\frac{N}{^{N_{i}}} \\right )$"
      ]
    },
    {
      "cell_type": "code",
      "metadata": {
        "id": "OoCJNQpuHdrc"
      },
      "source": [
        "# colecao --> Vetor coluna onde cada linha representa o texto de um documento que foi pré-processado, ou seja, foi aplicado normalização e tokenização.\n",
        "# Esta função realiza a ponderação TF-IDF nos termos dos documentos e retorna um dicionário de dicionário em que a chave do dicionário mais externo se \n",
        "# refere ao documento e o valor associado à chave é um outro dicionário em que a chave é o termo e o valor associado é o seu peso.\n",
        "def ponderacaoTF_IDF(colecao):\n",
        "\n",
        "  termoLista      = []\n",
        "  dicionarioPeso  = {}\n",
        "\n",
        "  # Insere os termos dos documentos na lista \"termoLista\", mas sem repetição\n",
        "  for documentos in colecao:\n",
        "    for termo in documentos:\n",
        "      if(termo not in termoLista):\n",
        "        termoLista.append(termo)\n",
        "\n",
        "  numeroDocumento = 0\n",
        "\n",
        "  # Aplicação da fórmula do \"Esquema de ponderação 3\" do slide da aula\n",
        "  for documento in colecao:\n",
        "    dicionarioTemp = {}\n",
        "    for termo in termoLista:\n",
        "      peso = 0\n",
        "      if(termo in documento):\n",
        "        peso = (1 + math.log2(freqDoc(termo, documento))) * (math.log2(len(colecao)/freqCol(termo, colecao)))\n",
        "      if(termo not in dicionarioTemp.keys()):\n",
        "        dicionarioTemp[termo] = peso\n",
        "\n",
        "    dicionarioPeso[numeroDocumento] = dicionarioTemp\n",
        "    numeroDocumento+= 1\n",
        "\n",
        "  return dicionarioPeso"
      ],
      "execution_count": null,
      "outputs": []
    },
    {
      "cell_type": "code",
      "metadata": {
        "id": "LRYR9tXTcZi-"
      },
      "source": [
        "# colecao         --> Vetor coluna onde cada linha representa o texto de um documento que foi pré-processado, ou seja, foi aplicado normalização e tokenização.\n",
        "# consultaTratada --> Lista com os termos da consulta pré-processados\n",
        "# Realiza a ponderação TF-IDF nos termos da consulta e retorna um dicionário em que as chaves são os termos e os valores são os respectivos pesos.\n",
        "def ponderacaoTF_IDF2(colecao, consultaTratada):\n",
        "\n",
        "  termoLista = []\n",
        "\n",
        "  # Insere os termos dos documentos na lista \"termoLista\", mas sem repetição\n",
        "  for documentos in colecao:\n",
        "    for termo in documentos:\n",
        "      if(termo not in termoLista):\n",
        "        termoLista.append(termo)\n",
        "\n",
        "  numeroDocumento = 0\n",
        "\n",
        "  dicionarioTemp  = {}\n",
        "\n",
        "  # Aplicação da fórmula do \"Esquema de ponderação 3\" do slide da aula\n",
        "  for termo in termoLista:\n",
        "    peso = 0\n",
        "    if(termo in consultaTratada):\n",
        "      peso = (1 + math.log2( freqDoc(termo, consultaTratada) ) ) * (math.log2( len(colecao) / freqCol(termo, colecao) ) )\n",
        "    if(termo not in dicionarioTemp.keys()):\n",
        "      dicionarioTemp[termo] = peso\n",
        "\n",
        "  return dicionarioTemp\n",
        "\n",
        "\n",
        "# vetorConsulta --> consulta representada como vetores de termos com pesos associados\n",
        "# vetorDoc      --> documento representado como vetores de termos com pesos associados\n",
        "# Cálculo do cosseno do ângulo formado com o vetor da consulta e o vetor do documento\n",
        "def sim(vetorDoc, vetorConsulta):\n",
        "  somatorio = 0\n",
        "\n",
        "  for i,j in zip(vetorDoc.keys(),range(len(vetorDoc))):\n",
        "    somatorio += vetorDoc[i] * vetorConsulta[j]\n",
        "\n",
        "  moduloVetorDoc      = np.linalg.norm(np.array(list(vetorDoc.values())))\n",
        "  moduloVetorConsulta = np.linalg.norm(np.array(vetorConsulta))\n",
        "\n",
        "  return somatorio/(moduloVetorDoc*moduloVetorConsulta)\n",
        "\n",
        "\n",
        "# dicPesosDoc      --> dicionário obtido da ponderação TF-IDF aplicada nos documentos\n",
        "# dicPesosConsulta --> dicionário obtido da ponderação TF-IDF aplicada na consulta\n",
        "# Aplica o ranqueamento dos documentos\n",
        "def rank(dicPesosDoc, dicPesosConsulta):\n",
        "  \n",
        "  dicRank = {}\n",
        "\n",
        "  for key in dicPesosDoc.keys():\n",
        "    rankDict = sim(dicPesosDoc[key], list(dicPesosConsulta.values()))\n",
        "    dicRank[key] = rankDict\n",
        "  \n",
        "  return dicRank"
      ],
      "execution_count": null,
      "outputs": []
    },
    {
      "cell_type": "markdown",
      "metadata": {
        "id": "1jThDMdOEQ5b"
      },
      "source": [
        "# Exemplo 1\n"
      ]
    },
    {
      "cell_type": "markdown",
      "metadata": {
        "id": "BhFDy8M5FBy0"
      },
      "source": [
        "Coleção, stopwords, consulta e separadores"
      ]
    },
    {
      "cell_type": "code",
      "metadata": {
        "id": "gJFVuegcMBPo"
      },
      "source": [
        "# Conjunto de documentos\n",
        "M1            = [[\"O peã e o caval são pec de xadrez. O caval é o melhor do jog.\"],\n",
        "                [\"A jog envolv a torr, o peã e o rei.\"],\n",
        "                [\"O peã lac o boi\"],\n",
        "                [\"Caval de rodei!\"],\n",
        "                [\"Polic o jog no xadrez.\"]]\n",
        "\n",
        "# Lista de stopwords\n",
        "stopwords1    = [\"a\", \"o\", \"e\", \"é\", \"de\", \"do\", \"no\", \"são\"]\n",
        "\n",
        "# String contendo os termos da consulta\n",
        "q1            = \"xadrez peã caval torr\"\n",
        "\n",
        "# Separadores para a tokenizacao\n",
        "separadores1  = [\" \",\",\",\".\",\"!\",\"?\"] "
      ],
      "execution_count": null,
      "outputs": []
    },
    {
      "cell_type": "markdown",
      "metadata": {
        "id": "TZZ1b8WIFFWM"
      },
      "source": [
        "Aplicação do pré-processamento na coleção e na consulta e aplicação do TF-IDF na coleção"
      ]
    },
    {
      "cell_type": "code",
      "metadata": {
        "id": "-_a3H8LjQyqY",
        "outputId": "3c747344-3b1a-4403-9537-b4f6990ac2da",
        "colab": {
          "base_uri": "https://localhost:8080/",
          "height": 411
        }
      },
      "source": [
        "resultadoEx1            = normalizacaoTokenizacao(M1, separadores1, stopwords1)\n",
        "print(\"Resultado da normalização e tokenização:\")\n",
        "print(resultadoEx1)\n",
        "print(\"\\n\")\n",
        "\n",
        "consultaTratadaEx1      = tratamentoConsulta(q1, separadores1, stopwords1)\n",
        "print(\"Resultado do tratamento da consulta:\")\n",
        "print(consultaTratadaEx1)\n",
        "print('\\n')\n",
        "\n",
        "ponderacaoDocumentosEx1 = ponderacaoTF_IDF(resultadoEx1)\n",
        "print(\"Resultado da ponderação TF-IDF para os termos da coleção:\")\n",
        "print(ponderacaoDocumentosEx1)\n",
        "print('\\n')\n",
        "\n",
        "var1                    = ponderacaoTF_IDF2(resultadoEx1, consultaTratadaEx1)\n",
        "dicRank1                = rank(ponderacaoTF_IDF(resultadoEx1), var1)\n",
        "listRank1               = sorted(dicRank1.items(), key=lambda x: x[1], reverse=True)\n",
        "\n",
        "print(\"Ranking:\")\n",
        "\n",
        "tableRank1              = PrettyTable()\n",
        "\n",
        "column_names1           = [\"Posição\", \"Documento\", \"Rank\"] \n",
        "#print(listRank1)\n",
        "\n",
        "tableRank1.add_column(column_names1[0], [i+1 for i in range(len(listRank1))])\n",
        "tableRank1.add_column(column_names1[1], [M1[document[0]][0] for document in listRank1])\n",
        "tableRank1.add_column(column_names1[2], [str(document[1]) for document in listRank1])\n",
        "\n",
        "print(tableRank1)"
      ],
      "execution_count": null,
      "outputs": [
        {
          "output_type": "stream",
          "text": [
            "Resultado da normalização e tokenização:\n",
            "[['peã', 'caval', 'pec', 'xadrez', 'caval', 'melhor', 'jog'], ['jog', 'envolv', 'torr', 'peã', 'rei'], ['peã', 'lac', 'boi'], ['caval', 'rodei'], ['polic', 'jog', 'xadrez']]\n",
            "\n",
            "\n",
            "Resultado do tratamento da consulta:\n",
            "['xadrez', 'peã', 'caval', 'torr']\n",
            "\n",
            "\n",
            "Resultado da ponderação TF-IDF para os termos da coleção:\n",
            "{0: {'peã': 0.7369655941662062, 'caval': 2.643856189774725, 'pec': 2.321928094887362, 'xadrez': 1.3219280948873624, 'melhor': 2.321928094887362, 'jog': 0.7369655941662062, 'envolv': 0, 'torr': 0, 'rei': 0, 'lac': 0, 'boi': 0, 'rodei': 0, 'polic': 0}, 1: {'peã': 0.7369655941662062, 'caval': 0, 'pec': 0, 'xadrez': 0, 'melhor': 0, 'jog': 0.7369655941662062, 'envolv': 2.321928094887362, 'torr': 2.321928094887362, 'rei': 2.321928094887362, 'lac': 0, 'boi': 0, 'rodei': 0, 'polic': 0}, 2: {'peã': 0.7369655941662062, 'caval': 0, 'pec': 0, 'xadrez': 0, 'melhor': 0, 'jog': 0, 'envolv': 0, 'torr': 0, 'rei': 0, 'lac': 2.321928094887362, 'boi': 2.321928094887362, 'rodei': 0, 'polic': 0}, 3: {'peã': 0, 'caval': 1.3219280948873624, 'pec': 0, 'xadrez': 0, 'melhor': 0, 'jog': 0, 'envolv': 0, 'torr': 0, 'rei': 0, 'lac': 0, 'boi': 0, 'rodei': 2.321928094887362, 'polic': 0}, 4: {'peã': 0, 'caval': 0, 'pec': 0, 'xadrez': 1.3219280948873624, 'melhor': 0, 'jog': 0.7369655941662062, 'envolv': 0, 'torr': 0, 'rei': 0, 'lac': 0, 'boi': 0, 'rodei': 0, 'polic': 2.321928094887362}}\n",
            "\n",
            "\n",
            "Ranking:\n",
            "+---------+---------------------------------------------------------------+----------------------+\n",
            "| Posição |                           Documento                           |         Rank         |\n",
            "+---------+---------------------------------------------------------------+----------------------+\n",
            "|    1    |              A jog envolv a torr, o peã e o rei.              |  0.4651729931620071  |\n",
            "|    2    | O peã e o caval são pec de xadrez. O caval é o melhor do jog. |  0.415053375730601   |\n",
            "|    3    |                        Caval de rodei!                        | 0.21298960013595078  |\n",
            "|    4    |                     Polic o jog no xadrez.                    | 0.20532236528436032  |\n",
            "|    5    |                        O peã lac o boi                        | 0.052555274134206874 |\n",
            "+---------+---------------------------------------------------------------+----------------------+\n"
          ],
          "name": "stdout"
        }
      ]
    },
    {
      "cell_type": "markdown",
      "metadata": {
        "id": "Y0nY2eX1EdMK"
      },
      "source": [
        "# Exemplo 2\n"
      ]
    },
    {
      "cell_type": "markdown",
      "metadata": {
        "id": "O1V_cexihDdc"
      },
      "source": [
        "Coleção, stopwords, consulta e separadores"
      ]
    },
    {
      "cell_type": "code",
      "metadata": {
        "id": "iwzmbeIiK8DX"
      },
      "source": [
        "# Conjunto de documentos\n",
        "M2              = [[\"Parasita é o grande vencedor do Oscar 2020, com quatro prêmios\"],\n",
        "                  [\"Green Book, Roma e Bohemian Rhapsody são os principais vencedores do Oscar 2019\"],\n",
        "                  [\"Oscar 2020: Confira lista completa de vencedores. Parasita e 1917 foram os grandes vencedores da noite\"],\n",
        "                  [\"Em boa fase, Oscar sonha em jogar a Copa do Mundo da Rússia\"],\n",
        "                  [\"Conheça os indicados ao Oscar 2020; Cerimônia de premiação acontece em fevereiro\"],\n",
        "                  [\"Oscar Schmidt receberá Troféu no Prêmio Brasil Olímpico 2019. Jogador de basquete com mais pontos em Jogos Olímpicos.\"],\n",
        "                  [\"Seleção brasileira vai observar de 35 a 40 jogadores para definir lista da Copa América\"],\n",
        "                  [\"Oscar 2020: saiba como é a escolha dos jurados e como eles votam\"],\n",
        "                  [\"Bem, Amigos! discute lista da Seleção, e Galvão dá recado a Tite: Cadê o Luan?\"],\n",
        "                  [\"IFAL-Maceió convoca aprovados em lista de espera do SISU para chamada oral\"],\n",
        "                  [\"Arrascaeta e Matías Viña são convocados pelo Uruguai para eliminatórias da Copa. Além deles, há outros destaques na lista.\"],\n",
        "                  [\"Oscar do Vinho: confira os rótulos de destaque da safra 2018\"],\n",
        "                  [\"Parasita é o vencedor da Palma de Ouro no Festival de Cannes\"],\n",
        "                  [\"Estatísticas. Brasileirão Série A: Os artilheiros e garçons da temporada 2020\"],\n",
        "                  [\"Setembro chegou! Confira o calendário da temporada 2020/2021 do futebol europeu\"]]\n",
        "\n",
        "# Lista de stopwords\n",
        "stopwords2     = [\"a\", \"o\", \"e\", \"é\", \"de\", \"do\", \"da\", \"no\", \"na\", \"são\", \"dos\", \"com\", \"como\", \"eles\", \"em\", \"os\", \"ao\", \"para\", \"pelo\"] \n",
        "\n",
        "# String contendo os termos da consulta\n",
        "q2             = \"parasita vencedor green\"\n",
        "\n",
        "# Separadores para a tokenizacao\n",
        "separadores2   = [\" \",\",\",\".\",\"!\",\"?\",\":\",\"/\",\"\\\\\",\";\" ] "
      ],
      "execution_count": null,
      "outputs": []
    },
    {
      "cell_type": "markdown",
      "metadata": {
        "id": "58ZBSlikg-QV"
      },
      "source": [
        "Aplicação do pré-processamento na coleção e na consulta e aplicação do TF-IDF na coleção"
      ]
    },
    {
      "cell_type": "code",
      "metadata": {
        "id": "LHchq7f2Q08V",
        "outputId": "0008e28d-299d-4254-bcc8-232e30dc52cf",
        "colab": {
          "base_uri": "https://localhost:8080/",
          "height": 581
        }
      },
      "source": [
        "resultadoEx2            = normalizacaoTokenizacao(M2, separadores2, stopwords2)\n",
        "print(\"Resultado da normalização e tokenização:\")\n",
        "print(resultadoEx2)\n",
        "print('\\n')\n",
        "\n",
        "consultaTratadaEx2      = tratamentoConsulta(q2, separadores2, stopwords2)\n",
        "print(\"Resultado do tratamento da consulta:\")\n",
        "print(consultaTratadaEx2)\n",
        "print('\\n')\n",
        "\n",
        "ponderacaoDocumentosEx2 = ponderacaoTF_IDF(resultadoEx2)\n",
        "print(\"Resultado da ponderação TF-IDF para os termos da coleção:\")\n",
        "print(ponderacaoDocumentosEx2)\n",
        "print('\\n')\n",
        "\n",
        "var2                    = ponderacaoTF_IDF2(resultadoEx2, consultaTratadaEx2)\n",
        "dicRank2                = rank(ponderacaoTF_IDF(resultadoEx2), var2)\n",
        "listRank2               = sorted(dicRank2.items(), key=lambda x: x[1], reverse=True)\n",
        "\n",
        "print(\"Ranking:\")\n",
        "\n",
        "tableRank2              = PrettyTable()\n",
        "\n",
        "column_names2           = [\"Posição\", \"Documento\", \"Rank\"] \n",
        "#print(listRank2)\n",
        "\n",
        "tableRank2.add_column(column_names2[0], [i+1 for i in range(len(listRank2))])\n",
        "tableRank2.add_column(column_names2[1], [M2[document[0]][0] for document in listRank2])\n",
        "tableRank2.add_column(column_names2[2], [str(document[1]) for document in listRank2])\n",
        "\n",
        "print(tableRank2)"
      ],
      "execution_count": null,
      "outputs": [
        {
          "output_type": "stream",
          "text": [
            "Resultado da normalização e tokenização:\n",
            "[['parasita', 'grande', 'vencedor', 'oscar', '2020', 'quatro', 'prêmios'], ['green', 'book', 'roma', 'bohemian', 'rhapsody', 'principais', 'vencedores', 'oscar', '2019'], ['oscar', '2020', 'confira', 'lista', 'completa', 'vencedores', 'parasita', '1917', 'foram', 'grandes', 'vencedores', 'noite'], ['boa', 'fase', 'oscar', 'sonha', 'jogar', 'copa', 'mundo', 'rússia'], ['conheça', 'indicados', 'oscar', '2020', 'cerimônia', 'premiação', 'acontece', 'fevereiro'], ['oscar', 'schmidt', 'receberá', 'troféu', 'prêmio', 'brasil', 'olímpico', '2019', 'jogador', 'basquete', 'mais', 'pontos', 'jogos', 'olímpicos'], ['seleção', 'brasileira', 'vai', 'observar', '35', '40', 'jogadores', 'definir', 'lista', 'copa', 'américa'], ['oscar', '2020', 'saiba', 'escolha', 'jurados', 'votam'], ['bem', 'amigos', 'discute', 'lista', 'seleção', 'galvão', 'dá', 'recado', 'tite', 'cadê', 'luan'], ['ifal-maceió', 'convoca', 'aprovados', 'lista', 'espera', 'sisu', 'chamada', 'oral'], ['arrascaeta', 'matías', 'viña', 'convocados', 'uruguai', 'eliminatórias', 'copa', 'além', 'deles', 'há', 'outros', 'destaques', 'lista'], ['oscar', 'vinho', 'confira', 'rótulos', 'destaque', 'safra', '2018'], ['parasita', 'vencedor', 'palma', 'ouro', 'festival', 'cannes'], ['estatísticas', 'brasileirão', 'série', 'artilheiros', 'garçons', 'temporada', '2020'], ['setembro', 'chegou', 'confira', 'calendário', 'temporada', '2020', '2021', 'futebol', 'europeu']]\n",
            "\n",
            "\n",
            "Resultado do tratamento da consulta:\n",
            "['parasita', 'vencedor', 'green']\n",
            "\n",
            "\n",
            "Resultado da ponderação TF-IDF para os termos da coleção:\n",
            "{0: {'parasita': 2.321928094887362, 'grande': 3.9068905956085187, 'vencedor': 2.9068905956085187, 'oscar': 0.9068905956085185, '2020': 1.3219280948873624, 'quatro': 3.9068905956085187, 'prêmios': 3.9068905956085187, 'green': 0, 'book': 0, 'roma': 0, 'bohemian': 0, 'rhapsody': 0, 'principais': 0, 'vencedores': 0, '2019': 0, 'confira': 0, 'lista': 0, 'completa': 0, '1917': 0, 'foram': 0, 'grandes': 0, 'noite': 0, 'boa': 0, 'fase': 0, 'sonha': 0, 'jogar': 0, 'copa': 0, 'mundo': 0, 'rússia': 0, 'conheça': 0, 'indicados': 0, 'cerimônia': 0, 'premiação': 0, 'acontece': 0, 'fevereiro': 0, 'schmidt': 0, 'receberá': 0, 'troféu': 0, 'prêmio': 0, 'brasil': 0, 'olímpico': 0, 'jogador': 0, 'basquete': 0, 'mais': 0, 'pontos': 0, 'jogos': 0, 'olímpicos': 0, 'seleção': 0, 'brasileira': 0, 'vai': 0, 'observar': 0, '35': 0, '40': 0, 'jogadores': 0, 'definir': 0, 'américa': 0, 'saiba': 0, 'escolha': 0, 'jurados': 0, 'votam': 0, 'bem': 0, 'amigos': 0, 'discute': 0, 'galvão': 0, 'dá': 0, 'recado': 0, 'tite': 0, 'cadê': 0, 'luan': 0, 'ifal-maceió': 0, 'convoca': 0, 'aprovados': 0, 'espera': 0, 'sisu': 0, 'chamada': 0, 'oral': 0, 'arrascaeta': 0, 'matías': 0, 'viña': 0, 'convocados': 0, 'uruguai': 0, 'eliminatórias': 0, 'além': 0, 'deles': 0, 'há': 0, 'outros': 0, 'destaques': 0, 'vinho': 0, 'rótulos': 0, 'destaque': 0, 'safra': 0, '2018': 0, 'palma': 0, 'ouro': 0, 'festival': 0, 'cannes': 0, 'estatísticas': 0, 'brasileirão': 0, 'série': 0, 'artilheiros': 0, 'garçons': 0, 'temporada': 0, 'setembro': 0, 'chegou': 0, 'calendário': 0, '2021': 0, 'futebol': 0, 'europeu': 0}, 1: {'parasita': 0, 'grande': 0, 'vencedor': 0, 'oscar': 0.9068905956085185, '2020': 0, 'quatro': 0, 'prêmios': 0, 'green': 3.9068905956085187, 'book': 3.9068905956085187, 'roma': 3.9068905956085187, 'bohemian': 3.9068905956085187, 'rhapsody': 3.9068905956085187, 'principais': 3.9068905956085187, 'vencedores': 2.9068905956085187, '2019': 2.9068905956085187, 'confira': 0, 'lista': 0, 'completa': 0, '1917': 0, 'foram': 0, 'grandes': 0, 'noite': 0, 'boa': 0, 'fase': 0, 'sonha': 0, 'jogar': 0, 'copa': 0, 'mundo': 0, 'rússia': 0, 'conheça': 0, 'indicados': 0, 'cerimônia': 0, 'premiação': 0, 'acontece': 0, 'fevereiro': 0, 'schmidt': 0, 'receberá': 0, 'troféu': 0, 'prêmio': 0, 'brasil': 0, 'olímpico': 0, 'jogador': 0, 'basquete': 0, 'mais': 0, 'pontos': 0, 'jogos': 0, 'olímpicos': 0, 'seleção': 0, 'brasileira': 0, 'vai': 0, 'observar': 0, '35': 0, '40': 0, 'jogadores': 0, 'definir': 0, 'américa': 0, 'saiba': 0, 'escolha': 0, 'jurados': 0, 'votam': 0, 'bem': 0, 'amigos': 0, 'discute': 0, 'galvão': 0, 'dá': 0, 'recado': 0, 'tite': 0, 'cadê': 0, 'luan': 0, 'ifal-maceió': 0, 'convoca': 0, 'aprovados': 0, 'espera': 0, 'sisu': 0, 'chamada': 0, 'oral': 0, 'arrascaeta': 0, 'matías': 0, 'viña': 0, 'convocados': 0, 'uruguai': 0, 'eliminatórias': 0, 'além': 0, 'deles': 0, 'há': 0, 'outros': 0, 'destaques': 0, 'vinho': 0, 'rótulos': 0, 'destaque': 0, 'safra': 0, '2018': 0, 'palma': 0, 'ouro': 0, 'festival': 0, 'cannes': 0, 'estatísticas': 0, 'brasileirão': 0, 'série': 0, 'artilheiros': 0, 'garçons': 0, 'temporada': 0, 'setembro': 0, 'chegou': 0, 'calendário': 0, '2021': 0, 'futebol': 0, 'europeu': 0}, 2: {'parasita': 2.321928094887362, 'grande': 0, 'vencedor': 0, 'oscar': 0.9068905956085185, '2020': 1.3219280948873624, 'quatro': 0, 'prêmios': 0, 'green': 0, 'book': 0, 'roma': 0, 'bohemian': 0, 'rhapsody': 0, 'principais': 0, 'vencedores': 5.813781191217037, '2019': 0, 'confira': 2.321928094887362, 'lista': 1.584962500721156, 'completa': 3.9068905956085187, '1917': 3.9068905956085187, 'foram': 3.9068905956085187, 'grandes': 3.9068905956085187, 'noite': 3.9068905956085187, 'boa': 0, 'fase': 0, 'sonha': 0, 'jogar': 0, 'copa': 0, 'mundo': 0, 'rússia': 0, 'conheça': 0, 'indicados': 0, 'cerimônia': 0, 'premiação': 0, 'acontece': 0, 'fevereiro': 0, 'schmidt': 0, 'receberá': 0, 'troféu': 0, 'prêmio': 0, 'brasil': 0, 'olímpico': 0, 'jogador': 0, 'basquete': 0, 'mais': 0, 'pontos': 0, 'jogos': 0, 'olímpicos': 0, 'seleção': 0, 'brasileira': 0, 'vai': 0, 'observar': 0, '35': 0, '40': 0, 'jogadores': 0, 'definir': 0, 'américa': 0, 'saiba': 0, 'escolha': 0, 'jurados': 0, 'votam': 0, 'bem': 0, 'amigos': 0, 'discute': 0, 'galvão': 0, 'dá': 0, 'recado': 0, 'tite': 0, 'cadê': 0, 'luan': 0, 'ifal-maceió': 0, 'convoca': 0, 'aprovados': 0, 'espera': 0, 'sisu': 0, 'chamada': 0, 'oral': 0, 'arrascaeta': 0, 'matías': 0, 'viña': 0, 'convocados': 0, 'uruguai': 0, 'eliminatórias': 0, 'além': 0, 'deles': 0, 'há': 0, 'outros': 0, 'destaques': 0, 'vinho': 0, 'rótulos': 0, 'destaque': 0, 'safra': 0, '2018': 0, 'palma': 0, 'ouro': 0, 'festival': 0, 'cannes': 0, 'estatísticas': 0, 'brasileirão': 0, 'série': 0, 'artilheiros': 0, 'garçons': 0, 'temporada': 0, 'setembro': 0, 'chegou': 0, 'calendário': 0, '2021': 0, 'futebol': 0, 'europeu': 0}, 3: {'parasita': 0, 'grande': 0, 'vencedor': 0, 'oscar': 0.9068905956085185, '2020': 0, 'quatro': 0, 'prêmios': 0, 'green': 0, 'book': 0, 'roma': 0, 'bohemian': 0, 'rhapsody': 0, 'principais': 0, 'vencedores': 0, '2019': 0, 'confira': 0, 'lista': 0, 'completa': 0, '1917': 0, 'foram': 0, 'grandes': 0, 'noite': 0, 'boa': 3.9068905956085187, 'fase': 3.9068905956085187, 'sonha': 3.9068905956085187, 'jogar': 3.9068905956085187, 'copa': 2.321928094887362, 'mundo': 3.9068905956085187, 'rússia': 3.9068905956085187, 'conheça': 0, 'indicados': 0, 'cerimônia': 0, 'premiação': 0, 'acontece': 0, 'fevereiro': 0, 'schmidt': 0, 'receberá': 0, 'troféu': 0, 'prêmio': 0, 'brasil': 0, 'olímpico': 0, 'jogador': 0, 'basquete': 0, 'mais': 0, 'pontos': 0, 'jogos': 0, 'olímpicos': 0, 'seleção': 0, 'brasileira': 0, 'vai': 0, 'observar': 0, '35': 0, '40': 0, 'jogadores': 0, 'definir': 0, 'américa': 0, 'saiba': 0, 'escolha': 0, 'jurados': 0, 'votam': 0, 'bem': 0, 'amigos': 0, 'discute': 0, 'galvão': 0, 'dá': 0, 'recado': 0, 'tite': 0, 'cadê': 0, 'luan': 0, 'ifal-maceió': 0, 'convoca': 0, 'aprovados': 0, 'espera': 0, 'sisu': 0, 'chamada': 0, 'oral': 0, 'arrascaeta': 0, 'matías': 0, 'viña': 0, 'convocados': 0, 'uruguai': 0, 'eliminatórias': 0, 'além': 0, 'deles': 0, 'há': 0, 'outros': 0, 'destaques': 0, 'vinho': 0, 'rótulos': 0, 'destaque': 0, 'safra': 0, '2018': 0, 'palma': 0, 'ouro': 0, 'festival': 0, 'cannes': 0, 'estatísticas': 0, 'brasileirão': 0, 'série': 0, 'artilheiros': 0, 'garçons': 0, 'temporada': 0, 'setembro': 0, 'chegou': 0, 'calendário': 0, '2021': 0, 'futebol': 0, 'europeu': 0}, 4: {'parasita': 0, 'grande': 0, 'vencedor': 0, 'oscar': 0.9068905956085185, '2020': 1.3219280948873624, 'quatro': 0, 'prêmios': 0, 'green': 0, 'book': 0, 'roma': 0, 'bohemian': 0, 'rhapsody': 0, 'principais': 0, 'vencedores': 0, '2019': 0, 'confira': 0, 'lista': 0, 'completa': 0, '1917': 0, 'foram': 0, 'grandes': 0, 'noite': 0, 'boa': 0, 'fase': 0, 'sonha': 0, 'jogar': 0, 'copa': 0, 'mundo': 0, 'rússia': 0, 'conheça': 3.9068905956085187, 'indicados': 3.9068905956085187, 'cerimônia': 3.9068905956085187, 'premiação': 3.9068905956085187, 'acontece': 3.9068905956085187, 'fevereiro': 3.9068905956085187, 'schmidt': 0, 'receberá': 0, 'troféu': 0, 'prêmio': 0, 'brasil': 0, 'olímpico': 0, 'jogador': 0, 'basquete': 0, 'mais': 0, 'pontos': 0, 'jogos': 0, 'olímpicos': 0, 'seleção': 0, 'brasileira': 0, 'vai': 0, 'observar': 0, '35': 0, '40': 0, 'jogadores': 0, 'definir': 0, 'américa': 0, 'saiba': 0, 'escolha': 0, 'jurados': 0, 'votam': 0, 'bem': 0, 'amigos': 0, 'discute': 0, 'galvão': 0, 'dá': 0, 'recado': 0, 'tite': 0, 'cadê': 0, 'luan': 0, 'ifal-maceió': 0, 'convoca': 0, 'aprovados': 0, 'espera': 0, 'sisu': 0, 'chamada': 0, 'oral': 0, 'arrascaeta': 0, 'matías': 0, 'viña': 0, 'convocados': 0, 'uruguai': 0, 'eliminatórias': 0, 'além': 0, 'deles': 0, 'há': 0, 'outros': 0, 'destaques': 0, 'vinho': 0, 'rótulos': 0, 'destaque': 0, 'safra': 0, '2018': 0, 'palma': 0, 'ouro': 0, 'festival': 0, 'cannes': 0, 'estatísticas': 0, 'brasileirão': 0, 'série': 0, 'artilheiros': 0, 'garçons': 0, 'temporada': 0, 'setembro': 0, 'chegou': 0, 'calendário': 0, '2021': 0, 'futebol': 0, 'europeu': 0}, 5: {'parasita': 0, 'grande': 0, 'vencedor': 0, 'oscar': 0.9068905956085185, '2020': 0, 'quatro': 0, 'prêmios': 0, 'green': 0, 'book': 0, 'roma': 0, 'bohemian': 0, 'rhapsody': 0, 'principais': 0, 'vencedores': 0, '2019': 2.9068905956085187, 'confira': 0, 'lista': 0, 'completa': 0, '1917': 0, 'foram': 0, 'grandes': 0, 'noite': 0, 'boa': 0, 'fase': 0, 'sonha': 0, 'jogar': 0, 'copa': 0, 'mundo': 0, 'rússia': 0, 'conheça': 0, 'indicados': 0, 'cerimônia': 0, 'premiação': 0, 'acontece': 0, 'fevereiro': 0, 'schmidt': 3.9068905956085187, 'receberá': 3.9068905956085187, 'troféu': 3.9068905956085187, 'prêmio': 3.9068905956085187, 'brasil': 3.9068905956085187, 'olímpico': 3.9068905956085187, 'jogador': 3.9068905956085187, 'basquete': 3.9068905956085187, 'mais': 3.9068905956085187, 'pontos': 3.9068905956085187, 'jogos': 3.9068905956085187, 'olímpicos': 3.9068905956085187, 'seleção': 0, 'brasileira': 0, 'vai': 0, 'observar': 0, '35': 0, '40': 0, 'jogadores': 0, 'definir': 0, 'américa': 0, 'saiba': 0, 'escolha': 0, 'jurados': 0, 'votam': 0, 'bem': 0, 'amigos': 0, 'discute': 0, 'galvão': 0, 'dá': 0, 'recado': 0, 'tite': 0, 'cadê': 0, 'luan': 0, 'ifal-maceió': 0, 'convoca': 0, 'aprovados': 0, 'espera': 0, 'sisu': 0, 'chamada': 0, 'oral': 0, 'arrascaeta': 0, 'matías': 0, 'viña': 0, 'convocados': 0, 'uruguai': 0, 'eliminatórias': 0, 'além': 0, 'deles': 0, 'há': 0, 'outros': 0, 'destaques': 0, 'vinho': 0, 'rótulos': 0, 'destaque': 0, 'safra': 0, '2018': 0, 'palma': 0, 'ouro': 0, 'festival': 0, 'cannes': 0, 'estatísticas': 0, 'brasileirão': 0, 'série': 0, 'artilheiros': 0, 'garçons': 0, 'temporada': 0, 'setembro': 0, 'chegou': 0, 'calendário': 0, '2021': 0, 'futebol': 0, 'europeu': 0}, 6: {'parasita': 0, 'grande': 0, 'vencedor': 0, 'oscar': 0, '2020': 0, 'quatro': 0, 'prêmios': 0, 'green': 0, 'book': 0, 'roma': 0, 'bohemian': 0, 'rhapsody': 0, 'principais': 0, 'vencedores': 0, '2019': 0, 'confira': 0, 'lista': 1.584962500721156, 'completa': 0, '1917': 0, 'foram': 0, 'grandes': 0, 'noite': 0, 'boa': 0, 'fase': 0, 'sonha': 0, 'jogar': 0, 'copa': 2.321928094887362, 'mundo': 0, 'rússia': 0, 'conheça': 0, 'indicados': 0, 'cerimônia': 0, 'premiação': 0, 'acontece': 0, 'fevereiro': 0, 'schmidt': 0, 'receberá': 0, 'troféu': 0, 'prêmio': 0, 'brasil': 0, 'olímpico': 0, 'jogador': 0, 'basquete': 0, 'mais': 0, 'pontos': 0, 'jogos': 0, 'olímpicos': 0, 'seleção': 2.9068905956085187, 'brasileira': 3.9068905956085187, 'vai': 3.9068905956085187, 'observar': 3.9068905956085187, '35': 3.9068905956085187, '40': 3.9068905956085187, 'jogadores': 3.9068905956085187, 'definir': 3.9068905956085187, 'américa': 3.9068905956085187, 'saiba': 0, 'escolha': 0, 'jurados': 0, 'votam': 0, 'bem': 0, 'amigos': 0, 'discute': 0, 'galvão': 0, 'dá': 0, 'recado': 0, 'tite': 0, 'cadê': 0, 'luan': 0, 'ifal-maceió': 0, 'convoca': 0, 'aprovados': 0, 'espera': 0, 'sisu': 0, 'chamada': 0, 'oral': 0, 'arrascaeta': 0, 'matías': 0, 'viña': 0, 'convocados': 0, 'uruguai': 0, 'eliminatórias': 0, 'além': 0, 'deles': 0, 'há': 0, 'outros': 0, 'destaques': 0, 'vinho': 0, 'rótulos': 0, 'destaque': 0, 'safra': 0, '2018': 0, 'palma': 0, 'ouro': 0, 'festival': 0, 'cannes': 0, 'estatísticas': 0, 'brasileirão': 0, 'série': 0, 'artilheiros': 0, 'garçons': 0, 'temporada': 0, 'setembro': 0, 'chegou': 0, 'calendário': 0, '2021': 0, 'futebol': 0, 'europeu': 0}, 7: {'parasita': 0, 'grande': 0, 'vencedor': 0, 'oscar': 0.9068905956085185, '2020': 1.3219280948873624, 'quatro': 0, 'prêmios': 0, 'green': 0, 'book': 0, 'roma': 0, 'bohemian': 0, 'rhapsody': 0, 'principais': 0, 'vencedores': 0, '2019': 0, 'confira': 0, 'lista': 0, 'completa': 0, '1917': 0, 'foram': 0, 'grandes': 0, 'noite': 0, 'boa': 0, 'fase': 0, 'sonha': 0, 'jogar': 0, 'copa': 0, 'mundo': 0, 'rússia': 0, 'conheça': 0, 'indicados': 0, 'cerimônia': 0, 'premiação': 0, 'acontece': 0, 'fevereiro': 0, 'schmidt': 0, 'receberá': 0, 'troféu': 0, 'prêmio': 0, 'brasil': 0, 'olímpico': 0, 'jogador': 0, 'basquete': 0, 'mais': 0, 'pontos': 0, 'jogos': 0, 'olímpicos': 0, 'seleção': 0, 'brasileira': 0, 'vai': 0, 'observar': 0, '35': 0, '40': 0, 'jogadores': 0, 'definir': 0, 'américa': 0, 'saiba': 3.9068905956085187, 'escolha': 3.9068905956085187, 'jurados': 3.9068905956085187, 'votam': 3.9068905956085187, 'bem': 0, 'amigos': 0, 'discute': 0, 'galvão': 0, 'dá': 0, 'recado': 0, 'tite': 0, 'cadê': 0, 'luan': 0, 'ifal-maceió': 0, 'convoca': 0, 'aprovados': 0, 'espera': 0, 'sisu': 0, 'chamada': 0, 'oral': 0, 'arrascaeta': 0, 'matías': 0, 'viña': 0, 'convocados': 0, 'uruguai': 0, 'eliminatórias': 0, 'além': 0, 'deles': 0, 'há': 0, 'outros': 0, 'destaques': 0, 'vinho': 0, 'rótulos': 0, 'destaque': 0, 'safra': 0, '2018': 0, 'palma': 0, 'ouro': 0, 'festival': 0, 'cannes': 0, 'estatísticas': 0, 'brasileirão': 0, 'série': 0, 'artilheiros': 0, 'garçons': 0, 'temporada': 0, 'setembro': 0, 'chegou': 0, 'calendário': 0, '2021': 0, 'futebol': 0, 'europeu': 0}, 8: {'parasita': 0, 'grande': 0, 'vencedor': 0, 'oscar': 0, '2020': 0, 'quatro': 0, 'prêmios': 0, 'green': 0, 'book': 0, 'roma': 0, 'bohemian': 0, 'rhapsody': 0, 'principais': 0, 'vencedores': 0, '2019': 0, 'confira': 0, 'lista': 1.584962500721156, 'completa': 0, '1917': 0, 'foram': 0, 'grandes': 0, 'noite': 0, 'boa': 0, 'fase': 0, 'sonha': 0, 'jogar': 0, 'copa': 0, 'mundo': 0, 'rússia': 0, 'conheça': 0, 'indicados': 0, 'cerimônia': 0, 'premiação': 0, 'acontece': 0, 'fevereiro': 0, 'schmidt': 0, 'receberá': 0, 'troféu': 0, 'prêmio': 0, 'brasil': 0, 'olímpico': 0, 'jogador': 0, 'basquete': 0, 'mais': 0, 'pontos': 0, 'jogos': 0, 'olímpicos': 0, 'seleção': 2.9068905956085187, 'brasileira': 0, 'vai': 0, 'observar': 0, '35': 0, '40': 0, 'jogadores': 0, 'definir': 0, 'américa': 0, 'saiba': 0, 'escolha': 0, 'jurados': 0, 'votam': 0, 'bem': 3.9068905956085187, 'amigos': 3.9068905956085187, 'discute': 3.9068905956085187, 'galvão': 3.9068905956085187, 'dá': 3.9068905956085187, 'recado': 3.9068905956085187, 'tite': 3.9068905956085187, 'cadê': 3.9068905956085187, 'luan': 3.9068905956085187, 'ifal-maceió': 0, 'convoca': 0, 'aprovados': 0, 'espera': 0, 'sisu': 0, 'chamada': 0, 'oral': 0, 'arrascaeta': 0, 'matías': 0, 'viña': 0, 'convocados': 0, 'uruguai': 0, 'eliminatórias': 0, 'além': 0, 'deles': 0, 'há': 0, 'outros': 0, 'destaques': 0, 'vinho': 0, 'rótulos': 0, 'destaque': 0, 'safra': 0, '2018': 0, 'palma': 0, 'ouro': 0, 'festival': 0, 'cannes': 0, 'estatísticas': 0, 'brasileirão': 0, 'série': 0, 'artilheiros': 0, 'garçons': 0, 'temporada': 0, 'setembro': 0, 'chegou': 0, 'calendário': 0, '2021': 0, 'futebol': 0, 'europeu': 0}, 9: {'parasita': 0, 'grande': 0, 'vencedor': 0, 'oscar': 0, '2020': 0, 'quatro': 0, 'prêmios': 0, 'green': 0, 'book': 0, 'roma': 0, 'bohemian': 0, 'rhapsody': 0, 'principais': 0, 'vencedores': 0, '2019': 0, 'confira': 0, 'lista': 1.584962500721156, 'completa': 0, '1917': 0, 'foram': 0, 'grandes': 0, 'noite': 0, 'boa': 0, 'fase': 0, 'sonha': 0, 'jogar': 0, 'copa': 0, 'mundo': 0, 'rússia': 0, 'conheça': 0, 'indicados': 0, 'cerimônia': 0, 'premiação': 0, 'acontece': 0, 'fevereiro': 0, 'schmidt': 0, 'receberá': 0, 'troféu': 0, 'prêmio': 0, 'brasil': 0, 'olímpico': 0, 'jogador': 0, 'basquete': 0, 'mais': 0, 'pontos': 0, 'jogos': 0, 'olímpicos': 0, 'seleção': 0, 'brasileira': 0, 'vai': 0, 'observar': 0, '35': 0, '40': 0, 'jogadores': 0, 'definir': 0, 'américa': 0, 'saiba': 0, 'escolha': 0, 'jurados': 0, 'votam': 0, 'bem': 0, 'amigos': 0, 'discute': 0, 'galvão': 0, 'dá': 0, 'recado': 0, 'tite': 0, 'cadê': 0, 'luan': 0, 'ifal-maceió': 3.9068905956085187, 'convoca': 3.9068905956085187, 'aprovados': 3.9068905956085187, 'espera': 3.9068905956085187, 'sisu': 3.9068905956085187, 'chamada': 3.9068905956085187, 'oral': 3.9068905956085187, 'arrascaeta': 0, 'matías': 0, 'viña': 0, 'convocados': 0, 'uruguai': 0, 'eliminatórias': 0, 'além': 0, 'deles': 0, 'há': 0, 'outros': 0, 'destaques': 0, 'vinho': 0, 'rótulos': 0, 'destaque': 0, 'safra': 0, '2018': 0, 'palma': 0, 'ouro': 0, 'festival': 0, 'cannes': 0, 'estatísticas': 0, 'brasileirão': 0, 'série': 0, 'artilheiros': 0, 'garçons': 0, 'temporada': 0, 'setembro': 0, 'chegou': 0, 'calendário': 0, '2021': 0, 'futebol': 0, 'europeu': 0}, 10: {'parasita': 0, 'grande': 0, 'vencedor': 0, 'oscar': 0, '2020': 0, 'quatro': 0, 'prêmios': 0, 'green': 0, 'book': 0, 'roma': 0, 'bohemian': 0, 'rhapsody': 0, 'principais': 0, 'vencedores': 0, '2019': 0, 'confira': 0, 'lista': 1.584962500721156, 'completa': 0, '1917': 0, 'foram': 0, 'grandes': 0, 'noite': 0, 'boa': 0, 'fase': 0, 'sonha': 0, 'jogar': 0, 'copa': 2.321928094887362, 'mundo': 0, 'rússia': 0, 'conheça': 0, 'indicados': 0, 'cerimônia': 0, 'premiação': 0, 'acontece': 0, 'fevereiro': 0, 'schmidt': 0, 'receberá': 0, 'troféu': 0, 'prêmio': 0, 'brasil': 0, 'olímpico': 0, 'jogador': 0, 'basquete': 0, 'mais': 0, 'pontos': 0, 'jogos': 0, 'olímpicos': 0, 'seleção': 0, 'brasileira': 0, 'vai': 0, 'observar': 0, '35': 0, '40': 0, 'jogadores': 0, 'definir': 0, 'américa': 0, 'saiba': 0, 'escolha': 0, 'jurados': 0, 'votam': 0, 'bem': 0, 'amigos': 0, 'discute': 0, 'galvão': 0, 'dá': 0, 'recado': 0, 'tite': 0, 'cadê': 0, 'luan': 0, 'ifal-maceió': 0, 'convoca': 0, 'aprovados': 0, 'espera': 0, 'sisu': 0, 'chamada': 0, 'oral': 0, 'arrascaeta': 3.9068905956085187, 'matías': 3.9068905956085187, 'viña': 3.9068905956085187, 'convocados': 3.9068905956085187, 'uruguai': 3.9068905956085187, 'eliminatórias': 3.9068905956085187, 'além': 3.9068905956085187, 'deles': 3.9068905956085187, 'há': 3.9068905956085187, 'outros': 3.9068905956085187, 'destaques': 3.9068905956085187, 'vinho': 0, 'rótulos': 0, 'destaque': 0, 'safra': 0, '2018': 0, 'palma': 0, 'ouro': 0, 'festival': 0, 'cannes': 0, 'estatísticas': 0, 'brasileirão': 0, 'série': 0, 'artilheiros': 0, 'garçons': 0, 'temporada': 0, 'setembro': 0, 'chegou': 0, 'calendário': 0, '2021': 0, 'futebol': 0, 'europeu': 0}, 11: {'parasita': 0, 'grande': 0, 'vencedor': 0, 'oscar': 0.9068905956085185, '2020': 0, 'quatro': 0, 'prêmios': 0, 'green': 0, 'book': 0, 'roma': 0, 'bohemian': 0, 'rhapsody': 0, 'principais': 0, 'vencedores': 0, '2019': 0, 'confira': 2.321928094887362, 'lista': 0, 'completa': 0, '1917': 0, 'foram': 0, 'grandes': 0, 'noite': 0, 'boa': 0, 'fase': 0, 'sonha': 0, 'jogar': 0, 'copa': 0, 'mundo': 0, 'rússia': 0, 'conheça': 0, 'indicados': 0, 'cerimônia': 0, 'premiação': 0, 'acontece': 0, 'fevereiro': 0, 'schmidt': 0, 'receberá': 0, 'troféu': 0, 'prêmio': 0, 'brasil': 0, 'olímpico': 0, 'jogador': 0, 'basquete': 0, 'mais': 0, 'pontos': 0, 'jogos': 0, 'olímpicos': 0, 'seleção': 0, 'brasileira': 0, 'vai': 0, 'observar': 0, '35': 0, '40': 0, 'jogadores': 0, 'definir': 0, 'américa': 0, 'saiba': 0, 'escolha': 0, 'jurados': 0, 'votam': 0, 'bem': 0, 'amigos': 0, 'discute': 0, 'galvão': 0, 'dá': 0, 'recado': 0, 'tite': 0, 'cadê': 0, 'luan': 0, 'ifal-maceió': 0, 'convoca': 0, 'aprovados': 0, 'espera': 0, 'sisu': 0, 'chamada': 0, 'oral': 0, 'arrascaeta': 0, 'matías': 0, 'viña': 0, 'convocados': 0, 'uruguai': 0, 'eliminatórias': 0, 'além': 0, 'deles': 0, 'há': 0, 'outros': 0, 'destaques': 0, 'vinho': 3.9068905956085187, 'rótulos': 3.9068905956085187, 'destaque': 3.9068905956085187, 'safra': 3.9068905956085187, '2018': 3.9068905956085187, 'palma': 0, 'ouro': 0, 'festival': 0, 'cannes': 0, 'estatísticas': 0, 'brasileirão': 0, 'série': 0, 'artilheiros': 0, 'garçons': 0, 'temporada': 0, 'setembro': 0, 'chegou': 0, 'calendário': 0, '2021': 0, 'futebol': 0, 'europeu': 0}, 12: {'parasita': 2.321928094887362, 'grande': 0, 'vencedor': 2.9068905956085187, 'oscar': 0, '2020': 0, 'quatro': 0, 'prêmios': 0, 'green': 0, 'book': 0, 'roma': 0, 'bohemian': 0, 'rhapsody': 0, 'principais': 0, 'vencedores': 0, '2019': 0, 'confira': 0, 'lista': 0, 'completa': 0, '1917': 0, 'foram': 0, 'grandes': 0, 'noite': 0, 'boa': 0, 'fase': 0, 'sonha': 0, 'jogar': 0, 'copa': 0, 'mundo': 0, 'rússia': 0, 'conheça': 0, 'indicados': 0, 'cerimônia': 0, 'premiação': 0, 'acontece': 0, 'fevereiro': 0, 'schmidt': 0, 'receberá': 0, 'troféu': 0, 'prêmio': 0, 'brasil': 0, 'olímpico': 0, 'jogador': 0, 'basquete': 0, 'mais': 0, 'pontos': 0, 'jogos': 0, 'olímpicos': 0, 'seleção': 0, 'brasileira': 0, 'vai': 0, 'observar': 0, '35': 0, '40': 0, 'jogadores': 0, 'definir': 0, 'américa': 0, 'saiba': 0, 'escolha': 0, 'jurados': 0, 'votam': 0, 'bem': 0, 'amigos': 0, 'discute': 0, 'galvão': 0, 'dá': 0, 'recado': 0, 'tite': 0, 'cadê': 0, 'luan': 0, 'ifal-maceió': 0, 'convoca': 0, 'aprovados': 0, 'espera': 0, 'sisu': 0, 'chamada': 0, 'oral': 0, 'arrascaeta': 0, 'matías': 0, 'viña': 0, 'convocados': 0, 'uruguai': 0, 'eliminatórias': 0, 'além': 0, 'deles': 0, 'há': 0, 'outros': 0, 'destaques': 0, 'vinho': 0, 'rótulos': 0, 'destaque': 0, 'safra': 0, '2018': 0, 'palma': 3.9068905956085187, 'ouro': 3.9068905956085187, 'festival': 3.9068905956085187, 'cannes': 3.9068905956085187, 'estatísticas': 0, 'brasileirão': 0, 'série': 0, 'artilheiros': 0, 'garçons': 0, 'temporada': 0, 'setembro': 0, 'chegou': 0, 'calendário': 0, '2021': 0, 'futebol': 0, 'europeu': 0}, 13: {'parasita': 0, 'grande': 0, 'vencedor': 0, 'oscar': 0, '2020': 1.3219280948873624, 'quatro': 0, 'prêmios': 0, 'green': 0, 'book': 0, 'roma': 0, 'bohemian': 0, 'rhapsody': 0, 'principais': 0, 'vencedores': 0, '2019': 0, 'confira': 0, 'lista': 0, 'completa': 0, '1917': 0, 'foram': 0, 'grandes': 0, 'noite': 0, 'boa': 0, 'fase': 0, 'sonha': 0, 'jogar': 0, 'copa': 0, 'mundo': 0, 'rússia': 0, 'conheça': 0, 'indicados': 0, 'cerimônia': 0, 'premiação': 0, 'acontece': 0, 'fevereiro': 0, 'schmidt': 0, 'receberá': 0, 'troféu': 0, 'prêmio': 0, 'brasil': 0, 'olímpico': 0, 'jogador': 0, 'basquete': 0, 'mais': 0, 'pontos': 0, 'jogos': 0, 'olímpicos': 0, 'seleção': 0, 'brasileira': 0, 'vai': 0, 'observar': 0, '35': 0, '40': 0, 'jogadores': 0, 'definir': 0, 'américa': 0, 'saiba': 0, 'escolha': 0, 'jurados': 0, 'votam': 0, 'bem': 0, 'amigos': 0, 'discute': 0, 'galvão': 0, 'dá': 0, 'recado': 0, 'tite': 0, 'cadê': 0, 'luan': 0, 'ifal-maceió': 0, 'convoca': 0, 'aprovados': 0, 'espera': 0, 'sisu': 0, 'chamada': 0, 'oral': 0, 'arrascaeta': 0, 'matías': 0, 'viña': 0, 'convocados': 0, 'uruguai': 0, 'eliminatórias': 0, 'além': 0, 'deles': 0, 'há': 0, 'outros': 0, 'destaques': 0, 'vinho': 0, 'rótulos': 0, 'destaque': 0, 'safra': 0, '2018': 0, 'palma': 0, 'ouro': 0, 'festival': 0, 'cannes': 0, 'estatísticas': 3.9068905956085187, 'brasileirão': 3.9068905956085187, 'série': 3.9068905956085187, 'artilheiros': 3.9068905956085187, 'garçons': 3.9068905956085187, 'temporada': 2.9068905956085187, 'setembro': 0, 'chegou': 0, 'calendário': 0, '2021': 0, 'futebol': 0, 'europeu': 0}, 14: {'parasita': 0, 'grande': 0, 'vencedor': 0, 'oscar': 0, '2020': 1.3219280948873624, 'quatro': 0, 'prêmios': 0, 'green': 0, 'book': 0, 'roma': 0, 'bohemian': 0, 'rhapsody': 0, 'principais': 0, 'vencedores': 0, '2019': 0, 'confira': 2.321928094887362, 'lista': 0, 'completa': 0, '1917': 0, 'foram': 0, 'grandes': 0, 'noite': 0, 'boa': 0, 'fase': 0, 'sonha': 0, 'jogar': 0, 'copa': 0, 'mundo': 0, 'rússia': 0, 'conheça': 0, 'indicados': 0, 'cerimônia': 0, 'premiação': 0, 'acontece': 0, 'fevereiro': 0, 'schmidt': 0, 'receberá': 0, 'troféu': 0, 'prêmio': 0, 'brasil': 0, 'olímpico': 0, 'jogador': 0, 'basquete': 0, 'mais': 0, 'pontos': 0, 'jogos': 0, 'olímpicos': 0, 'seleção': 0, 'brasileira': 0, 'vai': 0, 'observar': 0, '35': 0, '40': 0, 'jogadores': 0, 'definir': 0, 'américa': 0, 'saiba': 0, 'escolha': 0, 'jurados': 0, 'votam': 0, 'bem': 0, 'amigos': 0, 'discute': 0, 'galvão': 0, 'dá': 0, 'recado': 0, 'tite': 0, 'cadê': 0, 'luan': 0, 'ifal-maceió': 0, 'convoca': 0, 'aprovados': 0, 'espera': 0, 'sisu': 0, 'chamada': 0, 'oral': 0, 'arrascaeta': 0, 'matías': 0, 'viña': 0, 'convocados': 0, 'uruguai': 0, 'eliminatórias': 0, 'além': 0, 'deles': 0, 'há': 0, 'outros': 0, 'destaques': 0, 'vinho': 0, 'rótulos': 0, 'destaque': 0, 'safra': 0, '2018': 0, 'palma': 0, 'ouro': 0, 'festival': 0, 'cannes': 0, 'estatísticas': 0, 'brasileirão': 0, 'série': 0, 'artilheiros': 0, 'garçons': 0, 'temporada': 2.9068905956085187, 'setembro': 3.9068905956085187, 'chegou': 3.9068905956085187, 'calendário': 3.9068905956085187, '2021': 3.9068905956085187, 'futebol': 3.9068905956085187, 'europeu': 3.9068905956085187}}\n",
            "\n",
            "\n",
            "Ranking:\n",
            "+---------+----------------------------------------------------------------------------------------------------------------------------+---------------------+\n",
            "| Posição |                                                         Documento                                                          |         Rank        |\n",
            "+---------+----------------------------------------------------------------------------------------------------------------------------+---------------------+\n",
            "|    1    |                               Parasita é o grande vencedor do Oscar 2020, com quatro prêmios                               | 0.32530392402175307 |\n",
            "|    2    |                                Parasita é o vencedor da Palma de Ouro no Festival de Cannes                                | 0.29645788681175067 |\n",
            "|    3    |                      Green Book, Roma e Bohemian Rhapsody são os principais vencedores do Oscar 2019                       | 0.27061821938421615 |\n",
            "|    4    |           Oscar 2020: Confira lista completa de vencedores. Parasita e 1917 foram os grandes vencedores da noite           | 0.08903387044070091 |\n",
            "|    5    |                                Em boa fase, Oscar sonha em jogar a Copa do Mundo da Rússia                                 |         0.0         |\n",
            "|    6    |                      Conheça os indicados ao Oscar 2020; Cerimônia de premiação acontece em fevereiro                      |         0.0         |\n",
            "|    7    |   Oscar Schmidt receberá Troféu no Prêmio Brasil Olímpico 2019. Jogador de basquete com mais pontos em Jogos Olímpicos.    |         0.0         |\n",
            "|    8    |                  Seleção brasileira vai observar de 35 a 40 jogadores para definir lista da Copa América                   |         0.0         |\n",
            "|    9    |                              Oscar 2020: saiba como é a escolha dos jurados e como eles votam                              |         0.0         |\n",
            "|    10   |                       Bem, Amigos! discute lista da Seleção, e Galvão dá recado a Tite: Cadê o Luan?                       |         0.0         |\n",
            "|    11   |                         IFAL-Maceió convoca aprovados em lista de espera do SISU para chamada oral                         |         0.0         |\n",
            "|    12   | Arrascaeta e Matías Viña são convocados pelo Uruguai para eliminatórias da Copa. Além deles, há outros destaques na lista. |         0.0         |\n",
            "|    13   |                                Oscar do Vinho: confira os rótulos de destaque da safra 2018                                |         0.0         |\n",
            "|    14   |                       Estatísticas. Brasileirão Série A: Os artilheiros e garçons da temporada 2020                        |         0.0         |\n",
            "|    15   |                      Setembro chegou! Confira o calendário da temporada 2020/2021 do futebol europeu                       |         0.0         |\n",
            "+---------+----------------------------------------------------------------------------------------------------------------------------+---------------------+\n"
          ],
          "name": "stdout"
        }
      ]
    },
    {
      "cell_type": "markdown",
      "metadata": {
        "id": "oE_mRevHhIqD"
      },
      "source": [
        "# Exemplo 3"
      ]
    },
    {
      "cell_type": "markdown",
      "metadata": {
        "id": "TfY38BHshKy0"
      },
      "source": [
        "Coleção, stopwords, consulta e separadores"
      ]
    },
    {
      "cell_type": "code",
      "metadata": {
        "id": "E_bPRKhcYaVH"
      },
      "source": [
        "# Conjunto de documentos\n",
        "M3              = [[\"To do is to be. To be is to do.\"],\n",
        "                  [\"To be or not to be. I am what I am.\"],\n",
        "                  [\"I think therefore I am. Do be do be do.\"],\n",
        "                  [\"Do do do, da da da. Let it be, let it be.\"]]\n",
        "\n",
        "# Lista de stopwords\n",
        "stopwords3     = [] \n",
        "\n",
        "\n",
        "# String contendo os termos da consulta\n",
        "q3             = \"is it\"\n",
        "\n",
        "# Separadores para a tokenizacao\n",
        "separadores3   = [\" \",\",\",\".\",\"!\",\"?\",\":\",\"/\",\"\\\\\",\";\" ]           "
      ],
      "execution_count": null,
      "outputs": []
    },
    {
      "cell_type": "markdown",
      "metadata": {
        "id": "pYFvqlMRhWuF"
      },
      "source": [
        "Aplicação do pré-processamento na coleção e na consulta e aplicação do TF-IDF na coleção"
      ]
    },
    {
      "cell_type": "code",
      "metadata": {
        "id": "v86NpcMwhXzw",
        "outputId": "6a96a4f6-0ea2-40fe-da24-bf46fe239d56",
        "colab": {
          "base_uri": "https://localhost:8080/",
          "height": 394
        }
      },
      "source": [
        "resultadoEx3            = normalizacaoTokenizacao(M3, separadores3, stopwords3)\n",
        "print(\"Resultado da normalização e tokenização:\")\n",
        "print(resultadoEx3)\n",
        "print('\\n')\n",
        "\n",
        "consultaTratadaEx3      = tratamentoConsulta(q3, separadores3, stopwords3)\n",
        "print(\"Resultado do tratamento da consulta:\")\n",
        "print(consultaTratadaEx3)\n",
        "print('\\n')\n",
        "\n",
        "ponderacaoDocumentosEx3 = ponderacaoTF_IDF(resultadoEx3)\n",
        "print(\"Resultado da ponderação TF-IDF para os termos da coleção:\")\n",
        "print(ponderacaoDocumentosEx3)\n",
        "print('\\n')\n",
        "\n",
        "var3                    = ponderacaoTF_IDF2(resultadoEx3, consultaTratadaEx3)\n",
        "dicRank3                = rank(ponderacaoTF_IDF(resultadoEx3), var3)\n",
        "listRank3               = sorted(dicRank3.items(), key=lambda x: x[1], reverse=True)\n",
        "\n",
        "print(\"Ranking:\")\n",
        "\n",
        "tableRank3              = PrettyTable()\n",
        "\n",
        "column_names3           = [\"Posição\", \"Documento\", \"Rank\"] \n",
        "#print(listRank3)\n",
        "\n",
        "tableRank3.add_column(column_names3[0], [i+1 for i in range(len(listRank3))])\n",
        "tableRank3.add_column(column_names3[1], [M3[document[0]][0] for document in listRank3])\n",
        "tableRank3.add_column(column_names3[2], [str(document[1]) for document in listRank3])\n",
        "\n",
        "print(tableRank3)"
      ],
      "execution_count": null,
      "outputs": [
        {
          "output_type": "stream",
          "text": [
            "Resultado da normalização e tokenização:\n",
            "[['to', 'do', 'is', 'to', 'be', 'to', 'be', 'is', 'to', 'do'], ['to', 'be', 'or', 'not', 'to', 'be', 'i', 'am', 'what', 'i', 'am'], ['i', 'think', 'therefore', 'i', 'am', 'do', 'be', 'do', 'be', 'do'], ['do', 'do', 'do', 'da', 'da', 'da', 'let', 'it', 'be', 'let', 'it', 'be']]\n",
            "\n",
            "\n",
            "Resultado do tratamento da consulta:\n",
            "['is', 'it']\n",
            "\n",
            "\n",
            "Resultado da ponderação TF-IDF para os termos da coleção:\n",
            "{0: {'to': 3.0, 'do': 0.8300749985576874, 'is': 4.0, 'be': 0.0, 'or': 0, 'not': 0, 'i': 0, 'am': 0, 'what': 0, 'think': 0, 'therefore': 0, 'da': 0, 'let': 0, 'it': 0}, 1: {'to': 2.0, 'do': 0, 'is': 0, 'be': 0.0, 'or': 2.0, 'not': 2.0, 'i': 2.0, 'am': 2.0, 'what': 2.0, 'think': 0, 'therefore': 0, 'da': 0, 'let': 0, 'it': 0}, 2: {'to': 0, 'do': 1.0728563720288948, 'is': 0, 'be': 0.0, 'or': 0, 'not': 0, 'i': 2.0, 'am': 1.0, 'what': 0, 'think': 2.0, 'therefore': 2.0, 'da': 0, 'let': 0, 'it': 0}, 3: {'to': 0, 'do': 1.0728563720288948, 'is': 0, 'be': 0.0, 'or': 0, 'not': 0, 'i': 0, 'am': 0, 'what': 0, 'think': 0, 'therefore': 0, 'da': 5.169925001442312, 'let': 4.0, 'it': 4.0}}\n",
            "\n",
            "\n",
            "Ranking:\n",
            "+---------+-------------------------------------------+--------------------+\n",
            "| Posição |                 Documento                 |        Rank        |\n",
            "+---------+-------------------------------------------+--------------------+\n",
            "|    1    |      To do is to be. To be is to do.      | 0.5580475258594466 |\n",
            "|    2    | Do do do, da da da. Let it be, let it be. | 0.3655166772504379 |\n",
            "|    3    |    To be or not to be. I am what I am.    |        0.0         |\n",
            "|    4    |  I think therefore I am. Do be do be do.  |        0.0         |\n",
            "+---------+-------------------------------------------+--------------------+\n"
          ],
          "name": "stdout"
        }
      ]
    }
  ]
}