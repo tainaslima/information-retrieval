{
  "nbformat": 4,
  "nbformat_minor": 0,
  "metadata": {
    "colab": {
      "name": "Exercicio9RI_TainaRafael.ipynb",
      "provenance": [],
      "collapsed_sections": []
    },
    "kernelspec": {
      "name": "python3",
      "display_name": "Python 3"
    }
  },
  "cells": [
    {
      "cell_type": "markdown",
      "metadata": {
        "id": "tg_LJgAMLSi6"
      },
      "source": [
        "###Unidade 7  - Recuperação da Informação\n",
        "Aluno(a): Tainá da Silva Lima\n",
        "<br>\n",
        "DRE: 116165607\n",
        "<br><br>\n",
        "Aluno(a): Rafael Pais Cardoso\n",
        "<br>\n",
        "DRE: 116140788\n",
        "<br><br>\n",
        "Professor(a): Giseli Lopes\n",
        "<br>\n",
        "Período: 2020.4 PLE"
      ]
    },
    {
      "cell_type": "markdown",
      "metadata": {
        "id": "Vfo1W590Dt1Z"
      },
      "source": [
        "# Importando as bibliotecas necessárias aos exercícios realizados nesse trabalho"
      ]
    },
    {
      "cell_type": "code",
      "metadata": {
        "id": "ESwW5Yc1QoGG"
      },
      "source": [
        "import numpy as np\n",
        "import math\n",
        "from prettytable import PrettyTable\n",
        "import matplotlib.pyplot as plt"
      ],
      "execution_count": null,
      "outputs": []
    },
    {
      "cell_type": "markdown",
      "metadata": {
        "id": "4ncD2fsBD0Mi"
      },
      "source": [
        "# Funções"
      ]
    },
    {
      "cell_type": "markdown",
      "metadata": {
        "id": "OgE0snOLHIgP"
      },
      "source": [
        "##Pré-processamento da coleção"
      ]
    },
    {
      "cell_type": "code",
      "metadata": {
        "id": "XOpxraUyMZb3"
      },
      "source": [
        "# M             --> Vetor coluna onde cada linha representa o texto de um documento (matriz Nx1).\n",
        "# separadores   --> Vetor linha de caracteres (matriz 1xNc), onde o elemento em cada coluna representa um separador a ser usado na tokenização dos documentos.\n",
        "# stopwords     --> Vetor linha de strings (matriz 1xNs), onde o elemento em cada coluna armazena uma stopword.\n",
        "# Essa função aplica as etapas de pré-processamento nos documentos.\n",
        "def normalizacaoTokenizacao(M, separadores, stopwords):\n",
        "\n",
        "  matriz = []\n",
        "\n",
        "  for index in range(0, len(M)):\n",
        "\n",
        "    # Recebe o texto de um novo documento a cada iteração.\n",
        "    documentoTemporario = M[index][0]\n",
        "\n",
        "    # Remoção dos delimitadores e normalização.\n",
        "    for delimitador in separadores:\n",
        "      documentoTemporario = documentoTemporario.lower().replace(delimitador, \" \")\n",
        "\n",
        "    # Obtenção dos possíveis tokens\n",
        "    tokens = documentoTemporario.split()\n",
        "\n",
        "    # Remoção das stopwords e armazenamento dos tokens em uma matriz Nx1 (cada linha representa um documento e a coluna apresenta a lista de tokens extraídos do documento).\n",
        "    matriz.append(list(filter(lambda a: a not in stopwords, tokens)))\n",
        "    \n",
        "  return matriz"
      ],
      "execution_count": null,
      "outputs": []
    },
    {
      "cell_type": "markdown",
      "metadata": {
        "id": "AUdEtLbgHP5a"
      },
      "source": [
        "## Pré-processamento da consulta"
      ]
    },
    {
      "cell_type": "code",
      "metadata": {
        "id": "Q0cSHVItNF-Y"
      },
      "source": [
        "# consulta      --> String contendo os termos da consulta.\n",
        "# separadores   --> Vetor linha de caracteres (matriz 1xNc), onde o elemento em cada coluna representa um separador a ser usado na tokenização dos documentos.\n",
        "# stopwords     --> Vetor linha de strings (matriz 1xNs), onde o elemento em cada coluna armazena uma stopword.\n",
        "# Essa função aplica as etapas de pré-processamento na consulta.\n",
        "def tratamentoConsulta(consulta, separadores, stopwords):\n",
        "\n",
        "  consultaTratada = consulta\n",
        "  for delimitador in separadores:\n",
        "      consultaTratada = consultaTratada.lower().replace(delimitador, \" \")\n",
        "  \n",
        "  consultaTratada = consultaTratada.split()\n",
        "  \n",
        "  consultaTratada = list(filter(lambda a: a not in stopwords, consultaTratada))\n",
        "  \n",
        "  return consultaTratada"
      ],
      "execution_count": null,
      "outputs": []
    },
    {
      "cell_type": "markdown",
      "metadata": {
        "id": "V9kkvbivHpnK"
      },
      "source": [
        "##Determinação da frequência do termo no documento"
      ]
    },
    {
      "cell_type": "code",
      "metadata": {
        "id": "O8ynT88lHo7i"
      },
      "source": [
        "# termo     --> String contendo um único elemento.\n",
        "# documento --> Vetor de string (matriz 1x1), que representa o texto de um único documento da coleção.\n",
        "# Calcula a frequência de um determinado termo em um documento específico.\n",
        "def freqDoc(termo, documento):\n",
        "  return documento.count(termo)"
      ],
      "execution_count": null,
      "outputs": []
    },
    {
      "cell_type": "markdown",
      "metadata": {
        "id": "W5xtR6dzJpRt"
      },
      "source": [
        "##Determinação da frequência do termo na coleção"
      ]
    },
    {
      "cell_type": "code",
      "metadata": {
        "id": "YETukYYBJrc0"
      },
      "source": [
        "# termo   --> String contendo um único elemento.\n",
        "# colecao --> Vetor de string (matriz 1x1), que representa o texto de um único documento da coleção.\n",
        "# Calcula a frequência de um determinado termo em um documento específico.\n",
        "def freqCol(termo, colecao):\n",
        "  contaTermo = 0\n",
        "  for documento in colecao:\n",
        "    if(termo in documento):\n",
        "      contaTermo+= 1\n",
        "  return contaTermo"
      ],
      "execution_count": null,
      "outputs": []
    },
    {
      "cell_type": "markdown",
      "metadata": {
        "id": "-wpv3zYUqM7Y"
      },
      "source": [
        "## Cálculo TF-IDF\n",
        "\n",
        "Aplicamos a fórmula abaixo para calcular o peso para os termos dos documentos e para a consulta \n",
        "\n",
        "$\\left ( 1+\\log f_{i,j}\\right ) * \\left ( \\log\\frac{N}{^{N_{i}}} \\right )$"
      ]
    },
    {
      "cell_type": "code",
      "metadata": {
        "id": "OoCJNQpuHdrc"
      },
      "source": [
        "# colecao --> Vetor coluna onde cada linha representa o texto de um documento que foi pré-processado, ou seja, foi aplicado normalização e tokenização.\n",
        "# Esta função realiza a ponderação TF-IDF nos termos dos documentos e retorna um dicionário de dicionário em que a chave do dicionário mais externo se \n",
        "# refere ao documento e o valor associado à chave é um outro dicionário em que a chave é o termo e o valor associado é o seu peso.\n",
        "def ponderacaoTF_IDF(colecao):\n",
        "\n",
        "  termoLista      = []\n",
        "  dicionarioPeso  = {}\n",
        "\n",
        "  # Insere os termos dos documentos na lista \"termoLista\", mas sem repetição\n",
        "  for documentos in colecao:\n",
        "    for termo in documentos:\n",
        "      if(termo not in termoLista):\n",
        "        termoLista.append(termo)\n",
        "\n",
        "  numeroDocumento = 0\n",
        "\n",
        "  # Aplicação da fórmula do \"Esquema de ponderação 3\" do slide da aula\n",
        "  for documento in colecao:\n",
        "    dicionarioTemp = {}\n",
        "    for termo in termoLista:\n",
        "      peso = 0\n",
        "      if(termo in documento):\n",
        "        peso = (1 + math.log2(freqDoc(termo, documento))) * (math.log2(len(colecao)/freqCol(termo, colecao)))\n",
        "      if(termo not in dicionarioTemp.keys()):\n",
        "        dicionarioTemp[termo] = peso\n",
        "\n",
        "    dicionarioPeso[numeroDocumento] = dicionarioTemp\n",
        "    numeroDocumento+= 1\n",
        "\n",
        "  return dicionarioPeso"
      ],
      "execution_count": null,
      "outputs": []
    },
    {
      "cell_type": "code",
      "metadata": {
        "id": "LRYR9tXTcZi-"
      },
      "source": [
        "# colecao         --> Vetor coluna onde cada linha representa o texto de um documento que foi pré-processado, ou seja, foi aplicado normalização e tokenização.\n",
        "# consultaTratada --> Lista com os termos da consulta pré-processados\n",
        "# Realiza a ponderação TF-IDF nos termos da consulta e retorna um dicionário em que as chaves são os termos e os valores são os respectivos pesos.\n",
        "def ponderacaoTF_IDF2(colecao, consultaTratada):\n",
        "\n",
        "  termoLista = []\n",
        "\n",
        "  # Insere os termos dos documentos na lista \"termoLista\", mas sem repetição\n",
        "  for documentos in colecao:\n",
        "    for termo in documentos:\n",
        "      if(termo not in termoLista):\n",
        "        termoLista.append(termo)\n",
        "\n",
        "  numeroDocumento = 0\n",
        "\n",
        "  dicionarioTemp  = {}\n",
        "\n",
        "  # Aplicação da fórmula do \"Esquema de ponderação 3\" do slide da aula\n",
        "  for termo in termoLista:\n",
        "    peso = 0\n",
        "    if(termo in consultaTratada):\n",
        "      peso = (1 + math.log2( freqDoc(termo, consultaTratada) ) ) * (math.log2( len(colecao) / freqCol(termo, colecao) ) )\n",
        "    if(termo not in dicionarioTemp.keys()):\n",
        "      dicionarioTemp[termo] = peso\n",
        "\n",
        "  return dicionarioTemp\n",
        "\n",
        "\n",
        "# vetorConsulta --> consulta representada como vetores de termos com pesos associados\n",
        "# vetorDoc      --> documento representado como vetores de termos com pesos associados\n",
        "# Cálculo do cosseno do ângulo formado com o vetor da consulta e o vetor do documento\n",
        "def sim(vetorDoc, vetorConsulta):\n",
        "  somatorio = 0\n",
        "\n",
        "  for i,j in zip(vetorDoc.keys(),range(len(vetorDoc))):\n",
        "    somatorio += vetorDoc[i] * vetorConsulta[j]\n",
        "\n",
        "  moduloVetorDoc      = np.linalg.norm(np.array(list(vetorDoc.values())))\n",
        "  moduloVetorConsulta = np.linalg.norm(np.array(vetorConsulta))\n",
        "\n",
        "  return somatorio/(moduloVetorDoc*moduloVetorConsulta)\n",
        "\n",
        "\n",
        "# dicPesosDoc      --> dicionário obtido da ponderação TF-IDF aplicada nos documentos\n",
        "# dicPesosConsulta --> dicionário obtido da ponderação TF-IDF aplicada na consulta\n",
        "# Aplica o ranqueamento dos documentos\n",
        "def rank(dicPesosDoc, dicPesosConsulta):\n",
        "  \n",
        "  dicRank = {}\n",
        "\n",
        "  for key in dicPesosDoc.keys():\n",
        "    rankDict = sim(dicPesosDoc[key], list(dicPesosConsulta.values()))\n",
        "    dicRank[key] = rankDict\n",
        "  \n",
        "  return dicRank"
      ],
      "execution_count": null,
      "outputs": []
    },
    {
      "cell_type": "markdown",
      "metadata": {
        "id": "t9YPCPVlHeBs"
      },
      "source": [
        "## Cálculo da similaridade pelo BM25\n",
        "\n",
        "Aplicamos a fórmula abaixo para calcular a similaridade entre um documento j e uma consulta q:\n",
        "\n",
        "![formula.png](data:image/png;base64,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)"
      ]
    },
    {
      "cell_type": "code",
      "metadata": {
        "id": "JVipcOb6T1YQ"
      },
      "source": [
        "# matriz --> matriz de tokens Nx1 (cada linha representa um documento e a coluna apresenta a lista de tokens extraídos do documento).\n",
        "# Essa função cria a matriz de incidências. Essa matriz indica se um determinado token existe em um documento (valor > 0 caso exista. Do contrário, valor = 0), assim como\n",
        "# a frequência neste documento.\n",
        "def criarMatrizIncidenciasV2(matriz):\n",
        "\n",
        "  # A chave do diconário é o token. O valor associado à chave é uma matriz 1x1, em que o elemento dicionarioTokens[token][0][0] representa uma matriz 1xN, sendo que cada coluna está \n",
        "  # associada a um respectivo documento e os possíveis valores que podem assumir são maiores ou iguais a 0 (o valor 0 significada que o token não se encontra no documento e o valores\n",
        "  # maiores do que 0 significam a frequência com aparecem no documento.\n",
        "  dicionarioTokensV2 = {}\n",
        "\n",
        "  # Itera sobre os documentos\n",
        "  for index in range(0, len(matriz)):\n",
        "    \n",
        "    # Itera em cada elemento da lista de token\n",
        "    for token in matriz[index]:\n",
        "\n",
        "      # Adiciona o token ao dicionário, caso ele não exista. Além disso, seta o valor para 1 para o documento ao qual pertence.\n",
        "      if(token not in dicionarioTokensV2.keys()):\n",
        "        x                         = [0]*len(matriz)\n",
        "        x[index]                  = 1\n",
        "        dicionarioTokensV2[token] = [x]\n",
        "\n",
        "      # Incrementa-se a frequência com que aparece no respectivo documento\n",
        "      else:\n",
        "          dicionarioTokensV2[token][0][index] += 1\n",
        "          \n",
        "  return dicionarioTokensV2\n",
        "\n",
        "#Função que calcula o tamanho do documento\n",
        "def sizeDocument (document):\n",
        "  return len(document)\n",
        "\n",
        "#Função que calcula o tamanho médio dos documentos da coleção\n",
        "def averageSizeDocument(colecao):\n",
        "  avg = 0\n",
        "  for document in colecao:\n",
        "    avg += sizeDocument(document)\n",
        "  \n",
        "  avg = avg / len(colecao)\n",
        "\n",
        "  return avg\n",
        "\n",
        "#Função que calcula o Ni de cada termo\n",
        "def Ni(frequenciasDoc, termo):\n",
        "  ni = 0\n",
        "\n",
        "  for freq in frequenciasDoc[termo][0]:\n",
        "    if (freq > 0):\n",
        "      ni+=1\n",
        "\n",
        "  return ni\n",
        "\n",
        "#Função que calcula o B para cada termo i e documento j\n",
        "def B(termo, documento, colecao, frequenciasDoc, K1 = 1, b = 0.85):\n",
        "  return ( (K1 + 1)*frequenciasDoc[termo][0][documento] ) / ( K1 * ( (1-b) + b*( sizeDocument(colecao[documento])/averageSizeDocument(colecao) ) )  +  frequenciasDoc[termo][0][documento]) \n",
        "\n",
        "#Função que calcula a parte do log na conta de similaridade\n",
        "def logsPart(N, ni):\n",
        "  return math.log2( (N-ni + 0.5) / (ni + 0.5)  )\n",
        "\n",
        "#Função que encontra os termos em comum entre a consulta e o documento em questão\n",
        "def findIntersectionBetween(consulta, documento):\n",
        "    return list(set(consulta) & set(documento))\n",
        "\n",
        "#Função que calcula os valores da fórmula de similaridade (valores para o ranking)\n",
        "def similaridadeBM25(consulta, colecao, N):\n",
        "\n",
        "  simConsultaDoc = {}\n",
        "\n",
        "  frequenciasDoc = criarMatrizIncidenciasV2(colecao)\n",
        "\n",
        "  for i in range(len(colecao)):\n",
        "    termosEmComum = findIntersectionBetween(consulta, colecao[i])\n",
        "\n",
        "    sum = 0\n",
        "\n",
        "    for termo in termosEmComum:\n",
        "      sum += B(termo, i, colecao, frequenciasDoc) * logsPart(N, Ni(frequenciasDoc, termo))\n",
        "    \n",
        "    if i not in simConsultaDoc.keys():\n",
        "      simConsultaDoc[i] = sum\n",
        "  \n",
        "  return simConsultaDoc\n",
        "\n",
        "\n"
      ],
      "execution_count": null,
      "outputs": []
    },
    {
      "cell_type": "markdown",
      "metadata": {
        "id": "c4d-P52nw0PV"
      },
      "source": [
        "## Cálculo do Revocação e Precisão \n",
        "$Recall = \\frac{\\left | R \\bigcap A \\right |}{\\left | R \\right |}$ <br><br>\n",
        "$Precision =\\frac{\\left | R \\bigcap A \\right |}{\\left | A \\right |}$"
      ]
    },
    {
      "cell_type": "code",
      "metadata": {
        "id": "T3O-2LE8xHO1"
      },
      "source": [
        "def findIntersectionBetween(consulta, documento):\n",
        "    return list(set(consulta) & set(documento))\n",
        "\n",
        "def revocacao(Rcurr, R, A):\n",
        "  intersec = findIntersectionBetween(Rcurr,A)\n",
        "  return len(intersec)/len(R)\n",
        "\n",
        "def precisao(R, A):\n",
        "  intersec = findIntersectionBetween(R, A)\n",
        "  return len(intersec)/len(A)\n",
        "\n",
        "def getRevocacaoRanking(A, R):\n",
        "  recalls = []\n",
        "  acc = []\n",
        "  for doc in R:\n",
        "    if(doc in A):\n",
        "      acc.append(doc)\n",
        "      recalls.append(revocacao(acc, R, A))\n",
        "  \n",
        "  return recalls\n",
        "\n",
        "def getPrecisaoRanking(A, R):\n",
        "  precisions = []\n",
        "  acc = []\n",
        "  for doc in A:\n",
        "    if(doc in R):\n",
        "      acc = A[:A.index(doc)+1]\n",
        "      precisions.append(precisao(R, acc))\n",
        "\n",
        "  return precisions"
      ],
      "execution_count": null,
      "outputs": []
    },
    {
      "cell_type": "markdown",
      "metadata": {
        "id": "c7OsFFi0w-aa"
      },
      "source": [
        "## Cálculo da Precisão interpolada para cada um dos 11 níveis padrão de revocação"
      ]
    },
    {
      "cell_type": "code",
      "metadata": {
        "id": "p3ytH5Y4xZVK"
      },
      "source": [
        "refRecall = [ j/10 for j in range(11)]\n",
        "\n",
        "#print(refRecall)\n",
        "\n",
        "def precisaoInterpolada(refRecall, recallPrecision):\n",
        "  precisaoInterpol = []\n",
        "  for ref in refRecall:\n",
        "    #aux = []\n",
        "    aux = [ref, 0]\n",
        "    for j in range(len(recallPrecision[0])):\n",
        "      if(ref <= recallPrecision[0][j]):\n",
        "        if (aux[1] < recallPrecision[1][j]):\n",
        "          aux[1] = recallPrecision[1][j]\n",
        "    precisaoInterpol.append(aux)\n",
        "\n",
        "  return precisaoInterpol\n"
      ],
      "execution_count": null,
      "outputs": []
    },
    {
      "cell_type": "markdown",
      "metadata": {
        "id": "TxSeYDs3xj48"
      },
      "source": [
        "## Cálculo da Precisão média para a consulta (MAPi)"
      ]
    },
    {
      "cell_type": "code",
      "metadata": {
        "id": "_dqFTJ_Hxu9h"
      },
      "source": [
        "def getPrecisaoRanking2(A, R):\n",
        "  precisions = []\n",
        "  acc = []\n",
        "  for doc in A:\n",
        "    if(doc in R):\n",
        "      acc = A[:A.index(doc)+1]\n",
        "      precisions.append([doc, precisao(R, acc)])\n",
        "\n",
        "  return precisions\n",
        "\n",
        "def getRankValue(doc, rank):\n",
        "  for element in rank:\n",
        "    if (element[0] == doc):\n",
        "      return element[1]\n",
        "\n",
        "def MAPi (rank, Ri):\n",
        "  sum = 0\n",
        "  precisions = getPrecisaoRanking2([element[0] for element in rank],Ri)\n",
        "\n",
        "  sum = 0 \n",
        "  for element in precisions:\n",
        "    if(getRankValue(element[0], rank) > 0):\n",
        "      sum += element[1]\n",
        "  \n",
        "  return (1/len(Ri)) * sum\n"
      ],
      "execution_count": null,
      "outputs": []
    },
    {
      "cell_type": "markdown",
      "metadata": {
        "id": "1jThDMdOEQ5b"
      },
      "source": [
        "# Exemplo 1\n"
      ]
    },
    {
      "cell_type": "markdown",
      "metadata": {
        "id": "BhFDy8M5FBy0"
      },
      "source": [
        "Coleção, stopwords, consulta e separadores"
      ]
    },
    {
      "cell_type": "code",
      "metadata": {
        "id": "gJFVuegcMBPo"
      },
      "source": [
        "# Conjunto de documentos\n",
        "M1            = [[\"O peã e o caval são pec de xadrez. O caval é o melhor do jog.\"],\n",
        "                [\"A jog envolv a torr, o peã e o rei.\"],\n",
        "                [\"O peã lac o boi\"],\n",
        "                [\"Caval de rodei!\"],\n",
        "                [\"Polic o jog no xadrez.\"]]\n",
        "\n",
        "# Lista de stopwords\n",
        "stopwords1    = [\"a\", \"o\", \"e\", \"é\", \"de\", \"do\", \"no\", \"são\"]\n",
        "\n",
        "# String contendo os termos da consulta\n",
        "q1            = \"xadrez peã caval torr\"\n",
        "\n",
        "# Separadores para a tokenizacao\n",
        "separadores1  = [\" \",\",\",\".\",\"!\",\"?\"] \n",
        "\n",
        "R1 = [1,2]"
      ],
      "execution_count": null,
      "outputs": []
    },
    {
      "cell_type": "markdown",
      "metadata": {
        "id": "TZZ1b8WIFFWM"
      },
      "source": [
        "Aplicação do pré-processamento na coleção e na consulta, aplicação do BM25 e o modelo vetorial na coleção, cálculo da revocação e precisão, precisão interpolada e precisão MAP"
      ]
    },
    {
      "cell_type": "code",
      "metadata": {
        "id": "-_a3H8LjQyqY",
        "outputId": "aaf40182-bb2b-4d3b-8b24-81408ef724ac",
        "colab": {
          "base_uri": "https://localhost:8080/",
          "height": 1000
        }
      },
      "source": [
        "resultadoEx1            = normalizacaoTokenizacao(M1, separadores1, stopwords1)\n",
        "print(\"Resultado da normalização e tokenização:\")\n",
        "print(resultadoEx1)\n",
        "print(\"\\n\")\n",
        "\n",
        "consultaTratadaEx1      = tratamentoConsulta(q1, separadores1, stopwords1)\n",
        "print(\"Resultado do tratamento da consulta:\")\n",
        "print(consultaTratadaEx1)\n",
        "print('\\n')\n",
        "\n",
        "dicRank1 = similaridadeBM25(consultaTratadaEx1, resultadoEx1, len(resultadoEx1))\n",
        "\n",
        "listRank1 = sorted(dicRank1.items(), key=lambda x: x[1], reverse=True)\n",
        "\n",
        "ponderacaoDocumentosEx1 = ponderacaoTF_IDF(resultadoEx1)\n",
        "print(\"Resultado da ponderação TF-IDF para os termos da coleção:\")\n",
        "print(ponderacaoDocumentosEx1)\n",
        "print('\\n')\n",
        "\n",
        "var1                    = ponderacaoTF_IDF2(resultadoEx1, consultaTratadaEx1)\n",
        "dicRank12                = rank(ponderacaoTF_IDF(resultadoEx1), var1)\n",
        "listRank12               = sorted(dicRank12.items(), key=lambda x: x[1], reverse=True)\n",
        "\n",
        "print(\"RANKING:\")\n",
        "print(\"\\n\\n\")\n",
        "\n",
        "tableRank1              = PrettyTable()\n",
        "\n",
        "column_names1           = [\"Posição\", \"No do Documento\", \"Documento\", \"Rank BM25\"] \n",
        "#print(listRank1)\n",
        "\n",
        "tableRank1.add_column(column_names1[0], [i+1 for i in range(len(listRank1))])\n",
        "tableRank1.add_column(column_names1[1], [doc[0] for doc in listRank1])\n",
        "tableRank1.add_column(column_names1[2], [M1[document[0]][0] for document in listRank1])\n",
        "tableRank1.add_column(column_names1[3], [str(document[1]) for document in listRank1])\n",
        "\n",
        "\n",
        "tableRank12              = PrettyTable()\n",
        "\n",
        "column_names12           = [\"Posição\", \"No do Documento\", \"Documento\", \"Rank Modelo Vetorial (TF-IDF)\"] \n",
        "\n",
        "tableRank12.add_column(column_names12[0], [i+1 for i in range(len(listRank12))])\n",
        "tableRank12.add_column(column_names12[1], [doc[0] for doc in listRank12])\n",
        "tableRank12.add_column(column_names12[2], [M1[document[0]][0] for document in listRank12])\n",
        "tableRank12.add_column(column_names12[3], [str(document[1]) for document in listRank12])\n",
        "\n",
        "print(\"BM25\")\n",
        "print(tableRank1)\n",
        "print(\"Modelo Vetorial\")\n",
        "print(tableRank12)\n",
        "\n",
        "\n",
        "\n",
        "# Parte do exercício 9 \n",
        "\n",
        "print(\"AVALIAÇÃO DA RECUPERAÇÃO:\")\n",
        "print(\"\\n\\n\")\n",
        "print(\"Revocação e Precisão\")\n",
        "\n",
        "revoc1 = getRevocacaoRanking([doc[0] for doc in listRank1], [i-1 for i in R1])\n",
        "revoc12 = getRevocacaoRanking([doc2[0] for doc2 in listRank12], [i-1 for i in R1])\n",
        "\n",
        "preci1 = getPrecisaoRanking([doc[0] for doc in listRank1], [i-1 for i in R1])\n",
        "preci12 = getPrecisaoRanking([doc2[0] for doc2 in listRank12], [i-1 for i in R1])\n",
        "\n",
        "tableRank13              = PrettyTable()\n",
        "\n",
        "column_names13           = [\"Revocação - BM25\", \"Precisão - BM25\"] \n",
        "\n",
        "tableRank13.add_column(column_names13[0], revoc1)\n",
        "tableRank13.add_column(column_names13[1], preci1)\n",
        "\n",
        "tableRank14              = PrettyTable()\n",
        "\n",
        "column_names14           = [\"Revocação - Modelo Vetorial\", \"Precisão - Modelo Vetorial\"] \n",
        "\n",
        "tableRank14.add_column(column_names14[0], revoc12)\n",
        "tableRank14.add_column(column_names14[1], preci12)\n",
        "\n",
        "print(tableRank13)\n",
        "print(tableRank14)\n",
        "\n",
        "print(\"Precisão Interpolada\")\n",
        "print(\"BM25\")\n",
        "pI1 = precisaoInterpolada(refRecall, [revoc1,preci1])\n",
        "\n",
        "tableRank15  = PrettyTable()\n",
        "\n",
        "column_names15          = [\"Revocação - Precisão Interpolada\", \"Precisão - Precisão Interpolada\"] \n",
        "\n",
        "tableRank15.add_column(column_names15[0], [ element[0] for element in pI1 ])\n",
        "tableRank15.add_column(column_names15[1], [ element[1] for element in pI1 ])\n",
        "\n",
        "print(tableRank15)\n",
        "\n",
        "plt.plot([ element*100 for element in refRecall ], [ item[1]*100  for item in pI1  ])\n",
        "plt.xlabel('Revocação em %')\n",
        "plt.ylabel('Precisão em %')\n",
        "#plt.axis([0, 100, 0, 100])\n",
        "plt.show()\n",
        "\n",
        "print(\"Modelo Vetorial\")\n",
        "pI12 = precisaoInterpolada(refRecall, [revoc12,preci12])\n",
        "\n",
        "tableRank16  = PrettyTable()\n",
        "\n",
        "column_names16          = [\"Revocação - Precisão Interpolada\", \"Precisão - Precisão Interpolada\"] \n",
        "\n",
        "tableRank16.add_column(column_names16[0], [ element[0] for element in pI12 ])\n",
        "tableRank16.add_column(column_names16[1], [ element[1] for element in pI12 ])\n",
        "\n",
        "print(tableRank16)\n",
        "\n",
        "\n",
        "plt.plot([ element*100 for element in refRecall ], [ item[1]*100  for item in pI12  ])\n",
        "plt.xlabel('Revocação em %')\n",
        "plt.ylabel('Precisão em %')\n",
        "#plt.axis([0, 100, 0, 100])\n",
        "plt.show()\n",
        "\n",
        "print(\"Precisão média para consulta - MAPi\")\n",
        "#print(\"BM25\")\n",
        "\n",
        "mapi1 = MAPi(listRank1, [i-1 for i in R1])\n",
        "\n",
        "#print(\"Modelo Vetorial\")\n",
        "\n",
        "mapi12 = MAPi(listRank12, [i-1 for i in R1])\n",
        "\n",
        "tableRank17  = PrettyTable()\n",
        "\n",
        "column_names17          = [\"MAPi - BM25\", \"MAPi - Modelo Vetorial\"] \n",
        "\n",
        "tableRank17.add_column(column_names17[0], [mapi1])\n",
        "tableRank17.add_column(column_names17[1], [mapi12])\n",
        "\n",
        "print(tableRank17)"
      ],
      "execution_count": null,
      "outputs": [
        {
          "output_type": "stream",
          "text": [
            "Resultado da normalização e tokenização:\n",
            "[['peã', 'caval', 'pec', 'xadrez', 'caval', 'melhor', 'jog'], ['jog', 'envolv', 'torr', 'peã', 'rei'], ['peã', 'lac', 'boi'], ['caval', 'rodei'], ['polic', 'jog', 'xadrez']]\n",
            "\n",
            "\n",
            "Resultado do tratamento da consulta:\n",
            "['xadrez', 'peã', 'caval', 'torr']\n",
            "\n",
            "\n",
            "Resultado da ponderação TF-IDF para os termos da coleção:\n",
            "{0: {'peã': 0.7369655941662062, 'caval': 2.643856189774725, 'pec': 2.321928094887362, 'xadrez': 1.3219280948873624, 'melhor': 2.321928094887362, 'jog': 0.7369655941662062, 'envolv': 0, 'torr': 0, 'rei': 0, 'lac': 0, 'boi': 0, 'rodei': 0, 'polic': 0}, 1: {'peã': 0.7369655941662062, 'caval': 0, 'pec': 0, 'xadrez': 0, 'melhor': 0, 'jog': 0.7369655941662062, 'envolv': 2.321928094887362, 'torr': 2.321928094887362, 'rei': 2.321928094887362, 'lac': 0, 'boi': 0, 'rodei': 0, 'polic': 0}, 2: {'peã': 0.7369655941662062, 'caval': 0, 'pec': 0, 'xadrez': 0, 'melhor': 0, 'jog': 0, 'envolv': 0, 'torr': 0, 'rei': 0, 'lac': 2.321928094887362, 'boi': 2.321928094887362, 'rodei': 0, 'polic': 0}, 3: {'peã': 0, 'caval': 1.3219280948873624, 'pec': 0, 'xadrez': 0, 'melhor': 0, 'jog': 0, 'envolv': 0, 'torr': 0, 'rei': 0, 'lac': 0, 'boi': 0, 'rodei': 2.321928094887362, 'polic': 0}, 4: {'peã': 0, 'caval': 0, 'pec': 0, 'xadrez': 1.3219280948873624, 'melhor': 0, 'jog': 0.7369655941662062, 'envolv': 0, 'torr': 0, 'rei': 0, 'lac': 0, 'boi': 0, 'rodei': 0, 'polic': 2.321928094887362}}\n",
            "\n",
            "\n",
            "RANKING:\n",
            "\n",
            "\n",
            "\n",
            "BM25\n",
            "+---------+-----------------+---------------------------------------------------------------+---------------------+\n",
            "| Posição | No do Documento |                           Documento                           |      Rank BM25      |\n",
            "+---------+-----------------+---------------------------------------------------------------+---------------------+\n",
            "|    1    |        1        |              A jog envolv a torr, o peã e o rei.              |  0.9939305523624085 |\n",
            "|    2    |        3        |                        Caval de rodei!                        |  0.6164150186288783 |\n",
            "|    3    |        4        |                     Polic o jog no xadrez.                    |  0.5431349115191514 |\n",
            "|    4    |        0        | O peã e o caval são pec de xadrez. O caval é o melhor do jog. |  0.5338026965445954 |\n",
            "|    5    |        2        |                        O peã lac o boi                        | -0.5431349115191515 |\n",
            "+---------+-----------------+---------------------------------------------------------------+---------------------+\n",
            "Modelo Vetorial\n",
            "+---------+-----------------+---------------------------------------------------------------+-------------------------------+\n",
            "| Posição | No do Documento |                           Documento                           | Rank Modelo Vetorial (TF-IDF) |\n",
            "+---------+-----------------+---------------------------------------------------------------+-------------------------------+\n",
            "|    1    |        1        |              A jog envolv a torr, o peã e o rei.              |       0.4651729931620071      |\n",
            "|    2    |        0        | O peã e o caval são pec de xadrez. O caval é o melhor do jog. |       0.415053375730601       |\n",
            "|    3    |        3        |                        Caval de rodei!                        |      0.21298960013595078      |\n",
            "|    4    |        4        |                     Polic o jog no xadrez.                    |      0.20532236528436032      |\n",
            "|    5    |        2        |                        O peã lac o boi                        |      0.052555274134206874     |\n",
            "+---------+-----------------+---------------------------------------------------------------+-------------------------------+\n",
            "AVALIAÇÃO DA RECUPERAÇÃO:\n",
            "\n",
            "\n",
            "\n",
            "Revocação e Precisão\n",
            "+------------------+-----------------+\n",
            "| Revocação - BM25 | Precisão - BM25 |\n",
            "+------------------+-----------------+\n",
            "|       0.5        |       1.0       |\n",
            "|       1.0        |       0.5       |\n",
            "+------------------+-----------------+\n",
            "+-----------------------------+----------------------------+\n",
            "| Revocação - Modelo Vetorial | Precisão - Modelo Vetorial |\n",
            "+-----------------------------+----------------------------+\n",
            "|             0.5             |            1.0             |\n",
            "|             1.0             |            1.0             |\n",
            "+-----------------------------+----------------------------+\n",
            "Precisão Interpolada\n",
            "BM25\n",
            "+----------------------------------+---------------------------------+\n",
            "| Revocação - Precisão Interpolada | Precisão - Precisão Interpolada |\n",
            "+----------------------------------+---------------------------------+\n",
            "|               0.0                |               1.0               |\n",
            "|               0.1                |               1.0               |\n",
            "|               0.2                |               1.0               |\n",
            "|               0.3                |               1.0               |\n",
            "|               0.4                |               1.0               |\n",
            "|               0.5                |               1.0               |\n",
            "|               0.6                |               0.5               |\n",
            "|               0.7                |               0.5               |\n",
            "|               0.8                |               0.5               |\n",
            "|               0.9                |               0.5               |\n",
            "|               1.0                |               0.5               |\n",
            "+----------------------------------+---------------------------------+\n"
          ],
          "name": "stdout"
        },
        {
          "output_type": "display_data",
          "data": {
            "image/png": "[encoded data removed]",
            "text/plain": [
              "<Figure size 432x288 with 1 Axes>"
            ]
          },
          "metadata": {
            "tags": [],
            "needs_background": "light"
          }
        },
        {
          "output_type": "stream",
          "text": [
            "Modelo Vetorial\n",
            "+----------------------------------+---------------------------------+\n",
            "| Revocação - Precisão Interpolada | Precisão - Precisão Interpolada |\n",
            "+----------------------------------+---------------------------------+\n",
            "|               0.0                |               1.0               |\n",
            "|               0.1                |               1.0               |\n",
            "|               0.2                |               1.0               |\n",
            "|               0.3                |               1.0               |\n",
            "|               0.4                |               1.0               |\n",
            "|               0.5                |               1.0               |\n",
            "|               0.6                |               1.0               |\n",
            "|               0.7                |               1.0               |\n",
            "|               0.8                |               1.0               |\n",
            "|               0.9                |               1.0               |\n",
            "|               1.0                |               1.0               |\n",
            "+----------------------------------+---------------------------------+\n"
          ],
          "name": "stdout"
        },
        {
          "output_type": "display_data",
          "data": {
            "image/png": "[encoded data removed]",
            "text/plain": [
              "<Figure size 432x288 with 1 Axes>"
            ]
          },
          "metadata": {
            "tags": [],
            "needs_background": "light"
          }
        },
        {
          "output_type": "stream",
          "text": [
            "Precisão média para consulta - MAPi\n",
            "+-------------+------------------------+\n",
            "| MAPi - BM25 | MAPi - Modelo Vetorial |\n",
            "+-------------+------------------------+\n",
            "|     0.75    |          1.0           |\n",
            "+-------------+------------------------+\n"
          ],
          "name": "stdout"
        }
      ]
    },
    {
      "cell_type": "markdown",
      "metadata": {
        "id": "Y0nY2eX1EdMK"
      },
      "source": [
        "# Exemplo 2\n"
      ]
    },
    {
      "cell_type": "markdown",
      "metadata": {
        "id": "O1V_cexihDdc"
      },
      "source": [
        "Coleção, stopwords, consulta e separadores"
      ]
    },
    {
      "cell_type": "code",
      "metadata": {
        "id": "iwzmbeIiK8DX"
      },
      "source": [
        "# Conjunto de documentos\n",
        "M2              = [[\"Parasita é o grande vencedor do Oscar 2020, com quatro prêmios\"],\n",
        "                  [\"Green Book, Roma e Bohemian Rhapsody são os principais vencedores do Oscar 2019\"],\n",
        "                  [\"Oscar 2020: Confira lista completa de vencedores. Parasita e 1917 foram os grandes vencedores da noite\"],\n",
        "                  [\"Em boa fase, Oscar sonha em jogar a Copa do Mundo da Rússia\"],\n",
        "                  [\"Conheça os indicados ao Oscar 2020; Cerimônia de premiação acontece em fevereiro\"],\n",
        "                  [\"Oscar Schmidt receberá Troféu no Prêmio Brasil Olímpico 2019. Jogador de basquete com mais pontos em Jogos Olímpicos.\"],\n",
        "                  [\"Seleção brasileira vai observar de 35 a 40 jogadores para definir lista da Copa América\"],\n",
        "                  [\"Oscar 2020: saiba como é a escolha dos jurados e como eles votam\"],\n",
        "                  [\"Bem, Amigos! discute lista da Seleção, e Galvão dá recado a Tite: Cadê o Luan?\"],\n",
        "                  [\"IFAL-Maceió convoca aprovados em lista de espera do SISU para chamada oral\"],\n",
        "                  [\"Arrascaeta e Matías Viña são convocados pelo Uruguai para eliminatórias da Copa. Além deles, há outros destaques na lista.\"],\n",
        "                  [\"Oscar do Vinho: confira os rótulos de destaque da safra 2018\"],\n",
        "                  [\"Parasita é o vencedor da Palma de Ouro no Festival de Cannes\"],\n",
        "                  [\"Estatísticas. Brasileirão Série A: Os artilheiros e garçons da temporada 2020\"],\n",
        "                  [\"Setembro chegou! Confira o calendário da temporada 2020/2021 do futebol europeu\"]]\n",
        "\n",
        "# Lista de stopwords\n",
        "stopwords2     = [\"a\", \"o\", \"e\", \"é\", \"de\", \"do\", \"da\", \"no\", \"na\", \"são\", \"dos\", \"com\", \"como\", \"eles\", \"em\", \"os\", \"ao\", \"para\", \"pelo\"] \n",
        "\n",
        "# String contendo os termos da consulta\n",
        "q2             = \"oscar 2020\"\n",
        "\n",
        "# Separadores para a tokenizacao\n",
        "separadores2   = [\" \",\",\",\".\",\"!\",\"?\",\":\",\"/\",\"\\\\\",\";\" ] \n",
        "\n",
        "R2 = [1,3,5,8]"
      ],
      "execution_count": null,
      "outputs": []
    },
    {
      "cell_type": "markdown",
      "metadata": {
        "id": "58ZBSlikg-QV"
      },
      "source": [
        "Aplicação do pré-processamento na coleção e na consulta, aplicação do BM25 e o modelo vetorial na coleção, cálculo da revocação e precisão, precisão interpolada e precisão MAP"
      ]
    },
    {
      "cell_type": "code",
      "metadata": {
        "id": "LHchq7f2Q08V",
        "outputId": "34eddc12-96fa-4c28-99ef-9293be759a3e",
        "colab": {
          "base_uri": "https://localhost:8080/"
        }
      },
      "source": [
        "resultadoEx2            = normalizacaoTokenizacao(M2, separadores2, stopwords2)\n",
        "print(\"Resultado da normalização e tokenização:\")\n",
        "print(resultadoEx2)\n",
        "print('\\n')\n",
        "\n",
        "consultaTratadaEx2      = tratamentoConsulta(q2, separadores2, stopwords2)\n",
        "print(\"Resultado do tratamento da consulta:\")\n",
        "print(consultaTratadaEx2)\n",
        "print('\\n')\n",
        "\n",
        "dicRank2 = similaridadeBM25(consultaTratadaEx2, resultadoEx2, len(resultadoEx2))\n",
        "\n",
        "listRank2 = sorted(dicRank2.items(), key=lambda x: x[1], reverse=True)\n",
        "\n",
        "ponderacaoDocumentosEx2 = ponderacaoTF_IDF(resultadoEx2)\n",
        "print(\"Resultado da ponderação TF-IDF para os termos da coleção:\")\n",
        "print(ponderacaoDocumentosEx2)\n",
        "print('\\n')\n",
        "\n",
        "var2                    = ponderacaoTF_IDF2(resultadoEx2, consultaTratadaEx2)\n",
        "dicRank22                = rank(ponderacaoTF_IDF(resultadoEx2), var2)\n",
        "listRank22               = sorted(dicRank22.items(), key=lambda x: x[1], reverse=True)\n",
        "\n",
        "print(\"RANKING:\")\n",
        "print(\"\\n\\n\")\n",
        "\n",
        "tableRank2              = PrettyTable()\n",
        "\n",
        "column_names2           = [\"Posição\", \"No do Documento\", \"Documento\", \"Rank BM25\"] \n",
        "#print(listRank1)\n",
        "\n",
        "tableRank2.add_column(column_names2[0], [i+1 for i in range(len(listRank2))])\n",
        "tableRank2.add_column(column_names2[1], [doc[0] for doc in listRank2])\n",
        "tableRank2.add_column(column_names2[2], [M2[document[0]][0] for document in listRank2])\n",
        "tableRank2.add_column(column_names2[3], [str(document[1]) for document in listRank2])\n",
        "\n",
        "\n",
        "tableRank22              = PrettyTable()\n",
        "\n",
        "column_names22           = [\"Posição\", \"No do Documento\", \"Documento\", \"Rank Modelo Vetorial (TF-IDF)\"] \n",
        "#print(listRank1)\n",
        "\n",
        "tableRank22.add_column(column_names22[0], [i+1 for i in range(len(listRank22))])\n",
        "tableRank22.add_column(column_names22[1], [doc[0] for doc in listRank22])\n",
        "tableRank22.add_column(column_names22[2], [M2[document[0]][0] for document in listRank22])\n",
        "tableRank22.add_column(column_names22[3], [str(document[1]) for document in listRank22])\n",
        "\n",
        "print(\"BM25\")\n",
        "print(tableRank2)\n",
        "print(\"Modelo Vetorial\")\n",
        "print(tableRank22)\n",
        "\n",
        "# Parte do exercício 9 \n",
        "\n",
        "revoc2 = getRevocacaoRanking([doc[0] for doc in listRank2], [i-1 for i in R2])\n",
        "revoc22 = getRevocacaoRanking([doc2[0] for doc2 in listRank22], [i-1 for i in R2])\n",
        "\n",
        "preci2 = getPrecisaoRanking([doc[0] for doc in listRank2], [i-1 for i in R2])\n",
        "preci22 = getPrecisaoRanking([doc2[0] for doc2 in listRank22], [i-1 for i in R2])\n",
        "\n",
        "print(\"AVALIAÇÃO DA RECUPERAÇÃO:\")\n",
        "print(\"\\n\\n\")\n",
        "print(\"Revocação e Precisão\")\n",
        "tableRank23              = PrettyTable()\n",
        "\n",
        "column_names23           = [\"Revocação - BM25\", \"Precisão - BM25\"] \n",
        "\n",
        "tableRank23.add_column(column_names23[0], revoc2)\n",
        "tableRank23.add_column(column_names23[1], preci2)\n",
        "\n",
        "tableRank24              = PrettyTable()\n",
        "\n",
        "column_names24           = [\"Revocação - Modelo Vetorial\", \"Precisão - Modelo Vetorial\"] \n",
        "\n",
        "tableRank24.add_column(column_names24[0], revoc22)\n",
        "tableRank24.add_column(column_names24[1], preci22)\n",
        "\n",
        "print(tableRank23)\n",
        "print(tableRank24)\n",
        "\n",
        "print(\"Precisão Interpolada\")\n",
        "print(\"BM25\")\n",
        "pI2 = precisaoInterpolada(refRecall, [revoc2,preci2])\n",
        "\n",
        "tableRank25  = PrettyTable()\n",
        "\n",
        "column_names25          = [\"Revocação - Precisão Interpolada\", \"Precisão - Precisão Interpolada\"] \n",
        "\n",
        "tableRank25.add_column(column_names25[0], [ element[0] for element in pI2 ])\n",
        "tableRank25.add_column(column_names25[1], [ element[1] for element in pI2 ])\n",
        "\n",
        "print(tableRank25)\n",
        "\n",
        "plt.plot([ element*100 for element in refRecall ], [ item[1]*100  for item in pI2  ])\n",
        "plt.xlabel('Revocação em %')\n",
        "plt.ylabel('Precisão em %')\n",
        "#plt.axis([0, 100, 0, 100])\n",
        "plt.show()\n",
        "\n",
        "print(\"Modelo Vetorial\")\n",
        "pI22 = precisaoInterpolada(refRecall, [revoc22,preci22])\n",
        "\n",
        "tableRank26  = PrettyTable()\n",
        "\n",
        "column_names26          = [\"Revocação - Precisão Interpolada\", \"Precisão - Precisão Interpolada\"] \n",
        "\n",
        "tableRank26.add_column(column_names26[0], [ element[0] for element in pI22 ])\n",
        "tableRank26.add_column(column_names26[1], [ element[1] for element in pI22 ])\n",
        "\n",
        "print(tableRank26)\n",
        "\n",
        "plt.plot([ element*100 for element in refRecall ], [ item[1]*100  for item in pI22  ])\n",
        "plt.xlabel('Revocação em %')\n",
        "plt.ylabel('Precisão em %')\n",
        "#plt.axis([0, 100, 0, 100])\n",
        "plt.show()\n",
        "\n",
        "\n",
        "print(\"Precisão média para consulta - MAPi\")\n",
        "#print(\"BM25\")\n",
        "\n",
        "mapi2 = MAPi(listRank2, [i-1 for i in R2])\n",
        "\n",
        "#print(\"Modelo Vetorial\")\n",
        "\n",
        "mapi22 = MAPi(listRank22, [i-1 for i in R2])\n",
        "\n",
        "tableRank27  = PrettyTable()\n",
        "\n",
        "column_names27          = [\"MAPi - BM25\", \"MAPi - Modelo Vetorial\"] \n",
        "\n",
        "tableRank27.add_column(column_names27[0], [mapi2])\n",
        "tableRank27.add_column(column_names27[1], [mapi22])\n",
        "\n",
        "print(tableRank27)"
      ],
      "execution_count": null,
      "outputs": [
        {
          "output_type": "stream",
          "text": [
            "Resultado da normalização e tokenização:\n",
            "[['parasita', 'grande', 'vencedor', 'oscar', '2020', 'quatro', 'prêmios'], ['green', 'book', 'roma', 'bohemian', 'rhapsody', 'principais', 'vencedores', 'oscar', '2019'], ['oscar', '2020', 'confira', 'lista', 'completa', 'vencedores', 'parasita', '1917', 'foram', 'grandes', 'vencedores', 'noite'], ['boa', 'fase', 'oscar', 'sonha', 'jogar', 'copa', 'mundo', 'rússia'], ['conheça', 'indicados', 'oscar', '2020', 'cerimônia', 'premiação', 'acontece', 'fevereiro'], ['oscar', 'schmidt', 'receberá', 'troféu', 'prêmio', 'brasil', 'olímpico', '2019', 'jogador', 'basquete', 'mais', 'pontos', 'jogos', 'olímpicos'], ['seleção', 'brasileira', 'vai', 'observar', '35', '40', 'jogadores', 'definir', 'lista', 'copa', 'américa'], ['oscar', '2020', 'saiba', 'escolha', 'jurados', 'votam'], ['bem', 'amigos', 'discute', 'lista', 'seleção', 'galvão', 'dá', 'recado', 'tite', 'cadê', 'luan'], ['ifal-maceió', 'convoca', 'aprovados', 'lista', 'espera', 'sisu', 'chamada', 'oral'], ['arrascaeta', 'matías', 'viña', 'convocados', 'uruguai', 'eliminatórias', 'copa', 'além', 'deles', 'há', 'outros', 'destaques', 'lista'], ['oscar', 'vinho', 'confira', 'rótulos', 'destaque', 'safra', '2018'], ['parasita', 'vencedor', 'palma', 'ouro', 'festival', 'cannes'], ['estatísticas', 'brasileirão', 'série', 'artilheiros', 'garçons', 'temporada', '2020'], ['setembro', 'chegou', 'confira', 'calendário', 'temporada', '2020', '2021', 'futebol', 'europeu']]\n",
            "\n",
            "\n",
            "Resultado do tratamento da consulta:\n",
            "['oscar', '2020']\n",
            "\n",
            "\n",
            "Resultado da ponderação TF-IDF para os termos da coleção:\n",
            "{0: {'parasita': 2.321928094887362, 'grande': 3.9068905956085187, 'vencedor': 2.9068905956085187, 'oscar': 0.9068905956085185, '2020': 1.3219280948873624, 'quatro': 3.9068905956085187, 'prêmios': 3.9068905956085187, 'green': 0, 'book': 0, 'roma': 0, 'bohemian': 0, 'rhapsody': 0, 'principais': 0, 'vencedores': 0, '2019': 0, 'confira': 0, 'lista': 0, 'completa': 0, '1917': 0, 'foram': 0, 'grandes': 0, 'noite': 0, 'boa': 0, 'fase': 0, 'sonha': 0, 'jogar': 0, 'copa': 0, 'mundo': 0, 'rússia': 0, 'conheça': 0, 'indicados': 0, 'cerimônia': 0, 'premiação': 0, 'acontece': 0, 'fevereiro': 0, 'schmidt': 0, 'receberá': 0, 'troféu': 0, 'prêmio': 0, 'brasil': 0, 'olímpico': 0, 'jogador': 0, 'basquete': 0, 'mais': 0, 'pontos': 0, 'jogos': 0, 'olímpicos': 0, 'seleção': 0, 'brasileira': 0, 'vai': 0, 'observar': 0, '35': 0, '40': 0, 'jogadores': 0, 'definir': 0, 'américa': 0, 'saiba': 0, 'escolha': 0, 'jurados': 0, 'votam': 0, 'bem': 0, 'amigos': 0, 'discute': 0, 'galvão': 0, 'dá': 0, 'recado': 0, 'tite': 0, 'cadê': 0, 'luan': 0, 'ifal-maceió': 0, 'convoca': 0, 'aprovados': 0, 'espera': 0, 'sisu': 0, 'chamada': 0, 'oral': 0, 'arrascaeta': 0, 'matías': 0, 'viña': 0, 'convocados': 0, 'uruguai': 0, 'eliminatórias': 0, 'além': 0, 'deles': 0, 'há': 0, 'outros': 0, 'destaques': 0, 'vinho': 0, 'rótulos': 0, 'destaque': 0, 'safra': 0, '2018': 0, 'palma': 0, 'ouro': 0, 'festival': 0, 'cannes': 0, 'estatísticas': 0, 'brasileirão': 0, 'série': 0, 'artilheiros': 0, 'garçons': 0, 'temporada': 0, 'setembro': 0, 'chegou': 0, 'calendário': 0, '2021': 0, 'futebol': 0, 'europeu': 0}, 1: {'parasita': 0, 'grande': 0, 'vencedor': 0, 'oscar': 0.9068905956085185, '2020': 0, 'quatro': 0, 'prêmios': 0, 'green': 3.9068905956085187, 'book': 3.9068905956085187, 'roma': 3.9068905956085187, 'bohemian': 3.9068905956085187, 'rhapsody': 3.9068905956085187, 'principais': 3.9068905956085187, 'vencedores': 2.9068905956085187, '2019': 2.9068905956085187, 'confira': 0, 'lista': 0, 'completa': 0, '1917': 0, 'foram': 0, 'grandes': 0, 'noite': 0, 'boa': 0, 'fase': 0, 'sonha': 0, 'jogar': 0, 'copa': 0, 'mundo': 0, 'rússia': 0, 'conheça': 0, 'indicados': 0, 'cerimônia': 0, 'premiação': 0, 'acontece': 0, 'fevereiro': 0, 'schmidt': 0, 'receberá': 0, 'troféu': 0, 'prêmio': 0, 'brasil': 0, 'olímpico': 0, 'jogador': 0, 'basquete': 0, 'mais': 0, 'pontos': 0, 'jogos': 0, 'olímpicos': 0, 'seleção': 0, 'brasileira': 0, 'vai': 0, 'observar': 0, '35': 0, '40': 0, 'jogadores': 0, 'definir': 0, 'américa': 0, 'saiba': 0, 'escolha': 0, 'jurados': 0, 'votam': 0, 'bem': 0, 'amigos': 0, 'discute': 0, 'galvão': 0, 'dá': 0, 'recado': 0, 'tite': 0, 'cadê': 0, 'luan': 0, 'ifal-maceió': 0, 'convoca': 0, 'aprovados': 0, 'espera': 0, 'sisu': 0, 'chamada': 0, 'oral': 0, 'arrascaeta': 0, 'matías': 0, 'viña': 0, 'convocados': 0, 'uruguai': 0, 'eliminatórias': 0, 'além': 0, 'deles': 0, 'há': 0, 'outros': 0, 'destaques': 0, 'vinho': 0, 'rótulos': 0, 'destaque': 0, 'safra': 0, '2018': 0, 'palma': 0, 'ouro': 0, 'festival': 0, 'cannes': 0, 'estatísticas': 0, 'brasileirão': 0, 'série': 0, 'artilheiros': 0, 'garçons': 0, 'temporada': 0, 'setembro': 0, 'chegou': 0, 'calendário': 0, '2021': 0, 'futebol': 0, 'europeu': 0}, 2: {'parasita': 2.321928094887362, 'grande': 0, 'vencedor': 0, 'oscar': 0.9068905956085185, '2020': 1.3219280948873624, 'quatro': 0, 'prêmios': 0, 'green': 0, 'book': 0, 'roma': 0, 'bohemian': 0, 'rhapsody': 0, 'principais': 0, 'vencedores': 5.813781191217037, '2019': 0, 'confira': 2.321928094887362, 'lista': 1.584962500721156, 'completa': 3.9068905956085187, '1917': 3.9068905956085187, 'foram': 3.9068905956085187, 'grandes': 3.9068905956085187, 'noite': 3.9068905956085187, 'boa': 0, 'fase': 0, 'sonha': 0, 'jogar': 0, 'copa': 0, 'mundo': 0, 'rússia': 0, 'conheça': 0, 'indicados': 0, 'cerimônia': 0, 'premiação': 0, 'acontece': 0, 'fevereiro': 0, 'schmidt': 0, 'receberá': 0, 'troféu': 0, 'prêmio': 0, 'brasil': 0, 'olímpico': 0, 'jogador': 0, 'basquete': 0, 'mais': 0, 'pontos': 0, 'jogos': 0, 'olímpicos': 0, 'seleção': 0, 'brasileira': 0, 'vai': 0, 'observar': 0, '35': 0, '40': 0, 'jogadores': 0, 'definir': 0, 'américa': 0, 'saiba': 0, 'escolha': 0, 'jurados': 0, 'votam': 0, 'bem': 0, 'amigos': 0, 'discute': 0, 'galvão': 0, 'dá': 0, 'recado': 0, 'tite': 0, 'cadê': 0, 'luan': 0, 'ifal-maceió': 0, 'convoca': 0, 'aprovados': 0, 'espera': 0, 'sisu': 0, 'chamada': 0, 'oral': 0, 'arrascaeta': 0, 'matías': 0, 'viña': 0, 'convocados': 0, 'uruguai': 0, 'eliminatórias': 0, 'além': 0, 'deles': 0, 'há': 0, 'outros': 0, 'destaques': 0, 'vinho': 0, 'rótulos': 0, 'destaque': 0, 'safra': 0, '2018': 0, 'palma': 0, 'ouro': 0, 'festival': 0, 'cannes': 0, 'estatísticas': 0, 'brasileirão': 0, 'série': 0, 'artilheiros': 0, 'garçons': 0, 'temporada': 0, 'setembro': 0, 'chegou': 0, 'calendário': 0, '2021': 0, 'futebol': 0, 'europeu': 0}, 3: {'parasita': 0, 'grande': 0, 'vencedor': 0, 'oscar': 0.9068905956085185, '2020': 0, 'quatro': 0, 'prêmios': 0, 'green': 0, 'book': 0, 'roma': 0, 'bohemian': 0, 'rhapsody': 0, 'principais': 0, 'vencedores': 0, '2019': 0, 'confira': 0, 'lista': 0, 'completa': 0, '1917': 0, 'foram': 0, 'grandes': 0, 'noite': 0, 'boa': 3.9068905956085187, 'fase': 3.9068905956085187, 'sonha': 3.9068905956085187, 'jogar': 3.9068905956085187, 'copa': 2.321928094887362, 'mundo': 3.9068905956085187, 'rússia': 3.9068905956085187, 'conheça': 0, 'indicados': 0, 'cerimônia': 0, 'premiação': 0, 'acontece': 0, 'fevereiro': 0, 'schmidt': 0, 'receberá': 0, 'troféu': 0, 'prêmio': 0, 'brasil': 0, 'olímpico': 0, 'jogador': 0, 'basquete': 0, 'mais': 0, 'pontos': 0, 'jogos': 0, 'olímpicos': 0, 'seleção': 0, 'brasileira': 0, 'vai': 0, 'observar': 0, '35': 0, '40': 0, 'jogadores': 0, 'definir': 0, 'américa': 0, 'saiba': 0, 'escolha': 0, 'jurados': 0, 'votam': 0, 'bem': 0, 'amigos': 0, 'discute': 0, 'galvão': 0, 'dá': 0, 'recado': 0, 'tite': 0, 'cadê': 0, 'luan': 0, 'ifal-maceió': 0, 'convoca': 0, 'aprovados': 0, 'espera': 0, 'sisu': 0, 'chamada': 0, 'oral': 0, 'arrascaeta': 0, 'matías': 0, 'viña': 0, 'convocados': 0, 'uruguai': 0, 'eliminatórias': 0, 'além': 0, 'deles': 0, 'há': 0, 'outros': 0, 'destaques': 0, 'vinho': 0, 'rótulos': 0, 'destaque': 0, 'safra': 0, '2018': 0, 'palma': 0, 'ouro': 0, 'festival': 0, 'cannes': 0, 'estatísticas': 0, 'brasileirão': 0, 'série': 0, 'artilheiros': 0, 'garçons': 0, 'temporada': 0, 'setembro': 0, 'chegou': 0, 'calendário': 0, '2021': 0, 'futebol': 0, 'europeu': 0}, 4: {'parasita': 0, 'grande': 0, 'vencedor': 0, 'oscar': 0.9068905956085185, '2020': 1.3219280948873624, 'quatro': 0, 'prêmios': 0, 'green': 0, 'book': 0, 'roma': 0, 'bohemian': 0, 'rhapsody': 0, 'principais': 0, 'vencedores': 0, '2019': 0, 'confira': 0, 'lista': 0, 'completa': 0, '1917': 0, 'foram': 0, 'grandes': 0, 'noite': 0, 'boa': 0, 'fase': 0, 'sonha': 0, 'jogar': 0, 'copa': 0, 'mundo': 0, 'rússia': 0, 'conheça': 3.9068905956085187, 'indicados': 3.9068905956085187, 'cerimônia': 3.9068905956085187, 'premiação': 3.9068905956085187, 'acontece': 3.9068905956085187, 'fevereiro': 3.9068905956085187, 'schmidt': 0, 'receberá': 0, 'troféu': 0, 'prêmio': 0, 'brasil': 0, 'olímpico': 0, 'jogador': 0, 'basquete': 0, 'mais': 0, 'pontos': 0, 'jogos': 0, 'olímpicos': 0, 'seleção': 0, 'brasileira': 0, 'vai': 0, 'observar': 0, '35': 0, '40': 0, 'jogadores': 0, 'definir': 0, 'américa': 0, 'saiba': 0, 'escolha': 0, 'jurados': 0, 'votam': 0, 'bem': 0, 'amigos': 0, 'discute': 0, 'galvão': 0, 'dá': 0, 'recado': 0, 'tite': 0, 'cadê': 0, 'luan': 0, 'ifal-maceió': 0, 'convoca': 0, 'aprovados': 0, 'espera': 0, 'sisu': 0, 'chamada': 0, 'oral': 0, 'arrascaeta': 0, 'matías': 0, 'viña': 0, 'convocados': 0, 'uruguai': 0, 'eliminatórias': 0, 'além': 0, 'deles': 0, 'há': 0, 'outros': 0, 'destaques': 0, 'vinho': 0, 'rótulos': 0, 'destaque': 0, 'safra': 0, '2018': 0, 'palma': 0, 'ouro': 0, 'festival': 0, 'cannes': 0, 'estatísticas': 0, 'brasileirão': 0, 'série': 0, 'artilheiros': 0, 'garçons': 0, 'temporada': 0, 'setembro': 0, 'chegou': 0, 'calendário': 0, '2021': 0, 'futebol': 0, 'europeu': 0}, 5: {'parasita': 0, 'grande': 0, 'vencedor': 0, 'oscar': 0.9068905956085185, '2020': 0, 'quatro': 0, 'prêmios': 0, 'green': 0, 'book': 0, 'roma': 0, 'bohemian': 0, 'rhapsody': 0, 'principais': 0, 'vencedores': 0, '2019': 2.9068905956085187, 'confira': 0, 'lista': 0, 'completa': 0, '1917': 0, 'foram': 0, 'grandes': 0, 'noite': 0, 'boa': 0, 'fase': 0, 'sonha': 0, 'jogar': 0, 'copa': 0, 'mundo': 0, 'rússia': 0, 'conheça': 0, 'indicados': 0, 'cerimônia': 0, 'premiação': 0, 'acontece': 0, 'fevereiro': 0, 'schmidt': 3.9068905956085187, 'receberá': 3.9068905956085187, 'troféu': 3.9068905956085187, 'prêmio': 3.9068905956085187, 'brasil': 3.9068905956085187, 'olímpico': 3.9068905956085187, 'jogador': 3.9068905956085187, 'basquete': 3.9068905956085187, 'mais': 3.9068905956085187, 'pontos': 3.9068905956085187, 'jogos': 3.9068905956085187, 'olímpicos': 3.9068905956085187, 'seleção': 0, 'brasileira': 0, 'vai': 0, 'observar': 0, '35': 0, '40': 0, 'jogadores': 0, 'definir': 0, 'américa': 0, 'saiba': 0, 'escolha': 0, 'jurados': 0, 'votam': 0, 'bem': 0, 'amigos': 0, 'discute': 0, 'galvão': 0, 'dá': 0, 'recado': 0, 'tite': 0, 'cadê': 0, 'luan': 0, 'ifal-maceió': 0, 'convoca': 0, 'aprovados': 0, 'espera': 0, 'sisu': 0, 'chamada': 0, 'oral': 0, 'arrascaeta': 0, 'matías': 0, 'viña': 0, 'convocados': 0, 'uruguai': 0, 'eliminatórias': 0, 'além': 0, 'deles': 0, 'há': 0, 'outros': 0, 'destaques': 0, 'vinho': 0, 'rótulos': 0, 'destaque': 0, 'safra': 0, '2018': 0, 'palma': 0, 'ouro': 0, 'festival': 0, 'cannes': 0, 'estatísticas': 0, 'brasileirão': 0, 'série': 0, 'artilheiros': 0, 'garçons': 0, 'temporada': 0, 'setembro': 0, 'chegou': 0, 'calendário': 0, '2021': 0, 'futebol': 0, 'europeu': 0}, 6: {'parasita': 0, 'grande': 0, 'vencedor': 0, 'oscar': 0, '2020': 0, 'quatro': 0, 'prêmios': 0, 'green': 0, 'book': 0, 'roma': 0, 'bohemian': 0, 'rhapsody': 0, 'principais': 0, 'vencedores': 0, '2019': 0, 'confira': 0, 'lista': 1.584962500721156, 'completa': 0, '1917': 0, 'foram': 0, 'grandes': 0, 'noite': 0, 'boa': 0, 'fase': 0, 'sonha': 0, 'jogar': 0, 'copa': 2.321928094887362, 'mundo': 0, 'rússia': 0, 'conheça': 0, 'indicados': 0, 'cerimônia': 0, 'premiação': 0, 'acontece': 0, 'fevereiro': 0, 'schmidt': 0, 'receberá': 0, 'troféu': 0, 'prêmio': 0, 'brasil': 0, 'olímpico': 0, 'jogador': 0, 'basquete': 0, 'mais': 0, 'pontos': 0, 'jogos': 0, 'olímpicos': 0, 'seleção': 2.9068905956085187, 'brasileira': 3.9068905956085187, 'vai': 3.9068905956085187, 'observar': 3.9068905956085187, '35': 3.9068905956085187, '40': 3.9068905956085187, 'jogadores': 3.9068905956085187, 'definir': 3.9068905956085187, 'américa': 3.9068905956085187, 'saiba': 0, 'escolha': 0, 'jurados': 0, 'votam': 0, 'bem': 0, 'amigos': 0, 'discute': 0, 'galvão': 0, 'dá': 0, 'recado': 0, 'tite': 0, 'cadê': 0, 'luan': 0, 'ifal-maceió': 0, 'convoca': 0, 'aprovados': 0, 'espera': 0, 'sisu': 0, 'chamada': 0, 'oral': 0, 'arrascaeta': 0, 'matías': 0, 'viña': 0, 'convocados': 0, 'uruguai': 0, 'eliminatórias': 0, 'além': 0, 'deles': 0, 'há': 0, 'outros': 0, 'destaques': 0, 'vinho': 0, 'rótulos': 0, 'destaque': 0, 'safra': 0, '2018': 0, 'palma': 0, 'ouro': 0, 'festival': 0, 'cannes': 0, 'estatísticas': 0, 'brasileirão': 0, 'série': 0, 'artilheiros': 0, 'garçons': 0, 'temporada': 0, 'setembro': 0, 'chegou': 0, 'calendário': 0, '2021': 0, 'futebol': 0, 'europeu': 0}, 7: {'parasita': 0, 'grande': 0, 'vencedor': 0, 'oscar': 0.9068905956085185, '2020': 1.3219280948873624, 'quatro': 0, 'prêmios': 0, 'green': 0, 'book': 0, 'roma': 0, 'bohemian': 0, 'rhapsody': 0, 'principais': 0, 'vencedores': 0, '2019': 0, 'confira': 0, 'lista': 0, 'completa': 0, '1917': 0, 'foram': 0, 'grandes': 0, 'noite': 0, 'boa': 0, 'fase': 0, 'sonha': 0, 'jogar': 0, 'copa': 0, 'mundo': 0, 'rússia': 0, 'conheça': 0, 'indicados': 0, 'cerimônia': 0, 'premiação': 0, 'acontece': 0, 'fevereiro': 0, 'schmidt': 0, 'receberá': 0, 'troféu': 0, 'prêmio': 0, 'brasil': 0, 'olímpico': 0, 'jogador': 0, 'basquete': 0, 'mais': 0, 'pontos': 0, 'jogos': 0, 'olímpicos': 0, 'seleção': 0, 'brasileira': 0, 'vai': 0, 'observar': 0, '35': 0, '40': 0, 'jogadores': 0, 'definir': 0, 'américa': 0, 'saiba': 3.9068905956085187, 'escolha': 3.9068905956085187, 'jurados': 3.9068905956085187, 'votam': 3.9068905956085187, 'bem': 0, 'amigos': 0, 'discute': 0, 'galvão': 0, 'dá': 0, 'recado': 0, 'tite': 0, 'cadê': 0, 'luan': 0, 'ifal-maceió': 0, 'convoca': 0, 'aprovados': 0, 'espera': 0, 'sisu': 0, 'chamada': 0, 'oral': 0, 'arrascaeta': 0, 'matías': 0, 'viña': 0, 'convocados': 0, 'uruguai': 0, 'eliminatórias': 0, 'além': 0, 'deles': 0, 'há': 0, 'outros': 0, 'destaques': 0, 'vinho': 0, 'rótulos': 0, 'destaque': 0, 'safra': 0, '2018': 0, 'palma': 0, 'ouro': 0, 'festival': 0, 'cannes': 0, 'estatísticas': 0, 'brasileirão': 0, 'série': 0, 'artilheiros': 0, 'garçons': 0, 'temporada': 0, 'setembro': 0, 'chegou': 0, 'calendário': 0, '2021': 0, 'futebol': 0, 'europeu': 0}, 8: {'parasita': 0, 'grande': 0, 'vencedor': 0, 'oscar': 0, '2020': 0, 'quatro': 0, 'prêmios': 0, 'green': 0, 'book': 0, 'roma': 0, 'bohemian': 0, 'rhapsody': 0, 'principais': 0, 'vencedores': 0, '2019': 0, 'confira': 0, 'lista': 1.584962500721156, 'completa': 0, '1917': 0, 'foram': 0, 'grandes': 0, 'noite': 0, 'boa': 0, 'fase': 0, 'sonha': 0, 'jogar': 0, 'copa': 0, 'mundo': 0, 'rússia': 0, 'conheça': 0, 'indicados': 0, 'cerimônia': 0, 'premiação': 0, 'acontece': 0, 'fevereiro': 0, 'schmidt': 0, 'receberá': 0, 'troféu': 0, 'prêmio': 0, 'brasil': 0, 'olímpico': 0, 'jogador': 0, 'basquete': 0, 'mais': 0, 'pontos': 0, 'jogos': 0, 'olímpicos': 0, 'seleção': 2.9068905956085187, 'brasileira': 0, 'vai': 0, 'observar': 0, '35': 0, '40': 0, 'jogadores': 0, 'definir': 0, 'américa': 0, 'saiba': 0, 'escolha': 0, 'jurados': 0, 'votam': 0, 'bem': 3.9068905956085187, 'amigos': 3.9068905956085187, 'discute': 3.9068905956085187, 'galvão': 3.9068905956085187, 'dá': 3.9068905956085187, 'recado': 3.9068905956085187, 'tite': 3.9068905956085187, 'cadê': 3.9068905956085187, 'luan': 3.9068905956085187, 'ifal-maceió': 0, 'convoca': 0, 'aprovados': 0, 'espera': 0, 'sisu': 0, 'chamada': 0, 'oral': 0, 'arrascaeta': 0, 'matías': 0, 'viña': 0, 'convocados': 0, 'uruguai': 0, 'eliminatórias': 0, 'além': 0, 'deles': 0, 'há': 0, 'outros': 0, 'destaques': 0, 'vinho': 0, 'rótulos': 0, 'destaque': 0, 'safra': 0, '2018': 0, 'palma': 0, 'ouro': 0, 'festival': 0, 'cannes': 0, 'estatísticas': 0, 'brasileirão': 0, 'série': 0, 'artilheiros': 0, 'garçons': 0, 'temporada': 0, 'setembro': 0, 'chegou': 0, 'calendário': 0, '2021': 0, 'futebol': 0, 'europeu': 0}, 9: {'parasita': 0, 'grande': 0, 'vencedor': 0, 'oscar': 0, '2020': 0, 'quatro': 0, 'prêmios': 0, 'green': 0, 'book': 0, 'roma': 0, 'bohemian': 0, 'rhapsody': 0, 'principais': 0, 'vencedores': 0, '2019': 0, 'confira': 0, 'lista': 1.584962500721156, 'completa': 0, '1917': 0, 'foram': 0, 'grandes': 0, 'noite': 0, 'boa': 0, 'fase': 0, 'sonha': 0, 'jogar': 0, 'copa': 0, 'mundo': 0, 'rússia': 0, 'conheça': 0, 'indicados': 0, 'cerimônia': 0, 'premiação': 0, 'acontece': 0, 'fevereiro': 0, 'schmidt': 0, 'receberá': 0, 'troféu': 0, 'prêmio': 0, 'brasil': 0, 'olímpico': 0, 'jogador': 0, 'basquete': 0, 'mais': 0, 'pontos': 0, 'jogos': 0, 'olímpicos': 0, 'seleção': 0, 'brasileira': 0, 'vai': 0, 'observar': 0, '35': 0, '40': 0, 'jogadores': 0, 'definir': 0, 'américa': 0, 'saiba': 0, 'escolha': 0, 'jurados': 0, 'votam': 0, 'bem': 0, 'amigos': 0, 'discute': 0, 'galvão': 0, 'dá': 0, 'recado': 0, 'tite': 0, 'cadê': 0, 'luan': 0, 'ifal-maceió': 3.9068905956085187, 'convoca': 3.9068905956085187, 'aprovados': 3.9068905956085187, 'espera': 3.9068905956085187, 'sisu': 3.9068905956085187, 'chamada': 3.9068905956085187, 'oral': 3.9068905956085187, 'arrascaeta': 0, 'matías': 0, 'viña': 0, 'convocados': 0, 'uruguai': 0, 'eliminatórias': 0, 'além': 0, 'deles': 0, 'há': 0, 'outros': 0, 'destaques': 0, 'vinho': 0, 'rótulos': 0, 'destaque': 0, 'safra': 0, '2018': 0, 'palma': 0, 'ouro': 0, 'festival': 0, 'cannes': 0, 'estatísticas': 0, 'brasileirão': 0, 'série': 0, 'artilheiros': 0, 'garçons': 0, 'temporada': 0, 'setembro': 0, 'chegou': 0, 'calendário': 0, '2021': 0, 'futebol': 0, 'europeu': 0}, 10: {'parasita': 0, 'grande': 0, 'vencedor': 0, 'oscar': 0, '2020': 0, 'quatro': 0, 'prêmios': 0, 'green': 0, 'book': 0, 'roma': 0, 'bohemian': 0, 'rhapsody': 0, 'principais': 0, 'vencedores': 0, '2019': 0, 'confira': 0, 'lista': 1.584962500721156, 'completa': 0, '1917': 0, 'foram': 0, 'grandes': 0, 'noite': 0, 'boa': 0, 'fase': 0, 'sonha': 0, 'jogar': 0, 'copa': 2.321928094887362, 'mundo': 0, 'rússia': 0, 'conheça': 0, 'indicados': 0, 'cerimônia': 0, 'premiação': 0, 'acontece': 0, 'fevereiro': 0, 'schmidt': 0, 'receberá': 0, 'troféu': 0, 'prêmio': 0, 'brasil': 0, 'olímpico': 0, 'jogador': 0, 'basquete': 0, 'mais': 0, 'pontos': 0, 'jogos': 0, 'olímpicos': 0, 'seleção': 0, 'brasileira': 0, 'vai': 0, 'observar': 0, '35': 0, '40': 0, 'jogadores': 0, 'definir': 0, 'américa': 0, 'saiba': 0, 'escolha': 0, 'jurados': 0, 'votam': 0, 'bem': 0, 'amigos': 0, 'discute': 0, 'galvão': 0, 'dá': 0, 'recado': 0, 'tite': 0, 'cadê': 0, 'luan': 0, 'ifal-maceió': 0, 'convoca': 0, 'aprovados': 0, 'espera': 0, 'sisu': 0, 'chamada': 0, 'oral': 0, 'arrascaeta': 3.9068905956085187, 'matías': 3.9068905956085187, 'viña': 3.9068905956085187, 'convocados': 3.9068905956085187, 'uruguai': 3.9068905956085187, 'eliminatórias': 3.9068905956085187, 'além': 3.9068905956085187, 'deles': 3.9068905956085187, 'há': 3.9068905956085187, 'outros': 3.9068905956085187, 'destaques': 3.9068905956085187, 'vinho': 0, 'rótulos': 0, 'destaque': 0, 'safra': 0, '2018': 0, 'palma': 0, 'ouro': 0, 'festival': 0, 'cannes': 0, 'estatísticas': 0, 'brasileirão': 0, 'série': 0, 'artilheiros': 0, 'garçons': 0, 'temporada': 0, 'setembro': 0, 'chegou': 0, 'calendário': 0, '2021': 0, 'futebol': 0, 'europeu': 0}, 11: {'parasita': 0, 'grande': 0, 'vencedor': 0, 'oscar': 0.9068905956085185, '2020': 0, 'quatro': 0, 'prêmios': 0, 'green': 0, 'book': 0, 'roma': 0, 'bohemian': 0, 'rhapsody': 0, 'principais': 0, 'vencedores': 0, '2019': 0, 'confira': 2.321928094887362, 'lista': 0, 'completa': 0, '1917': 0, 'foram': 0, 'grandes': 0, 'noite': 0, 'boa': 0, 'fase': 0, 'sonha': 0, 'jogar': 0, 'copa': 0, 'mundo': 0, 'rússia': 0, 'conheça': 0, 'indicados': 0, 'cerimônia': 0, 'premiação': 0, 'acontece': 0, 'fevereiro': 0, 'schmidt': 0, 'receberá': 0, 'troféu': 0, 'prêmio': 0, 'brasil': 0, 'olímpico': 0, 'jogador': 0, 'basquete': 0, 'mais': 0, 'pontos': 0, 'jogos': 0, 'olímpicos': 0, 'seleção': 0, 'brasileira': 0, 'vai': 0, 'observar': 0, '35': 0, '40': 0, 'jogadores': 0, 'definir': 0, 'américa': 0, 'saiba': 0, 'escolha': 0, 'jurados': 0, 'votam': 0, 'bem': 0, 'amigos': 0, 'discute': 0, 'galvão': 0, 'dá': 0, 'recado': 0, 'tite': 0, 'cadê': 0, 'luan': 0, 'ifal-maceió': 0, 'convoca': 0, 'aprovados': 0, 'espera': 0, 'sisu': 0, 'chamada': 0, 'oral': 0, 'arrascaeta': 0, 'matías': 0, 'viña': 0, 'convocados': 0, 'uruguai': 0, 'eliminatórias': 0, 'além': 0, 'deles': 0, 'há': 0, 'outros': 0, 'destaques': 0, 'vinho': 3.9068905956085187, 'rótulos': 3.9068905956085187, 'destaque': 3.9068905956085187, 'safra': 3.9068905956085187, '2018': 3.9068905956085187, 'palma': 0, 'ouro': 0, 'festival': 0, 'cannes': 0, 'estatísticas': 0, 'brasileirão': 0, 'série': 0, 'artilheiros': 0, 'garçons': 0, 'temporada': 0, 'setembro': 0, 'chegou': 0, 'calendário': 0, '2021': 0, 'futebol': 0, 'europeu': 0}, 12: {'parasita': 2.321928094887362, 'grande': 0, 'vencedor': 2.9068905956085187, 'oscar': 0, '2020': 0, 'quatro': 0, 'prêmios': 0, 'green': 0, 'book': 0, 'roma': 0, 'bohemian': 0, 'rhapsody': 0, 'principais': 0, 'vencedores': 0, '2019': 0, 'confira': 0, 'lista': 0, 'completa': 0, '1917': 0, 'foram': 0, 'grandes': 0, 'noite': 0, 'boa': 0, 'fase': 0, 'sonha': 0, 'jogar': 0, 'copa': 0, 'mundo': 0, 'rússia': 0, 'conheça': 0, 'indicados': 0, 'cerimônia': 0, 'premiação': 0, 'acontece': 0, 'fevereiro': 0, 'schmidt': 0, 'receberá': 0, 'troféu': 0, 'prêmio': 0, 'brasil': 0, 'olímpico': 0, 'jogador': 0, 'basquete': 0, 'mais': 0, 'pontos': 0, 'jogos': 0, 'olímpicos': 0, 'seleção': 0, 'brasileira': 0, 'vai': 0, 'observar': 0, '35': 0, '40': 0, 'jogadores': 0, 'definir': 0, 'américa': 0, 'saiba': 0, 'escolha': 0, 'jurados': 0, 'votam': 0, 'bem': 0, 'amigos': 0, 'discute': 0, 'galvão': 0, 'dá': 0, 'recado': 0, 'tite': 0, 'cadê': 0, 'luan': 0, 'ifal-maceió': 0, 'convoca': 0, 'aprovados': 0, 'espera': 0, 'sisu': 0, 'chamada': 0, 'oral': 0, 'arrascaeta': 0, 'matías': 0, 'viña': 0, 'convocados': 0, 'uruguai': 0, 'eliminatórias': 0, 'além': 0, 'deles': 0, 'há': 0, 'outros': 0, 'destaques': 0, 'vinho': 0, 'rótulos': 0, 'destaque': 0, 'safra': 0, '2018': 0, 'palma': 3.9068905956085187, 'ouro': 3.9068905956085187, 'festival': 3.9068905956085187, 'cannes': 3.9068905956085187, 'estatísticas': 0, 'brasileirão': 0, 'série': 0, 'artilheiros': 0, 'garçons': 0, 'temporada': 0, 'setembro': 0, 'chegou': 0, 'calendário': 0, '2021': 0, 'futebol': 0, 'europeu': 0}, 13: {'parasita': 0, 'grande': 0, 'vencedor': 0, 'oscar': 0, '2020': 1.3219280948873624, 'quatro': 0, 'prêmios': 0, 'green': 0, 'book': 0, 'roma': 0, 'bohemian': 0, 'rhapsody': 0, 'principais': 0, 'vencedores': 0, '2019': 0, 'confira': 0, 'lista': 0, 'completa': 0, '1917': 0, 'foram': 0, 'grandes': 0, 'noite': 0, 'boa': 0, 'fase': 0, 'sonha': 0, 'jogar': 0, 'copa': 0, 'mundo': 0, 'rússia': 0, 'conheça': 0, 'indicados': 0, 'cerimônia': 0, 'premiação': 0, 'acontece': 0, 'fevereiro': 0, 'schmidt': 0, 'receberá': 0, 'troféu': 0, 'prêmio': 0, 'brasil': 0, 'olímpico': 0, 'jogador': 0, 'basquete': 0, 'mais': 0, 'pontos': 0, 'jogos': 0, 'olímpicos': 0, 'seleção': 0, 'brasileira': 0, 'vai': 0, 'observar': 0, '35': 0, '40': 0, 'jogadores': 0, 'definir': 0, 'américa': 0, 'saiba': 0, 'escolha': 0, 'jurados': 0, 'votam': 0, 'bem': 0, 'amigos': 0, 'discute': 0, 'galvão': 0, 'dá': 0, 'recado': 0, 'tite': 0, 'cadê': 0, 'luan': 0, 'ifal-maceió': 0, 'convoca': 0, 'aprovados': 0, 'espera': 0, 'sisu': 0, 'chamada': 0, 'oral': 0, 'arrascaeta': 0, 'matías': 0, 'viña': 0, 'convocados': 0, 'uruguai': 0, 'eliminatórias': 0, 'além': 0, 'deles': 0, 'há': 0, 'outros': 0, 'destaques': 0, 'vinho': 0, 'rótulos': 0, 'destaque': 0, 'safra': 0, '2018': 0, 'palma': 0, 'ouro': 0, 'festival': 0, 'cannes': 0, 'estatísticas': 3.9068905956085187, 'brasileirão': 3.9068905956085187, 'série': 3.9068905956085187, 'artilheiros': 3.9068905956085187, 'garçons': 3.9068905956085187, 'temporada': 2.9068905956085187, 'setembro': 0, 'chegou': 0, 'calendário': 0, '2021': 0, 'futebol': 0, 'europeu': 0}, 14: {'parasita': 0, 'grande': 0, 'vencedor': 0, 'oscar': 0, '2020': 1.3219280948873624, 'quatro': 0, 'prêmios': 0, 'green': 0, 'book': 0, 'roma': 0, 'bohemian': 0, 'rhapsody': 0, 'principais': 0, 'vencedores': 0, '2019': 0, 'confira': 2.321928094887362, 'lista': 0, 'completa': 0, '1917': 0, 'foram': 0, 'grandes': 0, 'noite': 0, 'boa': 0, 'fase': 0, 'sonha': 0, 'jogar': 0, 'copa': 0, 'mundo': 0, 'rússia': 0, 'conheça': 0, 'indicados': 0, 'cerimônia': 0, 'premiação': 0, 'acontece': 0, 'fevereiro': 0, 'schmidt': 0, 'receberá': 0, 'troféu': 0, 'prêmio': 0, 'brasil': 0, 'olímpico': 0, 'jogador': 0, 'basquete': 0, 'mais': 0, 'pontos': 0, 'jogos': 0, 'olímpicos': 0, 'seleção': 0, 'brasileira': 0, 'vai': 0, 'observar': 0, '35': 0, '40': 0, 'jogadores': 0, 'definir': 0, 'américa': 0, 'saiba': 0, 'escolha': 0, 'jurados': 0, 'votam': 0, 'bem': 0, 'amigos': 0, 'discute': 0, 'galvão': 0, 'dá': 0, 'recado': 0, 'tite': 0, 'cadê': 0, 'luan': 0, 'ifal-maceió': 0, 'convoca': 0, 'aprovados': 0, 'espera': 0, 'sisu': 0, 'chamada': 0, 'oral': 0, 'arrascaeta': 0, 'matías': 0, 'viña': 0, 'convocados': 0, 'uruguai': 0, 'eliminatórias': 0, 'além': 0, 'deles': 0, 'há': 0, 'outros': 0, 'destaques': 0, 'vinho': 0, 'rótulos': 0, 'destaque': 0, 'safra': 0, '2018': 0, 'palma': 0, 'ouro': 0, 'festival': 0, 'cannes': 0, 'estatísticas': 0, 'brasileirão': 0, 'série': 0, 'artilheiros': 0, 'garçons': 0, 'temporada': 2.9068905956085187, 'setembro': 3.9068905956085187, 'chegou': 3.9068905956085187, 'calendário': 3.9068905956085187, '2021': 3.9068905956085187, 'futebol': 3.9068905956085187, 'europeu': 3.9068905956085187}}\n",
            "\n",
            "\n",
            "RANKING:\n",
            "\n",
            "\n",
            "\n",
            "BM25\n",
            "+---------+-----------------+----------------------------------------------------------------------------------------------------------------------------+----------------------+\n",
            "| Posição | No do Documento |                                                         Documento                                                          |      Rank BM25       |\n",
            "+---------+-----------------+----------------------------------------------------------------------------------------------------------------------------+----------------------+\n",
            "|    1    |        13       |                       Estatísticas. Brasileirão Série A: Os artilheiros e garçons da temporada 2020                        |  0.6062148598505116  |\n",
            "|    2    |        14       |                      Setembro chegou! Confira o calendário da temporada 2020/2021 do futebol europeu                       |  0.5492040579836923  |\n",
            "|    3    |        7        |                              Oscar 2020: saiba como é a escolha dos jurados e como eles votam                              |  0.4285145105526101  |\n",
            "|    4    |        0        |                               Parasita é o grande vencedor do Oscar 2020, com quatro prêmios                               |  0.4062732729806753  |\n",
            "|    5    |        4        |                      Conheça os indicados ao Oscar 2020; Cerimônia de premiação acontece em fevereiro                      |  0.3862268943796551  |\n",
            "|    6    |        2        |           Oscar 2020: Confira lista completa de vencedores. Parasita e 1917 foram os grandes vencedores da noite           |  0.3225631205808108  |\n",
            "|    7    |        6        |                  Seleção brasileira vai observar de 35 a 40 jogadores para definir lista da Copa América                   |          0           |\n",
            "|    8    |        8        |                       Bem, Amigos! discute lista da Seleção, e Galvão dá recado a Tite: Cadê o Luan?                       |          0           |\n",
            "|    9    |        9        |                         IFAL-Maceió convoca aprovados em lista de espera do SISU para chamada oral                         |          0           |\n",
            "|    10   |        10       | Arrascaeta e Matías Viña são convocados pelo Uruguai para eliminatórias da Copa. Além deles, há outros destaques na lista. |          0           |\n",
            "|    11   |        12       |                                Parasita é o vencedor da Palma de Ouro no Festival de Cannes                                |          0           |\n",
            "|    12   |        5        |   Oscar Schmidt receberá Troféu no Prêmio Brasil Olímpico 2019. Jogador de basquete com mais pontos em Jogos Olímpicos.    | -0.14665766143498146 |\n",
            "|    13   |        1        |                      Green Book, Roma e Bohemian Rhapsody são os principais vencedores do Oscar 2019                       | -0.1811383028381903  |\n",
            "|    14   |        3        |                                Em boa fase, Oscar sonha em jogar a Copa do Mundo da Rússia                                 |  -0.190076048044022  |\n",
            "|    15   |        11       |                                Oscar do Vinho: confira os rótulos de destaque da safra 2018                                | -0.19994158686983632 |\n",
            "+---------+-----------------+----------------------------------------------------------------------------------------------------------------------------+----------------------+\n",
            "Modelo Vetorial\n",
            "+---------+-----------------+----------------------------------------------------------------------------------------------------------------------------+-------------------------------+\n",
            "| Posição | No do Documento |                                                         Documento                                                          | Rank Modelo Vetorial (TF-IDF) |\n",
            "+---------+-----------------+----------------------------------------------------------------------------------------------------------------------------+-------------------------------+\n",
            "|    1    |        0        |                               Parasita é o grande vencedor do Oscar 2020, com quatro prêmios                               |      0.20326251017819486      |\n",
            "|    2    |        7        |                              Oscar 2020: saiba como é a escolha dos jurados e como eles votam                              |      0.20097755420172495      |\n",
            "|    3    |        4        |                      Conheça os indicados ao Oscar 2020; Cerimônia de premiação acontece em fevereiro                      |      0.16521347144877913      |\n",
            "|    4    |        2        |           Oscar 2020: Confira lista completa de vencedores. Parasita e 1917 foram os grandes vencedores da noite           |      0.14282510820596464      |\n",
            "|    5    |        13       |                       Estatísticas. Brasileirão Série A: Os artilheiros e garçons da temporada 2020                        |      0.11719373184772379      |\n",
            "|    6    |        14       |                      Setembro chegou! Confira o calendário da temporada 2020/2021 do futebol europeu                       |      0.10529649064279957      |\n",
            "|    7    |        11       |                                Oscar do Vinho: confira os rótulos de destaque da safra 2018                                |      0.05647220110054805      |\n",
            "|    8    |        3        |                                Em boa fase, Oscar sonha em jogar a Copa do Mundo da Rússia                                 |      0.05187834680787721      |\n",
            "|    9    |        1        |                      Green Book, Roma e Bohemian Rhapsody são os principais vencedores do Oscar 2019                       |      0.04907128559465656      |\n",
            "|    10   |        5        |   Oscar Schmidt receberá Troféu no Prêmio Brasil Olímpico 2019. Jogador de basquete com mais pontos em Jogos Olímpicos.    |      0.03698303257131156      |\n",
            "|    11   |        6        |                  Seleção brasileira vai observar de 35 a 40 jogadores para definir lista da Copa América                   |              0.0              |\n",
            "|    12   |        8        |                       Bem, Amigos! discute lista da Seleção, e Galvão dá recado a Tite: Cadê o Luan?                       |              0.0              |\n",
            "|    13   |        9        |                         IFAL-Maceió convoca aprovados em lista de espera do SISU para chamada oral                         |              0.0              |\n",
            "|    14   |        10       | Arrascaeta e Matías Viña são convocados pelo Uruguai para eliminatórias da Copa. Além deles, há outros destaques na lista. |              0.0              |\n",
            "|    15   |        12       |                                Parasita é o vencedor da Palma de Ouro no Festival de Cannes                                |              0.0              |\n",
            "+---------+-----------------+----------------------------------------------------------------------------------------------------------------------------+-------------------------------+\n",
            "AVALIAÇÃO DA RECUPERAÇÃO:\n",
            "\n",
            "\n",
            "\n",
            "Revocação e Precisão\n",
            "+------------------+--------------------+\n",
            "| Revocação - BM25 |  Precisão - BM25   |\n",
            "+------------------+--------------------+\n",
            "|       0.25       | 0.3333333333333333 |\n",
            "|       0.5        |        0.5         |\n",
            "|       0.75       |        0.6         |\n",
            "|       1.0        | 0.6666666666666666 |\n",
            "+------------------+--------------------+\n",
            "+-----------------------------+----------------------------+\n",
            "| Revocação - Modelo Vetorial | Precisão - Modelo Vetorial |\n",
            "+-----------------------------+----------------------------+\n",
            "|             0.25            |            1.0             |\n",
            "|             0.5             |            1.0             |\n",
            "|             0.75            |            1.0             |\n",
            "|             1.0             |            1.0             |\n",
            "+-----------------------------+----------------------------+\n",
            "Precisão Interpolada\n",
            "BM25\n",
            "+----------------------------------+---------------------------------+\n",
            "| Revocação - Precisão Interpolada | Precisão - Precisão Interpolada |\n",
            "+----------------------------------+---------------------------------+\n",
            "|               0.0                |        0.6666666666666666       |\n",
            "|               0.1                |        0.6666666666666666       |\n",
            "|               0.2                |        0.6666666666666666       |\n",
            "|               0.3                |        0.6666666666666666       |\n",
            "|               0.4                |        0.6666666666666666       |\n",
            "|               0.5                |        0.6666666666666666       |\n",
            "|               0.6                |        0.6666666666666666       |\n",
            "|               0.7                |        0.6666666666666666       |\n",
            "|               0.8                |        0.6666666666666666       |\n",
            "|               0.9                |        0.6666666666666666       |\n",
            "|               1.0                |        0.6666666666666666       |\n",
            "+----------------------------------+---------------------------------+\n"
          ],
          "name": "stdout"
        },
        {
          "output_type": "display_data",
          "data": {
            "image/png": "[encoded data removed]",
            "text/plain": [
              "<Figure size 432x288 with 1 Axes>"
            ]
          },
          "metadata": {
            "tags": [],
            "needs_background": "light"
          }
        },
        {
          "output_type": "stream",
          "text": [
            "Modelo Vetorial\n",
            "+----------------------------------+---------------------------------+\n",
            "| Revocação - Precisão Interpolada | Precisão - Precisão Interpolada |\n",
            "+----------------------------------+---------------------------------+\n",
            "|               0.0                |               1.0               |\n",
            "|               0.1                |               1.0               |\n",
            "|               0.2                |               1.0               |\n",
            "|               0.3                |               1.0               |\n",
            "|               0.4                |               1.0               |\n",
            "|               0.5                |               1.0               |\n",
            "|               0.6                |               1.0               |\n",
            "|               0.7                |               1.0               |\n",
            "|               0.8                |               1.0               |\n",
            "|               0.9                |               1.0               |\n",
            "|               1.0                |               1.0               |\n",
            "+----------------------------------+---------------------------------+\n"
          ],
          "name": "stdout"
        },
        {
          "output_type": "display_data",
          "data": {
            "image/png": "[encoded data removed]",
            "text/plain": [
              "<Figure size 432x288 with 1 Axes>"
            ]
          },
          "metadata": {
            "tags": [],
            "needs_background": "light"
          }
        },
        {
          "output_type": "stream",
          "text": [
            "Precisão média para consulta - MAPi\n",
            "+--------------------+------------------------+\n",
            "|    MAPi - BM25     | MAPi - Modelo Vetorial |\n",
            "+--------------------+------------------------+\n",
            "| 0.5249999999999999 |          1.0           |\n",
            "+--------------------+------------------------+\n"
          ],
          "name": "stdout"
        }
      ]
    },
    {
      "cell_type": "markdown",
      "metadata": {
        "id": "oE_mRevHhIqD"
      },
      "source": [
        "# Exemplo 3"
      ]
    },
    {
      "cell_type": "markdown",
      "metadata": {
        "id": "TfY38BHshKy0"
      },
      "source": [
        "Coleção, stopwords, consulta e separadores"
      ]
    },
    {
      "cell_type": "code",
      "metadata": {
        "id": "E_bPRKhcYaVH"
      },
      "source": [
        "# Conjunto de documentos\n",
        "M3              = [[\"To do is to be. To be is to do.\"],\n",
        "                  [\"To be or not to be. I am what I am.\"],\n",
        "                  [\"I think therefore I am. Do be do be do.\"],\n",
        "                  [\"Do do do, da da da. Let it be, let it be.\"]]\n",
        "\n",
        "# Lista de stopwords\n",
        "stopwords3     = [] \n",
        "\n",
        "\n",
        "# String contendo os termos da consulta\n",
        "q3             = \"is it\"\n",
        "\n",
        "# Separadores para a tokenizacao\n",
        "separadores3   = [\" \",\",\",\".\",\"!\",\"?\",\":\",\"/\",\"\\\\\",\";\" ]      \n",
        "\n",
        "R3 = [1,2]"
      ],
      "execution_count": null,
      "outputs": []
    },
    {
      "cell_type": "markdown",
      "metadata": {
        "id": "pYFvqlMRhWuF"
      },
      "source": [
        "Aplicação do pré-processamento na coleção e na consulta, aplicação do BM25 e o modelo vetorial na coleção, cálculo da revocação e precisão, precisão interpolada e precisão MAP"
      ]
    },
    {
      "cell_type": "code",
      "metadata": {
        "id": "v86NpcMwhXzw",
        "outputId": "f480ca97-7437-45b2-e87b-d3cd0b61f305",
        "colab": {
          "base_uri": "https://localhost:8080/",
          "height": 1000
        }
      },
      "source": [
        "resultadoEx3            = normalizacaoTokenizacao(M3, separadores3, stopwords3)\n",
        "print(\"Resultado da normalização e tokenização:\")\n",
        "print(resultadoEx3)\n",
        "print('\\n')\n",
        "\n",
        "consultaTratadaEx3      = tratamentoConsulta(q3, separadores3, stopwords3)\n",
        "print(\"Resultado do tratamento da consulta:\")\n",
        "print(consultaTratadaEx3)\n",
        "print('\\n')\n",
        "\n",
        "dicRank3 = similaridadeBM25(consultaTratadaEx3, resultadoEx3, len(resultadoEx3))\n",
        "\n",
        "listRank3 = sorted(dicRank3.items(), key=lambda x: x[1], reverse=True)\n",
        "\n",
        "ponderacaoDocumentosEx3 = ponderacaoTF_IDF(resultadoEx3)\n",
        "print(\"Resultado da ponderação TF-IDF para os termos da coleção:\")\n",
        "print(ponderacaoDocumentosEx3)\n",
        "print('\\n')\n",
        "\n",
        "var3                    = ponderacaoTF_IDF2(resultadoEx3, consultaTratadaEx3)\n",
        "dicRank32                = rank(ponderacaoTF_IDF(resultadoEx3), var3)\n",
        "listRank32               = sorted(dicRank32.items(), key=lambda x: x[1], reverse=True)\n",
        "\n",
        "print(\"RANKING:\")\n",
        "print(\"\\n\\n\")\n",
        "\n",
        "tableRank3              = PrettyTable()\n",
        "\n",
        "column_names3           = [\"Posição\", \"No do Documento\", \"Documento\", \"Rank BM25\"] \n",
        "#print(listRank1)\n",
        "\n",
        "tableRank3.add_column(column_names2[0], [i+1 for i in range(len(listRank3))])\n",
        "tableRank3.add_column(column_names2[1], [doc[0] for doc in listRank3])\n",
        "tableRank3.add_column(column_names3[2], [M3[document[0]][0] for document in listRank3])\n",
        "tableRank3.add_column(column_names3[3], [str(document[1]) for document in listRank3])\n",
        "\n",
        "\n",
        "tableRank32              = PrettyTable()\n",
        "\n",
        "column_names32           = [\"Posição\", \"No do Documento\", \"Documento\", \"Rank Modelo Vetorial (TF-IDF)\"] \n",
        "#print(listRank1)\n",
        "\n",
        "tableRank32.add_column(column_names32[0], [i+1 for i in range(len(listRank32))])\n",
        "tableRank32.add_column(column_names32[1], [doc[0] for doc in listRank32])\n",
        "tableRank32.add_column(column_names32[2], [M3[document[0]][0] for document in listRank32])\n",
        "tableRank32.add_column(column_names32[3], [str(document[1]) for document in listRank32])\n",
        "\n",
        "print(\"BM25\")\n",
        "print(tableRank3)\n",
        "print(\"Modelo Vetorial\")\n",
        "print(tableRank32)\n",
        "\n",
        "# Parte do exercício 9 \n",
        "print(\"AVALIAÇÃO DA RECUPERAÇÃO:\")\n",
        "print(\"\\n\\n\")\n",
        "print(\"Revocação e Precisão\")\n",
        "\n",
        "revoc3 = getRevocacaoRanking([doc[0] for doc in listRank2], [i-1 for i in R3])\n",
        "revoc32 = getRevocacaoRanking([doc2[0] for doc2 in listRank22], [i-1 for i in R3])\n",
        "\n",
        "preci3 = getPrecisaoRanking([doc[0] for doc in listRank2], [i-1 for i in R3])\n",
        "preci32 = getPrecisaoRanking([doc2[0] for doc2 in listRank22], [i-1 for i in R3])\n",
        "\n",
        "tableRank33              = PrettyTable()\n",
        "\n",
        "column_names33           = [\"Revocação - BM25\", \"Precisão - BM25\"] \n",
        "\n",
        "tableRank33.add_column(column_names33[0], revoc3)\n",
        "tableRank33.add_column(column_names33[1], preci3)\n",
        "\n",
        "tableRank34              = PrettyTable()\n",
        "\n",
        "column_names34           = [\"Revocação - Modelo Vetorial\", \"Precisão - Modelo Vetorial\"] \n",
        "\n",
        "tableRank34.add_column(column_names34[0], revoc32)\n",
        "tableRank34.add_column(column_names34[1], preci32)\n",
        "\n",
        "print(tableRank33)\n",
        "print(tableRank34)\n",
        "\n",
        "\n",
        "print(\"Precisão Interpolada\")\n",
        "print(\"BM25\")\n",
        "pI3 = precisaoInterpolada(refRecall, [revoc3,preci3])\n",
        "\n",
        "tableRank35  = PrettyTable()\n",
        "\n",
        "column_names35          = [\"Revocação - Precisão Interpolada\", \"Precisão - Precisão Interpolada\"] \n",
        "\n",
        "tableRank35.add_column(column_names35[0], [ element[0] for element in pI3 ])\n",
        "tableRank35.add_column(column_names35[1], [ element[1] for element in pI3 ])\n",
        "\n",
        "print(tableRank35)\n",
        "\n",
        "plt.plot([ element*100 for element in refRecall ], [ item[1]*100  for item in pI3  ])\n",
        "plt.xlabel('Revocação em %')\n",
        "plt.ylabel('Precisão em %')\n",
        "#plt.axis([0, 100, 0, 100])\n",
        "plt.show()\n",
        "\n",
        "print(\"Modelo Vetorial\")\n",
        "pI32 = precisaoInterpolada(refRecall, [revoc32,preci32])\n",
        "\n",
        "tableRank36  = PrettyTable()\n",
        "\n",
        "column_names36          = [\"Revocação - Precisão Interpolada\", \"Precisão - Precisão Interpolada\"] \n",
        "\n",
        "tableRank36.add_column(column_names36[0], [ element[0] for element in pI32 ])\n",
        "tableRank36.add_column(column_names36[1], [ element[1] for element in pI32 ])\n",
        "\n",
        "print(tableRank36)\n",
        "\n",
        "plt.plot([ element*100 for element in refRecall ], [ item[1]*100  for item in pI32  ])\n",
        "plt.xlabel('Revocação em %')\n",
        "plt.ylabel('Precisão em %')\n",
        "#plt.axis([0, 100, 0, 100])\n",
        "plt.show()\n",
        "\n",
        "print(\"Precisão média para consulta - MAPi\")\n",
        "#print(\"BM25\")\n",
        "\n",
        "mapi3 = MAPi(listRank3, [i-1 for i in R3])\n",
        "\n",
        "#print(\"Modelo Vetorial\")\n",
        "\n",
        "mapi32 = MAPi(listRank32, [i-1 for i in R3])\n",
        "\n",
        "tableRank37  = PrettyTable()\n",
        "\n",
        "column_names37          = [\"MAPi - BM25\", \"MAPi - Modelo Vetorial\"] \n",
        "\n",
        "tableRank37.add_column(column_names37[0], [mapi3])\n",
        "tableRank37.add_column(column_names37[1], [mapi32])\n",
        "\n",
        "print(tableRank37)"
      ],
      "execution_count": null,
      "outputs": [
        {
          "output_type": "stream",
          "text": [
            "Resultado da normalização e tokenização:\n",
            "[['to', 'do', 'is', 'to', 'be', 'to', 'be', 'is', 'to', 'do'], ['to', 'be', 'or', 'not', 'to', 'be', 'i', 'am', 'what', 'i', 'am'], ['i', 'think', 'therefore', 'i', 'am', 'do', 'be', 'do', 'be', 'do'], ['do', 'do', 'do', 'da', 'da', 'da', 'let', 'it', 'be', 'let', 'it', 'be']]\n",
            "\n",
            "\n",
            "Resultado do tratamento da consulta:\n",
            "['is', 'it']\n",
            "\n",
            "\n",
            "Resultado da ponderação TF-IDF para os termos da coleção:\n",
            "{0: {'to': 3.0, 'do': 0.8300749985576874, 'is': 4.0, 'be': 0.0, 'or': 0, 'not': 0, 'i': 0, 'am': 0, 'what': 0, 'think': 0, 'therefore': 0, 'da': 0, 'let': 0, 'it': 0}, 1: {'to': 2.0, 'do': 0, 'is': 0, 'be': 0.0, 'or': 2.0, 'not': 2.0, 'i': 2.0, 'am': 2.0, 'what': 2.0, 'think': 0, 'therefore': 0, 'da': 0, 'let': 0, 'it': 0}, 2: {'to': 0, 'do': 1.0728563720288948, 'is': 0, 'be': 0.0, 'or': 0, 'not': 0, 'i': 2.0, 'am': 1.0, 'what': 0, 'think': 2.0, 'therefore': 2.0, 'da': 0, 'let': 0, 'it': 0}, 3: {'to': 0, 'do': 1.0728563720288948, 'is': 0, 'be': 0.0, 'or': 0, 'not': 0, 'i': 0, 'am': 0, 'what': 0, 'think': 0, 'therefore': 0, 'da': 5.169925001442312, 'let': 4.0, 'it': 4.0}}\n",
            "\n",
            "\n",
            "RANKING:\n",
            "\n",
            "\n",
            "\n",
            "BM25\n",
            "+---------+-----------------+-------------------------------------------+--------------------+\n",
            "| Posição | No do Documento |                 Documento                 |     Rank BM25      |\n",
            "+---------+-----------------+-------------------------------------------+--------------------+\n",
            "|    1    |        0        |      To do is to be. To be is to do.      | 1.6627243690776516 |\n",
            "|    2    |        3        | Do do do, da da da. Let it be, let it be. | 1.5778723937701247 |\n",
            "|    3    |        1        |    To be or not to be. I am what I am.    |         0          |\n",
            "|    4    |        2        |  I think therefore I am. Do be do be do.  |         0          |\n",
            "+---------+-----------------+-------------------------------------------+--------------------+\n",
            "Modelo Vetorial\n",
            "+---------+-----------------+-------------------------------------------+-------------------------------+\n",
            "| Posição | No do Documento |                 Documento                 | Rank Modelo Vetorial (TF-IDF) |\n",
            "+---------+-----------------+-------------------------------------------+-------------------------------+\n",
            "|    1    |        0        |      To do is to be. To be is to do.      |       0.5580475258594466      |\n",
            "|    2    |        3        | Do do do, da da da. Let it be, let it be. |       0.3655166772504379      |\n",
            "|    3    |        1        |    To be or not to be. I am what I am.    |              0.0              |\n",
            "|    4    |        2        |  I think therefore I am. Do be do be do.  |              0.0              |\n",
            "+---------+-----------------+-------------------------------------------+-------------------------------+\n",
            "AVALIAÇÃO DA RECUPERAÇÃO:\n",
            "\n",
            "\n",
            "\n",
            "Revocação e Precisão\n",
            "+------------------+---------------------+\n",
            "| Revocação - BM25 |   Precisão - BM25   |\n",
            "+------------------+---------------------+\n",
            "|       0.5        |         0.25        |\n",
            "|       1.0        | 0.15384615384615385 |\n",
            "+------------------+---------------------+\n",
            "+-----------------------------+----------------------------+\n",
            "| Revocação - Modelo Vetorial | Precisão - Modelo Vetorial |\n",
            "+-----------------------------+----------------------------+\n",
            "|             0.5             |            1.0             |\n",
            "|             1.0             |     0.2222222222222222     |\n",
            "+-----------------------------+----------------------------+\n",
            "Precisão Interpolada\n",
            "BM25\n",
            "+----------------------------------+---------------------------------+\n",
            "| Revocação - Precisão Interpolada | Precisão - Precisão Interpolada |\n",
            "+----------------------------------+---------------------------------+\n",
            "|               0.0                |               0.25              |\n",
            "|               0.1                |               0.25              |\n",
            "|               0.2                |               0.25              |\n",
            "|               0.3                |               0.25              |\n",
            "|               0.4                |               0.25              |\n",
            "|               0.5                |               0.25              |\n",
            "|               0.6                |       0.15384615384615385       |\n",
            "|               0.7                |       0.15384615384615385       |\n",
            "|               0.8                |       0.15384615384615385       |\n",
            "|               0.9                |       0.15384615384615385       |\n",
            "|               1.0                |       0.15384615384615385       |\n",
            "+----------------------------------+---------------------------------+\n"
          ],
          "name": "stdout"
        },
        {
          "output_type": "display_data",
          "data": {
            "image/png": "[encoded data removed]",
            "text/plain": [
              "<Figure size 432x288 with 1 Axes>"
            ]
          },
          "metadata": {
            "tags": [],
            "needs_background": "light"
          }
        },
        {
          "output_type": "stream",
          "text": [
            "Modelo Vetorial\n",
            "+----------------------------------+---------------------------------+\n",
            "| Revocação - Precisão Interpolada | Precisão - Precisão Interpolada |\n",
            "+----------------------------------+---------------------------------+\n",
            "|               0.0                |               1.0               |\n",
            "|               0.1                |               1.0               |\n",
            "|               0.2                |               1.0               |\n",
            "|               0.3                |               1.0               |\n",
            "|               0.4                |               1.0               |\n",
            "|               0.5                |               1.0               |\n",
            "|               0.6                |        0.2222222222222222       |\n",
            "|               0.7                |        0.2222222222222222       |\n",
            "|               0.8                |        0.2222222222222222       |\n",
            "|               0.9                |        0.2222222222222222       |\n",
            "|               1.0                |        0.2222222222222222       |\n",
            "+----------------------------------+---------------------------------+\n"
          ],
          "name": "stdout"
        },
        {
          "output_type": "display_data",
          "data": {
            "image/png": "[encoded data removed]",
            "text/plain": [
              "<Figure size 432x288 with 1 Axes>"
            ]
          },
          "metadata": {
            "tags": [],
            "needs_background": "light"
          }
        },
        {
          "output_type": "stream",
          "text": [
            "Precisão média para consulta - MAPi\n",
            "+-------------+------------------------+\n",
            "| MAPi - BM25 | MAPi - Modelo Vetorial |\n",
            "+-------------+------------------------+\n",
            "|     0.5     |          0.5           |\n",
            "+-------------+------------------------+\n"
          ],
          "name": "stdout"
        }
      ]
    }
  ]
}