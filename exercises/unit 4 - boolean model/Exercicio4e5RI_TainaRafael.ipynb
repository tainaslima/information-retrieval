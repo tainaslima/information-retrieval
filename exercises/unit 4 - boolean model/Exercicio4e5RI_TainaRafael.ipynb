{
  "nbformat": 4,
  "nbformat_minor": 0,
  "metadata": {
    "colab": {
      "name": "Exercicio4e5RI_TainaRafael.ipynb",
      "provenance": [],
      "collapsed_sections": []
    },
    "kernelspec": {
      "name": "python3",
      "display_name": "Python 3"
    }
  },
  "cells": [
    {
      "cell_type": "markdown",
      "metadata": {
        "id": "XQ4jg2YC298M"
      },
      "source": [
        "###Unidade 4  - Recuperação da Informação\n",
        "Aluno(a): Tainá da Silva Lima\n",
        "<br>\n",
        "DRE: 116165607\n",
        "<br><br>\n",
        "Aluno(a): Rafael Pais Cardoso\n",
        "<br>\n",
        "DRE: 116140788\n",
        "<br><br>\n",
        "Professor(a): Giseli Lopes\n",
        "<br>\n",
        "Período: 2020.4 PLE"
      ]
    },
    {
      "cell_type": "markdown",
      "metadata": {
        "id": "0tZQKG6f6k86"
      },
      "source": [
        "# Importando as bibliotecas necessárias aos exercícios realizados nesse trabalho"
      ]
    },
    {
      "cell_type": "code",
      "metadata": {
        "id": "_sC-UUr428J0"
      },
      "source": [
        "import numpy as np"
      ],
      "execution_count": null,
      "outputs": []
    },
    {
      "cell_type": "markdown",
      "metadata": {
        "id": "SuPcjAsc6rii"
      },
      "source": [
        "# Exercício 1"
      ]
    },
    {
      "cell_type": "markdown",
      "metadata": {
        "id": "CWwybmDdDvhT"
      },
      "source": [
        "Enunciado:\n",
        "*   Implemente as etapas de pré-processamento de documentos e consulta a seguir:\n",
        "  1.   Tokenizar os documentos utilizando os separadores\n",
        "especificados na entrada\n",
        "  2.   Normalizar termos (ex. caixa-baixa)\n",
        "  3.   Eliminar stopwords especificadas na entrada\n",
        "*   Criar uma “variante” de matriz de incidências (obs.:\n",
        "ao invés de apenas 0s e 1s, guarde, na matriz, a\n",
        "frequência de aparecimento dos termos em cada\n",
        "documento)\n"
      ]
    },
    {
      "cell_type": "code",
      "metadata": {
        "id": "qRHgxtIEEgYy"
      },
      "source": [
        "# M             --> Vetor coluna onde cada linha representa o texto de um documento (matriz Nx1).\n",
        "# separadores   --> Vetor linha de caracteres (matriz 1xNc), onde o elemento em cada coluna representa um separador a ser usado na tokenização dos documentos.\n",
        "# stopwords     --> Vetor linha de strings (matriz 1xNs), onde o elemento em cada coluna armazena uma stopword.\n",
        "# Essa função aplica as etapas de pré-processamento nos documentos.\n",
        "def normalizacaoTokenizacao(M, separadores, stopwords):\n",
        "\n",
        "  matriz = []\n",
        "\n",
        "  for index in range(0, len(M)):\n",
        "\n",
        "    # Recebe o texto de um novo documento a cada iteração.\n",
        "    documentoTemporario = M[index][0]\n",
        "\n",
        "    # Remoção dos delimitadores e normalização.\n",
        "    for delimitador in separadores:\n",
        "      documentoTemporario = documentoTemporario.lower().replace(delimitador, \" \")\n",
        "\n",
        "    # Obtenção dos possíveis tokens\n",
        "    tokens = documentoTemporario.split()\n",
        "\n",
        "    # Remoção das stopwords e armazenamento dos tokens em uma matriz Nx1 (cada linha representa um documento e a coluna apresenta a lista de tokens extraídos do documento).\n",
        "    matriz.append(list(filter(lambda a: a not in stopwords, tokens)))\n",
        "    \n",
        "  return matriz"
      ],
      "execution_count": null,
      "outputs": []
    },
    {
      "cell_type": "code",
      "metadata": {
        "id": "KacnySmCWxn8"
      },
      "source": [
        "# matriz --> matriz de tokens Nx1 (cada linha representa um documento e a coluna apresenta a lista de tokens extraídos do documento).\n",
        "# Essa função cria a matriz de incidências. Essa matriz indica se um determinado token existe (valor 1) ou não (valor 0) em um documento, assim como armazena a frequência total\n",
        "# com que os tokens aparecem na coleção.\n",
        "def criarMatrizIncidencias(matriz):\n",
        "\n",
        "  # A chave do diconário é o token. O valor associado à chave é uma matriz 1x2, em que o elemento dicionarioTokens[token][0][0] representa uma matriz 1xN, sendo que cada coluna está \n",
        "  # associada a um respectivo documento e os possíveis valores que podem assumir são 0 e 1 (o valor 0 significada que o token não se encontra no documento e o valor 1 significa que o\n",
        "  # token se encontra no documento). Assim, se temos o valor 0 na segunda coluna dicionarioTokens[token][0][1]) e o elemento matriz[0][1] é a frequência total.\n",
        "  dicionarioTokens = {}\n",
        "  \n",
        "  # Itera sobre os documentos\n",
        "  for index in range(0, len(matriz)):\n",
        "\n",
        "    # Itera em cada elemento da lista de token\n",
        "    for token in matriz[index]:\n",
        "\n",
        "      # Adiciona o token ao dicionário, caso ele não exista. Além disso, seta o valor para 1 para o documento ao qual pertence e atualiza o valor da frequência.\n",
        "      if(token not in dicionarioTokens.keys()):\n",
        "        x                       = [0]*len(matriz)\n",
        "        x[index]                = 1\n",
        "        dicionarioTokens[token] = [x,1]\n",
        "        \n",
        "      # Se o token já existe e o documento ao qual pertence está com o valor 0, então seta o valor para 1 e incrementa-se a frequência total.\n",
        "      else:\n",
        "        if(dicionarioTokens[token][0][index] == 0):\n",
        "          dicionarioTokens[token][0][index] = 1\n",
        "          dicionarioTokens[token][1]        +=1\n",
        "  return dicionarioTokens\n",
        "\n"
      ],
      "execution_count": null,
      "outputs": []
    },
    {
      "cell_type": "code",
      "metadata": {
        "id": "hh4LG1sjqLIT"
      },
      "source": [
        "# matriz --> matriz de tokens Nx1 (cada linha representa um documento e a coluna apresenta a lista de tokens extraídos do documento).\n",
        "# Essa função cria a matriz de incidências. Essa matriz indica se um determinado token existe em um documento (valor > 0 caso exista. Do contrário, valor = 0), assim como\n",
        "# a frequência neste documento.\n",
        "def criarMatrizIncidenciasV2(matriz):\n",
        "\n",
        "  # A chave do diconário é o token. O valor associado à chave é uma matriz 1x1, em que o elemento dicionarioTokens[token][0][0] representa uma matriz 1xN, sendo que cada coluna está \n",
        "  # associada a um respectivo documento e os possíveis valores que podem assumir são maiores ou iguais a 0 (o valor 0 significada que o token não se encontra no documento e o valores\n",
        "  # maiores do que 0 significam a frequência com aparecem no documento.\n",
        "  dicionarioTokensV2 = {}\n",
        "\n",
        "  # Itera sobre os documentos\n",
        "  for index in range(0, len(matriz)):\n",
        "    \n",
        "    # Itera em cada elemento da lista de token\n",
        "    for token in matriz[index]:\n",
        "\n",
        "      # Adiciona o token ao dicionário, caso ele não exista. Além disso, seta o valor para 1 para o documento ao qual pertence.\n",
        "      if(token not in dicionarioTokensV2.keys()):\n",
        "        x                         = [0]*len(matriz)\n",
        "        x[index]                  = 1\n",
        "        dicionarioTokensV2[token] = [x]\n",
        "\n",
        "      # Incrementa-se a frequência com que aparece no respectivo documento\n",
        "      else:\n",
        "          dicionarioTokensV2[token][0][index] += 1\n",
        "          \n",
        "  return dicionarioTokensV2\n"
      ],
      "execution_count": null,
      "outputs": []
    },
    {
      "cell_type": "markdown",
      "metadata": {
        "id": "IFkwyu3Z8lS0"
      },
      "source": [
        "# Exercício 2"
      ]
    },
    {
      "cell_type": "markdown",
      "metadata": {
        "id": "dL319JkKN0uN"
      },
      "source": [
        "Enunciado\n",
        "\n",
        "*   Sua implementação deve:\n",
        "  1.   Partindo da solução de implementação anterior (pré-processamento)\n",
        "  2.   Usar uma solução de indexação utilizando uma variação da matriz de incidências (obs.: guarde a frequência de aparecimento dos termos em cada documento)\n",
        "  3.   Responder consultar puramente conjuntivas e disjuntivas \n",
        "    * AND entre todos os termos da consulta\n",
        "    * OR entre todos os termos da consulta\n",
        "\n"
      ]
    },
    {
      "cell_type": "code",
      "metadata": {
        "id": "SskyLEnVv56c"
      },
      "source": [
        "# Essa função aplica as etapas de pré-processamento na consulta.\n",
        "def tratamentoConsulta(consulta, separadores, stopwords):\n",
        "\n",
        "  consultaTratada = consulta\n",
        "  for delimitador in separadores:\n",
        "      consultaTratada = consultaTratada.lower().replace(delimitador, \" \")\n",
        "  consultaTratada = consultaTratada.split()\n",
        "\n",
        "  consultaTratada = list(filter(lambda a: a not in stopwords, consultaTratada))\n",
        "  \n",
        "  return consultaTratada\n",
        "\n",
        "# Recupera-se os documentos associados aos tokens extraídos da consulta. Caso um token não exista na nossa coleção, o retiramos da consulta.\n",
        "def recuperaDocumento(consulta, operacao, matrizIncidencia, colecao, separadores, stopwords):\n",
        "    \n",
        "    consultaTratada = tratamentoConsulta(consulta, separadores, stopwords)\n",
        "    termosAusentes = \"\"\n",
        "    for termo in consultaTratada:\n",
        "      if (termo in consultaTratada) and (termo not in matrizIncidencia.keys()):\n",
        "        consultaTratada.remove(termo)\n",
        "        termosAusentes += termo + \", \"\n",
        "    \n",
        "    if (len(termosAusentes) > 0):\n",
        "      termosAusentes = termosAusentes[:(len(termosAusentes)-2)] \n",
        "      print(\"Os termos: \" + termosAusentes + \" não estão mapeados em nossa coleção, contudo iremos retornar os documentos cujos os outros termos estão presentes.\")\n",
        "\n",
        "    resultado = []\n",
        "    if (len(consultaTratada) > 0) and (consultaTratada[0] in matrizIncidencia.keys()):\n",
        "      resultado = matrizIncidencia[consultaTratada[0]][0]\n",
        "      \n",
        "      if (len(consultaTratada) > 1):\n",
        "        for i in range(1,len(consultaTratada)):\n",
        "          if (i <= len(consultaTratada)-1):\n",
        "            if (consultaTratada[i] in matrizIncidencia.keys()):\n",
        "              listaDeIncidencias = matrizIncidencia[consultaTratada[i]][0]\n",
        "              if (operacao == 1):\n",
        "                resultado =  [ resultado[i] & (1 if listaDeIncidencias[i] !=0 else 0) for i in range(len(listaDeIncidencias)) ] \n",
        "              elif (operacao == 2):\n",
        "                resultado =  [ resultado[i] | (1 if listaDeIncidencias[i] !=0 else 0) for i in range(len(listaDeIncidencias)) ]  \n",
        "              \n",
        "    else:\n",
        "      print(\"A consulta possui somente um termo e este não está mapeado em nossa coleção.\")\n",
        "\n",
        "    documentosResultado = []\n",
        "    for j in range(len(resultado)):\n",
        "      if (resultado[j] != 0):\n",
        "        documentosResultado.append(colecao[j])\n",
        "    \n",
        "    return documentosResultado\n",
        "          \n"
      ],
      "execution_count": null,
      "outputs": []
    },
    {
      "cell_type": "markdown",
      "metadata": {
        "id": "VedJq9SdtWzg"
      },
      "source": [
        "# Exemplos"
      ]
    },
    {
      "cell_type": "markdown",
      "metadata": {
        "id": "_JzkKdi3Ndf1"
      },
      "source": [
        "## Exemplo 1"
      ]
    },
    {
      "cell_type": "code",
      "metadata": {
        "id": "tRDfYoJC6Fhc"
      },
      "source": [
        "import numpy as np\n",
        "# Conjunto de documentos\n",
        "M1            = [[\"O peã e o caval são pec de xadrez. O caval é o melhor do jog.\"],\n",
        "                [\"A jog envolv a torr, o peã e o rei.\"],\n",
        "                [\"O peã lac o boi\"],\n",
        "                [\"Caval de rodei!\"],\n",
        "                [\"Polic o jog no xadrez.\"]]\n",
        "\n",
        "# Lista de stopwords\n",
        "stopwords1    = [\"a\", \"o\", \"e\", \"é\", \"de\", \"do\", \"no\", \"são\"]\n",
        "\n",
        "# String contendo os termos da consulta\n",
        "q1            = \"xadrez peã caval torr\"\n",
        "\n",
        "# Separadores para a tokenizacao\n",
        "separadores1  = [\" \",\",\",\".\",\"!\",\"?\"] "
      ],
      "execution_count": null,
      "outputs": []
    },
    {
      "cell_type": "code",
      "metadata": {
        "id": "rxx8kQFOt4u6",
        "outputId": "cf054175-b13e-400d-e5fd-5cb490752a23",
        "colab": {
          "base_uri": "https://localhost:8080/",
          "height": 294
        }
      },
      "source": [
        "resultado = normalizacaoTokenizacao(M1, separadores1, stopwords1)\n",
        "print(\"Resultado da normalização e tokenização:\")\n",
        "print(resultado)\n",
        "print(\"\\n\")\n",
        "\n",
        "resultado2 = criarMatrizIncidencias(resultado)\n",
        "print(\"Resultado da criação da matriz de incidências (versão em que frequência = nº de vezes que aparece na coleção):\")\n",
        "print(resultado2)\n",
        "print(\"\\n\")\n",
        "\n",
        "resultado22 = criarMatrizIncidenciasV2(resultado)\n",
        "print(\"Resultado da criação da matriz de incidências 2 (versão em que frequência = nº de vezes que aparece em cada documento):\")\n",
        "print(resultado22)\n",
        "print(\"\\n\")\n",
        "\n",
        "print(\"Resultado da recuperação dos documentos dado uma consulta, operação, matriz de incidências e coleção:\")\n",
        "docsRecuperados = recuperaDocumento(q1, 1, resultado22, M1, separadores1, stopwords1)\n",
        "print(docsRecuperados)"
      ],
      "execution_count": null,
      "outputs": [
        {
          "output_type": "stream",
          "text": [
            "Resultado da normalização e tokenização:\n",
            "[['peã', 'caval', 'pec', 'xadrez', 'caval', 'melhor', 'jog'], ['jog', 'envolv', 'torr', 'peã', 'rei'], ['peã', 'lac', 'boi'], ['caval', 'rodei'], ['polic', 'jog', 'xadrez']]\n",
            "\n",
            "\n",
            "Resultado da criação da matriz de incidências (versão em que frequência = nº de vezes que aparece na coleção):\n",
            "{'peã': [[1, 1, 1, 0, 0], 3], 'caval': [[1, 0, 0, 1, 0], 2], 'pec': [[1, 0, 0, 0, 0], 1], 'xadrez': [[1, 0, 0, 0, 1], 2], 'melhor': [[1, 0, 0, 0, 0], 1], 'jog': [[1, 1, 0, 0, 1], 3], 'envolv': [[0, 1, 0, 0, 0], 1], 'torr': [[0, 1, 0, 0, 0], 1], 'rei': [[0, 1, 0, 0, 0], 1], 'lac': [[0, 0, 1, 0, 0], 1], 'boi': [[0, 0, 1, 0, 0], 1], 'rodei': [[0, 0, 0, 1, 0], 1], 'polic': [[0, 0, 0, 0, 1], 1]}\n",
            "\n",
            "\n",
            "Resultado da criação da matriz de incidências 2 (versão em que frequência = nº de vezes que aparece em cada documento):\n",
            "{'peã': [[1, 1, 1, 0, 0]], 'caval': [[2, 0, 0, 1, 0]], 'pec': [[1, 0, 0, 0, 0]], 'xadrez': [[1, 0, 0, 0, 1]], 'melhor': [[1, 0, 0, 0, 0]], 'jog': [[1, 1, 0, 0, 1]], 'envolv': [[0, 1, 0, 0, 0]], 'torr': [[0, 1, 0, 0, 0]], 'rei': [[0, 1, 0, 0, 0]], 'lac': [[0, 0, 1, 0, 0]], 'boi': [[0, 0, 1, 0, 0]], 'rodei': [[0, 0, 0, 1, 0]], 'polic': [[0, 0, 0, 0, 1]]}\n",
            "\n",
            "\n",
            "Resultado da recuperação dos documentos dado uma consulta, operação, matriz de incidências e coleção:\n",
            "[]\n"
          ],
          "name": "stdout"
        }
      ]
    },
    {
      "cell_type": "markdown",
      "metadata": {
        "id": "NENCSTGQNgUU"
      },
      "source": [
        "## Exemplo 2"
      ]
    },
    {
      "cell_type": "code",
      "metadata": {
        "id": "ibWEiYqp8nHr"
      },
      "source": [
        "# Conjunto de documentos\n",
        "M2              = [[\"Parasita é o grande vencedor do Oscar 2020, com quatro prêmios\"],\n",
        "                  [\"Green Book, Roma e Bohemian Rhapsody são os principais vencedores do Oscar 2019\"],\n",
        "                  [\"Oscar 2020: Confira lista completa de vencedores. Parasita e 1917 foram os grandes vencedores da noite\"],\n",
        "                  [\"Em boa fase, Oscar sonha em jogar a Copa do Mundo da Rússia\"],\n",
        "                  [\"Conheça os indicados ao Oscar 2020; Cerimônia de premiação acontece em fevereiro\"],\n",
        "                  [\"Oscar Schmidt receberá Troféu no Prêmio Brasil Olímpico 2019. Jogador de basquete com mais pontos em Jogos Olímpicos.\"],\n",
        "                  [\"Seleção brasileira vai observar de 35 a 40 jogadores para definir lista da Copa América\"],\n",
        "                  [\"Oscar 2020: saiba como é a escolha dos jurados e como eles votam\"],\n",
        "                  [\"Bem, Amigos! discute lista da Seleção, e Galvão dá recado a Tite: Cadê o Luan?\"],\n",
        "                  [\"IFAL-Maceió convoca aprovados em lista de espera do SISU para chamada oral\"],\n",
        "                  [\"Arrascaeta e Matías Viña são convocados pelo Uruguai para eliminatórias da Copa. Além deles, há outros destaques na lista.\"],\n",
        "                  [\"Oscar do Vinho: confira os rótulos de destaque da safra 2018\"],\n",
        "                  [\"Parasita é o vencedor da Palma de Ouro no Festival de Cannes\"],\n",
        "                  [\"Estatísticas. Brasileirão Série A: Os artilheiros e garçons da temporada 2020\"],\n",
        "                  [\"Setembro chegou! Confira o calendário da temporada 2020/2021 do futebol europeu\"]]\n",
        "\n",
        "# Lista de stopwords\n",
        "stopwords2     = [\"a\", \"o\", \"e\", \"é\", \"de\", \"do\", \"da\", \"no\", \"na\", \"são\", \"dos\", \"com\", \"como\", \"eles\", \"em\", \"os\", \"ao\", \"para\", \"pelo\"] \n",
        "\n",
        "# String contendo os termos da consulta\n",
        "q2             = \"oscar \\de 2020\"\n",
        "\n",
        "# Separadores para a tokenizacao\n",
        "separadores2   = [\" \",\",\",\".\",\"!\",\"?\",\":\",\"/\",\"\\\\\",\";\" ] "
      ],
      "execution_count": null,
      "outputs": []
    },
    {
      "cell_type": "code",
      "metadata": {
        "id": "zKLpR2sg-U_j",
        "outputId": "3ea7883c-cf04-41e0-bfc7-e5d835414265",
        "colab": {
          "base_uri": "https://localhost:8080/",
          "height": 294
        }
      },
      "source": [
        "resultadoEx2 = normalizacaoTokenizacao(M2, separadores2, stopwords2)\n",
        "print(\"Resultado da normalização e tokenização:\")\n",
        "print(resultadoEx2)\n",
        "print('\\n')\n",
        "\n",
        "resultado2Ex2 = criarMatrizIncidencias(resultadoEx2)\n",
        "print(\"Resultado da criação da matriz de incidências (versão em que frequência = nº de vezes que aparece na coleção):\")\n",
        "print(resultado2Ex2)\n",
        "print('\\n')\n",
        "\n",
        "resultado22Ex2 = criarMatrizIncidenciasV2(resultadoEx2)\n",
        "print(\"Resultado da criação da matriz de incidências 2 (versão em que frequência = nº de vezes que aparece em cada documento):\")\n",
        "print(resultado22Ex2)\n",
        "print(\"\\n\")\n",
        "\n",
        "print(\"Resultado da recuperação dos documentos dado uma consulta, operação, matriz de incidências e coleção:\")\n",
        "docsRecuperados = recuperaDocumento(q2, 1, resultado22Ex2, M2, separadores2, stopwords2)\n",
        "print(docsRecuperados)"
      ],
      "execution_count": null,
      "outputs": [
        {
          "output_type": "stream",
          "text": [
            "Resultado da normalização e tokenização:\n",
            "[['parasita', 'grande', 'vencedor', 'oscar', '2020', 'quatro', 'prêmios'], ['green', 'book', 'roma', 'bohemian', 'rhapsody', 'principais', 'vencedores', 'oscar', '2019'], ['oscar', '2020', 'confira', 'lista', 'completa', 'vencedores', 'parasita', '1917', 'foram', 'grandes', 'vencedores', 'noite'], ['boa', 'fase', 'oscar', 'sonha', 'jogar', 'copa', 'mundo', 'rússia'], ['conheça', 'indicados', 'oscar', '2020', 'cerimônia', 'premiação', 'acontece', 'fevereiro'], ['oscar', 'schmidt', 'receberá', 'troféu', 'prêmio', 'brasil', 'olímpico', '2019', 'jogador', 'basquete', 'mais', 'pontos', 'jogos', 'olímpicos'], ['seleção', 'brasileira', 'vai', 'observar', '35', '40', 'jogadores', 'definir', 'lista', 'copa', 'américa'], ['oscar', '2020', 'saiba', 'escolha', 'jurados', 'votam'], ['bem', 'amigos', 'discute', 'lista', 'seleção', 'galvão', 'dá', 'recado', 'tite', 'cadê', 'luan'], ['ifal-maceió', 'convoca', 'aprovados', 'lista', 'espera', 'sisu', 'chamada', 'oral'], ['arrascaeta', 'matías', 'viña', 'convocados', 'uruguai', 'eliminatórias', 'copa', 'além', 'deles', 'há', 'outros', 'destaques', 'lista'], ['oscar', 'vinho', 'confira', 'rótulos', 'destaque', 'safra', '2018'], ['parasita', 'vencedor', 'palma', 'ouro', 'festival', 'cannes'], ['estatísticas', 'brasileirão', 'série', 'artilheiros', 'garçons', 'temporada', '2020'], ['setembro', 'chegou', 'confira', 'calendário', 'temporada', '2020', '2021', 'futebol', 'europeu']]\n",
            "\n",
            "\n",
            "Resultado da criação da matriz de incidências (versão em que frequência = nº de vezes que aparece na coleção):\n",
            "{'parasita': [[1, 0, 1, 0, 0, 0, 0, 0, 0, 0, 0, 0, 1, 0, 0], 3], 'grande': [[1, 0, 0, 0, 0, 0, 0, 0, 0, 0, 0, 0, 0, 0, 0], 1], 'vencedor': [[1, 0, 0, 0, 0, 0, 0, 0, 0, 0, 0, 0, 1, 0, 0], 2], 'oscar': [[1, 1, 1, 1, 1, 1, 0, 1, 0, 0, 0, 1, 0, 0, 0], 8], '2020': [[1, 0, 1, 0, 1, 0, 0, 1, 0, 0, 0, 0, 0, 1, 1], 6], 'quatro': [[1, 0, 0, 0, 0, 0, 0, 0, 0, 0, 0, 0, 0, 0, 0], 1], 'prêmios': [[1, 0, 0, 0, 0, 0, 0, 0, 0, 0, 0, 0, 0, 0, 0], 1], 'green': [[0, 1, 0, 0, 0, 0, 0, 0, 0, 0, 0, 0, 0, 0, 0], 1], 'book': [[0, 1, 0, 0, 0, 0, 0, 0, 0, 0, 0, 0, 0, 0, 0], 1], 'roma': [[0, 1, 0, 0, 0, 0, 0, 0, 0, 0, 0, 0, 0, 0, 0], 1], 'bohemian': [[0, 1, 0, 0, 0, 0, 0, 0, 0, 0, 0, 0, 0, 0, 0], 1], 'rhapsody': [[0, 1, 0, 0, 0, 0, 0, 0, 0, 0, 0, 0, 0, 0, 0], 1], 'principais': [[0, 1, 0, 0, 0, 0, 0, 0, 0, 0, 0, 0, 0, 0, 0], 1], 'vencedores': [[0, 1, 1, 0, 0, 0, 0, 0, 0, 0, 0, 0, 0, 0, 0], 2], '2019': [[0, 1, 0, 0, 0, 1, 0, 0, 0, 0, 0, 0, 0, 0, 0], 2], 'confira': [[0, 0, 1, 0, 0, 0, 0, 0, 0, 0, 0, 1, 0, 0, 1], 3], 'lista': [[0, 0, 1, 0, 0, 0, 1, 0, 1, 1, 1, 0, 0, 0, 0], 5], 'completa': [[0, 0, 1, 0, 0, 0, 0, 0, 0, 0, 0, 0, 0, 0, 0], 1], '1917': [[0, 0, 1, 0, 0, 0, 0, 0, 0, 0, 0, 0, 0, 0, 0], 1], 'foram': [[0, 0, 1, 0, 0, 0, 0, 0, 0, 0, 0, 0, 0, 0, 0], 1], 'grandes': [[0, 0, 1, 0, 0, 0, 0, 0, 0, 0, 0, 0, 0, 0, 0], 1], 'noite': [[0, 0, 1, 0, 0, 0, 0, 0, 0, 0, 0, 0, 0, 0, 0], 1], 'boa': [[0, 0, 0, 1, 0, 0, 0, 0, 0, 0, 0, 0, 0, 0, 0], 1], 'fase': [[0, 0, 0, 1, 0, 0, 0, 0, 0, 0, 0, 0, 0, 0, 0], 1], 'sonha': [[0, 0, 0, 1, 0, 0, 0, 0, 0, 0, 0, 0, 0, 0, 0], 1], 'jogar': [[0, 0, 0, 1, 0, 0, 0, 0, 0, 0, 0, 0, 0, 0, 0], 1], 'copa': [[0, 0, 0, 1, 0, 0, 1, 0, 0, 0, 1, 0, 0, 0, 0], 3], 'mundo': [[0, 0, 0, 1, 0, 0, 0, 0, 0, 0, 0, 0, 0, 0, 0], 1], 'rússia': [[0, 0, 0, 1, 0, 0, 0, 0, 0, 0, 0, 0, 0, 0, 0], 1], 'conheça': [[0, 0, 0, 0, 1, 0, 0, 0, 0, 0, 0, 0, 0, 0, 0], 1], 'indicados': [[0, 0, 0, 0, 1, 0, 0, 0, 0, 0, 0, 0, 0, 0, 0], 1], 'cerimônia': [[0, 0, 0, 0, 1, 0, 0, 0, 0, 0, 0, 0, 0, 0, 0], 1], 'premiação': [[0, 0, 0, 0, 1, 0, 0, 0, 0, 0, 0, 0, 0, 0, 0], 1], 'acontece': [[0, 0, 0, 0, 1, 0, 0, 0, 0, 0, 0, 0, 0, 0, 0], 1], 'fevereiro': [[0, 0, 0, 0, 1, 0, 0, 0, 0, 0, 0, 0, 0, 0, 0], 1], 'schmidt': [[0, 0, 0, 0, 0, 1, 0, 0, 0, 0, 0, 0, 0, 0, 0], 1], 'receberá': [[0, 0, 0, 0, 0, 1, 0, 0, 0, 0, 0, 0, 0, 0, 0], 1], 'troféu': [[0, 0, 0, 0, 0, 1, 0, 0, 0, 0, 0, 0, 0, 0, 0], 1], 'prêmio': [[0, 0, 0, 0, 0, 1, 0, 0, 0, 0, 0, 0, 0, 0, 0], 1], 'brasil': [[0, 0, 0, 0, 0, 1, 0, 0, 0, 0, 0, 0, 0, 0, 0], 1], 'olímpico': [[0, 0, 0, 0, 0, 1, 0, 0, 0, 0, 0, 0, 0, 0, 0], 1], 'jogador': [[0, 0, 0, 0, 0, 1, 0, 0, 0, 0, 0, 0, 0, 0, 0], 1], 'basquete': [[0, 0, 0, 0, 0, 1, 0, 0, 0, 0, 0, 0, 0, 0, 0], 1], 'mais': [[0, 0, 0, 0, 0, 1, 0, 0, 0, 0, 0, 0, 0, 0, 0], 1], 'pontos': [[0, 0, 0, 0, 0, 1, 0, 0, 0, 0, 0, 0, 0, 0, 0], 1], 'jogos': [[0, 0, 0, 0, 0, 1, 0, 0, 0, 0, 0, 0, 0, 0, 0], 1], 'olímpicos': [[0, 0, 0, 0, 0, 1, 0, 0, 0, 0, 0, 0, 0, 0, 0], 1], 'seleção': [[0, 0, 0, 0, 0, 0, 1, 0, 1, 0, 0, 0, 0, 0, 0], 2], 'brasileira': [[0, 0, 0, 0, 0, 0, 1, 0, 0, 0, 0, 0, 0, 0, 0], 1], 'vai': [[0, 0, 0, 0, 0, 0, 1, 0, 0, 0, 0, 0, 0, 0, 0], 1], 'observar': [[0, 0, 0, 0, 0, 0, 1, 0, 0, 0, 0, 0, 0, 0, 0], 1], '35': [[0, 0, 0, 0, 0, 0, 1, 0, 0, 0, 0, 0, 0, 0, 0], 1], '40': [[0, 0, 0, 0, 0, 0, 1, 0, 0, 0, 0, 0, 0, 0, 0], 1], 'jogadores': [[0, 0, 0, 0, 0, 0, 1, 0, 0, 0, 0, 0, 0, 0, 0], 1], 'definir': [[0, 0, 0, 0, 0, 0, 1, 0, 0, 0, 0, 0, 0, 0, 0], 1], 'américa': [[0, 0, 0, 0, 0, 0, 1, 0, 0, 0, 0, 0, 0, 0, 0], 1], 'saiba': [[0, 0, 0, 0, 0, 0, 0, 1, 0, 0, 0, 0, 0, 0, 0], 1], 'escolha': [[0, 0, 0, 0, 0, 0, 0, 1, 0, 0, 0, 0, 0, 0, 0], 1], 'jurados': [[0, 0, 0, 0, 0, 0, 0, 1, 0, 0, 0, 0, 0, 0, 0], 1], 'votam': [[0, 0, 0, 0, 0, 0, 0, 1, 0, 0, 0, 0, 0, 0, 0], 1], 'bem': [[0, 0, 0, 0, 0, 0, 0, 0, 1, 0, 0, 0, 0, 0, 0], 1], 'amigos': [[0, 0, 0, 0, 0, 0, 0, 0, 1, 0, 0, 0, 0, 0, 0], 1], 'discute': [[0, 0, 0, 0, 0, 0, 0, 0, 1, 0, 0, 0, 0, 0, 0], 1], 'galvão': [[0, 0, 0, 0, 0, 0, 0, 0, 1, 0, 0, 0, 0, 0, 0], 1], 'dá': [[0, 0, 0, 0, 0, 0, 0, 0, 1, 0, 0, 0, 0, 0, 0], 1], 'recado': [[0, 0, 0, 0, 0, 0, 0, 0, 1, 0, 0, 0, 0, 0, 0], 1], 'tite': [[0, 0, 0, 0, 0, 0, 0, 0, 1, 0, 0, 0, 0, 0, 0], 1], 'cadê': [[0, 0, 0, 0, 0, 0, 0, 0, 1, 0, 0, 0, 0, 0, 0], 1], 'luan': [[0, 0, 0, 0, 0, 0, 0, 0, 1, 0, 0, 0, 0, 0, 0], 1], 'ifal-maceió': [[0, 0, 0, 0, 0, 0, 0, 0, 0, 1, 0, 0, 0, 0, 0], 1], 'convoca': [[0, 0, 0, 0, 0, 0, 0, 0, 0, 1, 0, 0, 0, 0, 0], 1], 'aprovados': [[0, 0, 0, 0, 0, 0, 0, 0, 0, 1, 0, 0, 0, 0, 0], 1], 'espera': [[0, 0, 0, 0, 0, 0, 0, 0, 0, 1, 0, 0, 0, 0, 0], 1], 'sisu': [[0, 0, 0, 0, 0, 0, 0, 0, 0, 1, 0, 0, 0, 0, 0], 1], 'chamada': [[0, 0, 0, 0, 0, 0, 0, 0, 0, 1, 0, 0, 0, 0, 0], 1], 'oral': [[0, 0, 0, 0, 0, 0, 0, 0, 0, 1, 0, 0, 0, 0, 0], 1], 'arrascaeta': [[0, 0, 0, 0, 0, 0, 0, 0, 0, 0, 1, 0, 0, 0, 0], 1], 'matías': [[0, 0, 0, 0, 0, 0, 0, 0, 0, 0, 1, 0, 0, 0, 0], 1], 'viña': [[0, 0, 0, 0, 0, 0, 0, 0, 0, 0, 1, 0, 0, 0, 0], 1], 'convocados': [[0, 0, 0, 0, 0, 0, 0, 0, 0, 0, 1, 0, 0, 0, 0], 1], 'uruguai': [[0, 0, 0, 0, 0, 0, 0, 0, 0, 0, 1, 0, 0, 0, 0], 1], 'eliminatórias': [[0, 0, 0, 0, 0, 0, 0, 0, 0, 0, 1, 0, 0, 0, 0], 1], 'além': [[0, 0, 0, 0, 0, 0, 0, 0, 0, 0, 1, 0, 0, 0, 0], 1], 'deles': [[0, 0, 0, 0, 0, 0, 0, 0, 0, 0, 1, 0, 0, 0, 0], 1], 'há': [[0, 0, 0, 0, 0, 0, 0, 0, 0, 0, 1, 0, 0, 0, 0], 1], 'outros': [[0, 0, 0, 0, 0, 0, 0, 0, 0, 0, 1, 0, 0, 0, 0], 1], 'destaques': [[0, 0, 0, 0, 0, 0, 0, 0, 0, 0, 1, 0, 0, 0, 0], 1], 'vinho': [[0, 0, 0, 0, 0, 0, 0, 0, 0, 0, 0, 1, 0, 0, 0], 1], 'rótulos': [[0, 0, 0, 0, 0, 0, 0, 0, 0, 0, 0, 1, 0, 0, 0], 1], 'destaque': [[0, 0, 0, 0, 0, 0, 0, 0, 0, 0, 0, 1, 0, 0, 0], 1], 'safra': [[0, 0, 0, 0, 0, 0, 0, 0, 0, 0, 0, 1, 0, 0, 0], 1], '2018': [[0, 0, 0, 0, 0, 0, 0, 0, 0, 0, 0, 1, 0, 0, 0], 1], 'palma': [[0, 0, 0, 0, 0, 0, 0, 0, 0, 0, 0, 0, 1, 0, 0], 1], 'ouro': [[0, 0, 0, 0, 0, 0, 0, 0, 0, 0, 0, 0, 1, 0, 0], 1], 'festival': [[0, 0, 0, 0, 0, 0, 0, 0, 0, 0, 0, 0, 1, 0, 0], 1], 'cannes': [[0, 0, 0, 0, 0, 0, 0, 0, 0, 0, 0, 0, 1, 0, 0], 1], 'estatísticas': [[0, 0, 0, 0, 0, 0, 0, 0, 0, 0, 0, 0, 0, 1, 0], 1], 'brasileirão': [[0, 0, 0, 0, 0, 0, 0, 0, 0, 0, 0, 0, 0, 1, 0], 1], 'série': [[0, 0, 0, 0, 0, 0, 0, 0, 0, 0, 0, 0, 0, 1, 0], 1], 'artilheiros': [[0, 0, 0, 0, 0, 0, 0, 0, 0, 0, 0, 0, 0, 1, 0], 1], 'garçons': [[0, 0, 0, 0, 0, 0, 0, 0, 0, 0, 0, 0, 0, 1, 0], 1], 'temporada': [[0, 0, 0, 0, 0, 0, 0, 0, 0, 0, 0, 0, 0, 1, 1], 2], 'setembro': [[0, 0, 0, 0, 0, 0, 0, 0, 0, 0, 0, 0, 0, 0, 1], 1], 'chegou': [[0, 0, 0, 0, 0, 0, 0, 0, 0, 0, 0, 0, 0, 0, 1], 1], 'calendário': [[0, 0, 0, 0, 0, 0, 0, 0, 0, 0, 0, 0, 0, 0, 1], 1], '2021': [[0, 0, 0, 0, 0, 0, 0, 0, 0, 0, 0, 0, 0, 0, 1], 1], 'futebol': [[0, 0, 0, 0, 0, 0, 0, 0, 0, 0, 0, 0, 0, 0, 1], 1], 'europeu': [[0, 0, 0, 0, 0, 0, 0, 0, 0, 0, 0, 0, 0, 0, 1], 1]}\n",
            "\n",
            "\n",
            "Resultado da criação da matriz de incidências 2 (versão em que frequência = nº de vezes que aparece em cada documento):\n",
            "{'parasita': [[1, 0, 1, 0, 0, 0, 0, 0, 0, 0, 0, 0, 1, 0, 0]], 'grande': [[1, 0, 0, 0, 0, 0, 0, 0, 0, 0, 0, 0, 0, 0, 0]], 'vencedor': [[1, 0, 0, 0, 0, 0, 0, 0, 0, 0, 0, 0, 1, 0, 0]], 'oscar': [[1, 1, 1, 1, 1, 1, 0, 1, 0, 0, 0, 1, 0, 0, 0]], '2020': [[1, 0, 1, 0, 1, 0, 0, 1, 0, 0, 0, 0, 0, 1, 1]], 'quatro': [[1, 0, 0, 0, 0, 0, 0, 0, 0, 0, 0, 0, 0, 0, 0]], 'prêmios': [[1, 0, 0, 0, 0, 0, 0, 0, 0, 0, 0, 0, 0, 0, 0]], 'green': [[0, 1, 0, 0, 0, 0, 0, 0, 0, 0, 0, 0, 0, 0, 0]], 'book': [[0, 1, 0, 0, 0, 0, 0, 0, 0, 0, 0, 0, 0, 0, 0]], 'roma': [[0, 1, 0, 0, 0, 0, 0, 0, 0, 0, 0, 0, 0, 0, 0]], 'bohemian': [[0, 1, 0, 0, 0, 0, 0, 0, 0, 0, 0, 0, 0, 0, 0]], 'rhapsody': [[0, 1, 0, 0, 0, 0, 0, 0, 0, 0, 0, 0, 0, 0, 0]], 'principais': [[0, 1, 0, 0, 0, 0, 0, 0, 0, 0, 0, 0, 0, 0, 0]], 'vencedores': [[0, 1, 2, 0, 0, 0, 0, 0, 0, 0, 0, 0, 0, 0, 0]], '2019': [[0, 1, 0, 0, 0, 1, 0, 0, 0, 0, 0, 0, 0, 0, 0]], 'confira': [[0, 0, 1, 0, 0, 0, 0, 0, 0, 0, 0, 1, 0, 0, 1]], 'lista': [[0, 0, 1, 0, 0, 0, 1, 0, 1, 1, 1, 0, 0, 0, 0]], 'completa': [[0, 0, 1, 0, 0, 0, 0, 0, 0, 0, 0, 0, 0, 0, 0]], '1917': [[0, 0, 1, 0, 0, 0, 0, 0, 0, 0, 0, 0, 0, 0, 0]], 'foram': [[0, 0, 1, 0, 0, 0, 0, 0, 0, 0, 0, 0, 0, 0, 0]], 'grandes': [[0, 0, 1, 0, 0, 0, 0, 0, 0, 0, 0, 0, 0, 0, 0]], 'noite': [[0, 0, 1, 0, 0, 0, 0, 0, 0, 0, 0, 0, 0, 0, 0]], 'boa': [[0, 0, 0, 1, 0, 0, 0, 0, 0, 0, 0, 0, 0, 0, 0]], 'fase': [[0, 0, 0, 1, 0, 0, 0, 0, 0, 0, 0, 0, 0, 0, 0]], 'sonha': [[0, 0, 0, 1, 0, 0, 0, 0, 0, 0, 0, 0, 0, 0, 0]], 'jogar': [[0, 0, 0, 1, 0, 0, 0, 0, 0, 0, 0, 0, 0, 0, 0]], 'copa': [[0, 0, 0, 1, 0, 0, 1, 0, 0, 0, 1, 0, 0, 0, 0]], 'mundo': [[0, 0, 0, 1, 0, 0, 0, 0, 0, 0, 0, 0, 0, 0, 0]], 'rússia': [[0, 0, 0, 1, 0, 0, 0, 0, 0, 0, 0, 0, 0, 0, 0]], 'conheça': [[0, 0, 0, 0, 1, 0, 0, 0, 0, 0, 0, 0, 0, 0, 0]], 'indicados': [[0, 0, 0, 0, 1, 0, 0, 0, 0, 0, 0, 0, 0, 0, 0]], 'cerimônia': [[0, 0, 0, 0, 1, 0, 0, 0, 0, 0, 0, 0, 0, 0, 0]], 'premiação': [[0, 0, 0, 0, 1, 0, 0, 0, 0, 0, 0, 0, 0, 0, 0]], 'acontece': [[0, 0, 0, 0, 1, 0, 0, 0, 0, 0, 0, 0, 0, 0, 0]], 'fevereiro': [[0, 0, 0, 0, 1, 0, 0, 0, 0, 0, 0, 0, 0, 0, 0]], 'schmidt': [[0, 0, 0, 0, 0, 1, 0, 0, 0, 0, 0, 0, 0, 0, 0]], 'receberá': [[0, 0, 0, 0, 0, 1, 0, 0, 0, 0, 0, 0, 0, 0, 0]], 'troféu': [[0, 0, 0, 0, 0, 1, 0, 0, 0, 0, 0, 0, 0, 0, 0]], 'prêmio': [[0, 0, 0, 0, 0, 1, 0, 0, 0, 0, 0, 0, 0, 0, 0]], 'brasil': [[0, 0, 0, 0, 0, 1, 0, 0, 0, 0, 0, 0, 0, 0, 0]], 'olímpico': [[0, 0, 0, 0, 0, 1, 0, 0, 0, 0, 0, 0, 0, 0, 0]], 'jogador': [[0, 0, 0, 0, 0, 1, 0, 0, 0, 0, 0, 0, 0, 0, 0]], 'basquete': [[0, 0, 0, 0, 0, 1, 0, 0, 0, 0, 0, 0, 0, 0, 0]], 'mais': [[0, 0, 0, 0, 0, 1, 0, 0, 0, 0, 0, 0, 0, 0, 0]], 'pontos': [[0, 0, 0, 0, 0, 1, 0, 0, 0, 0, 0, 0, 0, 0, 0]], 'jogos': [[0, 0, 0, 0, 0, 1, 0, 0, 0, 0, 0, 0, 0, 0, 0]], 'olímpicos': [[0, 0, 0, 0, 0, 1, 0, 0, 0, 0, 0, 0, 0, 0, 0]], 'seleção': [[0, 0, 0, 0, 0, 0, 1, 0, 1, 0, 0, 0, 0, 0, 0]], 'brasileira': [[0, 0, 0, 0, 0, 0, 1, 0, 0, 0, 0, 0, 0, 0, 0]], 'vai': [[0, 0, 0, 0, 0, 0, 1, 0, 0, 0, 0, 0, 0, 0, 0]], 'observar': [[0, 0, 0, 0, 0, 0, 1, 0, 0, 0, 0, 0, 0, 0, 0]], '35': [[0, 0, 0, 0, 0, 0, 1, 0, 0, 0, 0, 0, 0, 0, 0]], '40': [[0, 0, 0, 0, 0, 0, 1, 0, 0, 0, 0, 0, 0, 0, 0]], 'jogadores': [[0, 0, 0, 0, 0, 0, 1, 0, 0, 0, 0, 0, 0, 0, 0]], 'definir': [[0, 0, 0, 0, 0, 0, 1, 0, 0, 0, 0, 0, 0, 0, 0]], 'américa': [[0, 0, 0, 0, 0, 0, 1, 0, 0, 0, 0, 0, 0, 0, 0]], 'saiba': [[0, 0, 0, 0, 0, 0, 0, 1, 0, 0, 0, 0, 0, 0, 0]], 'escolha': [[0, 0, 0, 0, 0, 0, 0, 1, 0, 0, 0, 0, 0, 0, 0]], 'jurados': [[0, 0, 0, 0, 0, 0, 0, 1, 0, 0, 0, 0, 0, 0, 0]], 'votam': [[0, 0, 0, 0, 0, 0, 0, 1, 0, 0, 0, 0, 0, 0, 0]], 'bem': [[0, 0, 0, 0, 0, 0, 0, 0, 1, 0, 0, 0, 0, 0, 0]], 'amigos': [[0, 0, 0, 0, 0, 0, 0, 0, 1, 0, 0, 0, 0, 0, 0]], 'discute': [[0, 0, 0, 0, 0, 0, 0, 0, 1, 0, 0, 0, 0, 0, 0]], 'galvão': [[0, 0, 0, 0, 0, 0, 0, 0, 1, 0, 0, 0, 0, 0, 0]], 'dá': [[0, 0, 0, 0, 0, 0, 0, 0, 1, 0, 0, 0, 0, 0, 0]], 'recado': [[0, 0, 0, 0, 0, 0, 0, 0, 1, 0, 0, 0, 0, 0, 0]], 'tite': [[0, 0, 0, 0, 0, 0, 0, 0, 1, 0, 0, 0, 0, 0, 0]], 'cadê': [[0, 0, 0, 0, 0, 0, 0, 0, 1, 0, 0, 0, 0, 0, 0]], 'luan': [[0, 0, 0, 0, 0, 0, 0, 0, 1, 0, 0, 0, 0, 0, 0]], 'ifal-maceió': [[0, 0, 0, 0, 0, 0, 0, 0, 0, 1, 0, 0, 0, 0, 0]], 'convoca': [[0, 0, 0, 0, 0, 0, 0, 0, 0, 1, 0, 0, 0, 0, 0]], 'aprovados': [[0, 0, 0, 0, 0, 0, 0, 0, 0, 1, 0, 0, 0, 0, 0]], 'espera': [[0, 0, 0, 0, 0, 0, 0, 0, 0, 1, 0, 0, 0, 0, 0]], 'sisu': [[0, 0, 0, 0, 0, 0, 0, 0, 0, 1, 0, 0, 0, 0, 0]], 'chamada': [[0, 0, 0, 0, 0, 0, 0, 0, 0, 1, 0, 0, 0, 0, 0]], 'oral': [[0, 0, 0, 0, 0, 0, 0, 0, 0, 1, 0, 0, 0, 0, 0]], 'arrascaeta': [[0, 0, 0, 0, 0, 0, 0, 0, 0, 0, 1, 0, 0, 0, 0]], 'matías': [[0, 0, 0, 0, 0, 0, 0, 0, 0, 0, 1, 0, 0, 0, 0]], 'viña': [[0, 0, 0, 0, 0, 0, 0, 0, 0, 0, 1, 0, 0, 0, 0]], 'convocados': [[0, 0, 0, 0, 0, 0, 0, 0, 0, 0, 1, 0, 0, 0, 0]], 'uruguai': [[0, 0, 0, 0, 0, 0, 0, 0, 0, 0, 1, 0, 0, 0, 0]], 'eliminatórias': [[0, 0, 0, 0, 0, 0, 0, 0, 0, 0, 1, 0, 0, 0, 0]], 'além': [[0, 0, 0, 0, 0, 0, 0, 0, 0, 0, 1, 0, 0, 0, 0]], 'deles': [[0, 0, 0, 0, 0, 0, 0, 0, 0, 0, 1, 0, 0, 0, 0]], 'há': [[0, 0, 0, 0, 0, 0, 0, 0, 0, 0, 1, 0, 0, 0, 0]], 'outros': [[0, 0, 0, 0, 0, 0, 0, 0, 0, 0, 1, 0, 0, 0, 0]], 'destaques': [[0, 0, 0, 0, 0, 0, 0, 0, 0, 0, 1, 0, 0, 0, 0]], 'vinho': [[0, 0, 0, 0, 0, 0, 0, 0, 0, 0, 0, 1, 0, 0, 0]], 'rótulos': [[0, 0, 0, 0, 0, 0, 0, 0, 0, 0, 0, 1, 0, 0, 0]], 'destaque': [[0, 0, 0, 0, 0, 0, 0, 0, 0, 0, 0, 1, 0, 0, 0]], 'safra': [[0, 0, 0, 0, 0, 0, 0, 0, 0, 0, 0, 1, 0, 0, 0]], '2018': [[0, 0, 0, 0, 0, 0, 0, 0, 0, 0, 0, 1, 0, 0, 0]], 'palma': [[0, 0, 0, 0, 0, 0, 0, 0, 0, 0, 0, 0, 1, 0, 0]], 'ouro': [[0, 0, 0, 0, 0, 0, 0, 0, 0, 0, 0, 0, 1, 0, 0]], 'festival': [[0, 0, 0, 0, 0, 0, 0, 0, 0, 0, 0, 0, 1, 0, 0]], 'cannes': [[0, 0, 0, 0, 0, 0, 0, 0, 0, 0, 0, 0, 1, 0, 0]], 'estatísticas': [[0, 0, 0, 0, 0, 0, 0, 0, 0, 0, 0, 0, 0, 1, 0]], 'brasileirão': [[0, 0, 0, 0, 0, 0, 0, 0, 0, 0, 0, 0, 0, 1, 0]], 'série': [[0, 0, 0, 0, 0, 0, 0, 0, 0, 0, 0, 0, 0, 1, 0]], 'artilheiros': [[0, 0, 0, 0, 0, 0, 0, 0, 0, 0, 0, 0, 0, 1, 0]], 'garçons': [[0, 0, 0, 0, 0, 0, 0, 0, 0, 0, 0, 0, 0, 1, 0]], 'temporada': [[0, 0, 0, 0, 0, 0, 0, 0, 0, 0, 0, 0, 0, 1, 1]], 'setembro': [[0, 0, 0, 0, 0, 0, 0, 0, 0, 0, 0, 0, 0, 0, 1]], 'chegou': [[0, 0, 0, 0, 0, 0, 0, 0, 0, 0, 0, 0, 0, 0, 1]], 'calendário': [[0, 0, 0, 0, 0, 0, 0, 0, 0, 0, 0, 0, 0, 0, 1]], '2021': [[0, 0, 0, 0, 0, 0, 0, 0, 0, 0, 0, 0, 0, 0, 1]], 'futebol': [[0, 0, 0, 0, 0, 0, 0, 0, 0, 0, 0, 0, 0, 0, 1]], 'europeu': [[0, 0, 0, 0, 0, 0, 0, 0, 0, 0, 0, 0, 0, 0, 1]]}\n",
            "\n",
            "\n",
            "Resultado da recuperação dos documentos dado uma consulta, operação, matriz de incidências e coleção:\n",
            "[['Parasita é o grande vencedor do Oscar 2020, com quatro prêmios'], ['Oscar 2020: Confira lista completa de vencedores. Parasita e 1917 foram os grandes vencedores da noite'], ['Conheça os indicados ao Oscar 2020; Cerimônia de premiação acontece em fevereiro'], ['Oscar 2020: saiba como é a escolha dos jurados e como eles votam']]\n"
          ],
          "name": "stdout"
        }
      ]
    }
  ]
}